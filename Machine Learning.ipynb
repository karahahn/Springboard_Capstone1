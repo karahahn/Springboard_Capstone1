{
 "cells": [
  {
   "cell_type": "markdown",
   "metadata": {},
   "source": [
    "# Import necessary packages"
   ]
  },
  {
   "cell_type": "code",
   "execution_count": 1,
   "metadata": {},
   "outputs": [],
   "source": [
    "import pandas as pd\n",
    "import numpy as np\n",
    "import matplotlib as mpl\n",
    "from matplotlib import pyplot as plt\n",
    "import seaborn as sns\n",
    "import datetime as dt\n",
    "%matplotlib inline\n",
    "\n",
    "from sklearn import linear_model\n",
    "from sklearn import metrics\n",
    "from sklearn import model_selection\n",
    "from sklearn.linear_model import LinearRegression\n",
    "from sklearn.metrics import mean_squared_error\n",
    "from sklearn.model_selection import train_test_split\n",
    "from sklearn.ensemble import RandomForestRegressor\n",
    "\n",
    "from scipy import stats\n",
    "from statsmodels.formula.api import ols"
   ]
  },
  {
   "cell_type": "markdown",
   "metadata": {},
   "source": [
    "# Raw DataFrames"
   ]
  },
  {
   "cell_type": "code",
   "execution_count": 2,
   "metadata": {},
   "outputs": [],
   "source": [
    "# global land temperature data by city, with latitude/longitude values\n",
    "filename = 'Global-Land-Temperatures-By-City.csv'\n",
    "temp_df = pd.read_csv(filename)"
   ]
  },
  {
   "cell_type": "code",
   "execution_count": 3,
   "metadata": {},
   "outputs": [],
   "source": [
    "# US federal emergency data, join on county\n",
    "filename1 = 'federal_emergencies.csv'\n",
    "disaster_df = pd.read_csv(filename1)"
   ]
  },
  {
   "cell_type": "code",
   "execution_count": 4,
   "metadata": {},
   "outputs": [],
   "source": [
    "# data of latitude/longitude and county to merge two dataframes\n",
    "filename2 = 'zip_codes_states.csv'\n",
    "us_join = pd.read_csv(filename2)"
   ]
  },
  {
   "cell_type": "markdown",
   "metadata": {},
   "source": [
    "# Cleaning steps"
   ]
  },
  {
   "cell_type": "code",
   "execution_count": 5,
   "metadata": {},
   "outputs": [],
   "source": [
    "# temp_df: drop all countries except US and drop NaN values\n",
    "temp_us = temp_df[temp_df['Country'] == 'United States'].dropna()"
   ]
  },
  {
   "cell_type": "code",
   "execution_count": 6,
   "metadata": {},
   "outputs": [],
   "source": [
    "# temp_df: create new lat/long columns dropping NESW direction\n",
    "temp_us['lat_n'] = [float(lat[:-1]) if lat[-1]=='N' else -1*float(lat[:-1]) for lat in temp_us.loc[:,'Latitude']]\n",
    "temp_us['lon_n'] = [float(lon[:-1]) if lon[-1]=='E' else -1*float(lon[:-1]) for lon in temp_us.loc[:,'Longitude']]"
   ]
  },
  {
   "cell_type": "code",
   "execution_count": 7,
   "metadata": {},
   "outputs": [],
   "source": [
    "# unique coordinates in the temp_us dataframe\n",
    "temp_us_coords = temp_us[['lat_n','lon_n']].drop_duplicates()"
   ]
  },
  {
   "cell_type": "code",
   "execution_count": 8,
   "metadata": {},
   "outputs": [],
   "source": [
    "# function adds a column with pythagorean theorem \n",
    "def coord2loc(coords):\n",
    "    us2 = us_join.copy()\n",
    "    us2['dist'] = ((us2.latitude-coords.lat_n)**2+(us2.longitude-coords.lon_n)**2)**(1/2)\n",
    "    state = us2.loc[us2.dist==min(us2.dist)]['state'].values[0]\n",
    "    county = us2.loc[us2.dist==min(us2.dist)]['county'].values[0]\n",
    "    return([coords.lat_n,coords.lon_n,state,county])"
   ]
  },
  {
   "cell_type": "code",
   "execution_count": 9,
   "metadata": {},
   "outputs": [],
   "source": [
    "# create dataframe to join on between\n",
    "join = pd.DataFrame([coord2loc(coords[1]) for coords in temp_us_coords.iterrows()])\n",
    "join.columns = ['lat_n','lon_n','state','county']"
   ]
  },
  {
   "cell_type": "code",
   "execution_count": 10,
   "metadata": {},
   "outputs": [],
   "source": [
    "# merge temp_df and us_join\n",
    "temp_county = pd.merge(temp_us, join, how='left', on = ['lat_n', 'lon_n'])"
   ]
  },
  {
   "cell_type": "code",
   "execution_count": 11,
   "metadata": {},
   "outputs": [],
   "source": [
    "# add \"County\" to the end of the county names to join on the disaster dataframe\n",
    "temp_county['countyname'] = temp_county.county +' County'"
   ]
  },
  {
   "cell_type": "code",
   "execution_count": 12,
   "metadata": {},
   "outputs": [],
   "source": [
    "temp_county['dt'] = pd.to_datetime(temp_county['dt'], format='%Y/%m/%d')\n",
    "temp_county['year'] = temp_county['dt'].dt.year"
   ]
  },
  {
   "cell_type": "code",
   "execution_count": 13,
   "metadata": {},
   "outputs": [
    {
     "data": {
      "text/html": [
       "<div>\n",
       "<style scoped>\n",
       "    .dataframe tbody tr th:only-of-type {\n",
       "        vertical-align: middle;\n",
       "    }\n",
       "\n",
       "    .dataframe tbody tr th {\n",
       "        vertical-align: top;\n",
       "    }\n",
       "\n",
       "    .dataframe thead th {\n",
       "        text-align: right;\n",
       "    }\n",
       "</style>\n",
       "<table border=\"1\" class=\"dataframe\">\n",
       "  <thead>\n",
       "    <tr style=\"text-align: right;\">\n",
       "      <th></th>\n",
       "      <th>dt</th>\n",
       "      <th>AverageTemperature</th>\n",
       "      <th>AverageTemperatureUncertainty</th>\n",
       "      <th>City</th>\n",
       "      <th>Country</th>\n",
       "      <th>Latitude</th>\n",
       "      <th>Longitude</th>\n",
       "      <th>lat_n</th>\n",
       "      <th>lon_n</th>\n",
       "      <th>state</th>\n",
       "      <th>county</th>\n",
       "      <th>countyname</th>\n",
       "      <th>year</th>\n",
       "    </tr>\n",
       "  </thead>\n",
       "  <tbody>\n",
       "    <tr>\n",
       "      <th>0</th>\n",
       "      <td>1820-01-01</td>\n",
       "      <td>2.101</td>\n",
       "      <td>3.217</td>\n",
       "      <td>Abilene</td>\n",
       "      <td>United States</td>\n",
       "      <td>32.95N</td>\n",
       "      <td>100.53W</td>\n",
       "      <td>32.95</td>\n",
       "      <td>-100.53</td>\n",
       "      <td>TX</td>\n",
       "      <td>Fisher</td>\n",
       "      <td>Fisher County</td>\n",
       "      <td>1820</td>\n",
       "    </tr>\n",
       "    <tr>\n",
       "      <th>1</th>\n",
       "      <td>1820-02-01</td>\n",
       "      <td>6.926</td>\n",
       "      <td>2.853</td>\n",
       "      <td>Abilene</td>\n",
       "      <td>United States</td>\n",
       "      <td>32.95N</td>\n",
       "      <td>100.53W</td>\n",
       "      <td>32.95</td>\n",
       "      <td>-100.53</td>\n",
       "      <td>TX</td>\n",
       "      <td>Fisher</td>\n",
       "      <td>Fisher County</td>\n",
       "      <td>1820</td>\n",
       "    </tr>\n",
       "    <tr>\n",
       "      <th>2</th>\n",
       "      <td>1820-03-01</td>\n",
       "      <td>10.767</td>\n",
       "      <td>2.395</td>\n",
       "      <td>Abilene</td>\n",
       "      <td>United States</td>\n",
       "      <td>32.95N</td>\n",
       "      <td>100.53W</td>\n",
       "      <td>32.95</td>\n",
       "      <td>-100.53</td>\n",
       "      <td>TX</td>\n",
       "      <td>Fisher</td>\n",
       "      <td>Fisher County</td>\n",
       "      <td>1820</td>\n",
       "    </tr>\n",
       "    <tr>\n",
       "      <th>3</th>\n",
       "      <td>1820-04-01</td>\n",
       "      <td>17.989</td>\n",
       "      <td>2.202</td>\n",
       "      <td>Abilene</td>\n",
       "      <td>United States</td>\n",
       "      <td>32.95N</td>\n",
       "      <td>100.53W</td>\n",
       "      <td>32.95</td>\n",
       "      <td>-100.53</td>\n",
       "      <td>TX</td>\n",
       "      <td>Fisher</td>\n",
       "      <td>Fisher County</td>\n",
       "      <td>1820</td>\n",
       "    </tr>\n",
       "    <tr>\n",
       "      <th>4</th>\n",
       "      <td>1820-05-01</td>\n",
       "      <td>21.809</td>\n",
       "      <td>2.036</td>\n",
       "      <td>Abilene</td>\n",
       "      <td>United States</td>\n",
       "      <td>32.95N</td>\n",
       "      <td>100.53W</td>\n",
       "      <td>32.95</td>\n",
       "      <td>-100.53</td>\n",
       "      <td>TX</td>\n",
       "      <td>Fisher</td>\n",
       "      <td>Fisher County</td>\n",
       "      <td>1820</td>\n",
       "    </tr>\n",
       "  </tbody>\n",
       "</table>\n",
       "</div>"
      ],
      "text/plain": [
       "          dt  AverageTemperature  AverageTemperatureUncertainty     City  \\\n",
       "0 1820-01-01               2.101                          3.217  Abilene   \n",
       "1 1820-02-01               6.926                          2.853  Abilene   \n",
       "2 1820-03-01              10.767                          2.395  Abilene   \n",
       "3 1820-04-01              17.989                          2.202  Abilene   \n",
       "4 1820-05-01              21.809                          2.036  Abilene   \n",
       "\n",
       "         Country Latitude Longitude  lat_n   lon_n state  county  \\\n",
       "0  United States   32.95N   100.53W  32.95 -100.53    TX  Fisher   \n",
       "1  United States   32.95N   100.53W  32.95 -100.53    TX  Fisher   \n",
       "2  United States   32.95N   100.53W  32.95 -100.53    TX  Fisher   \n",
       "3  United States   32.95N   100.53W  32.95 -100.53    TX  Fisher   \n",
       "4  United States   32.95N   100.53W  32.95 -100.53    TX  Fisher   \n",
       "\n",
       "      countyname  year  \n",
       "0  Fisher County  1820  \n",
       "1  Fisher County  1820  \n",
       "2  Fisher County  1820  \n",
       "3  Fisher County  1820  \n",
       "4  Fisher County  1820  "
      ]
     },
     "execution_count": 13,
     "metadata": {},
     "output_type": "execute_result"
    }
   ],
   "source": [
    "temp_county.head()"
   ]
  },
  {
   "cell_type": "code",
   "execution_count": 14,
   "metadata": {},
   "outputs": [],
   "source": [
    "# Extract month number for each row\n",
    "temp_county_seasons = temp_county.copy()\n",
    "temp_county_seasons['month'] = temp_county_seasons['dt'].dt.month"
   ]
  },
  {
   "cell_type": "code",
   "execution_count": 15,
   "metadata": {},
   "outputs": [],
   "source": [
    "# Assign seasons to each date\n",
    "temp_county_seasons['month'] = temp_county_seasons['month'].astype(str).astype(int)\n",
    "season_map = {12: 'Winter', 1: 'Winter', 2: 'Winter', \n",
    "              3: 'Spring', 4: 'Spring', 5: 'Spring', \n",
    "              6: 'Summer', 7: 'Summer', 8: 'Summer', \n",
    "              9: 'Fall', 10: 'Fall', 11: 'Fall'}\n",
    "def mapper(month):\n",
    "    return season_map[month]\n",
    "temp_county_seasons['season'] = temp_county_seasons['month'].apply(mapper)"
   ]
  },
  {
   "cell_type": "code",
   "execution_count": 16,
   "metadata": {},
   "outputs": [],
   "source": [
    "# Assign United States common regions to the states\n",
    "## Midwest Region\n",
    "east_north_central_midwest_region = ['IL','IN','MI','OH','WI']\n",
    "d1 = dict.fromkeys(east_north_central_midwest_region, 'east north central midwest region')\n",
    "\n",
    "west_north_central_midwest_region = ['IA','KS','MO','MN','ND','SD','NE']\n",
    "d2 = dict.fromkeys(west_north_central_midwest_region, 'west north central midwest region')\n",
    "\n",
    "## Northeast Region\n",
    "new_england_northeast_region = ['CT','ME','MA','NH','RI','VT']\n",
    "d3 = dict.fromkeys(new_england_northeast_region, 'new england northeast region')\n",
    "\n",
    "midatlantic_northeast_region = ['NY','PA','NJ']\n",
    "d4 = dict.fromkeys(midatlantic_northeast_region, 'midatlantic northeast region')\n",
    "\n",
    "## West Region\n",
    "pacific_west_region = ['AK','OR','WA','CA','HI']\n",
    "d5 = dict.fromkeys(pacific_west_region, 'pacific west region')\n",
    "\n",
    "mountain_west_region = ['AZ','CO','NM','UT','NV','WY','ID','MT']\n",
    "d6 = dict.fromkeys(mountain_west_region, 'mountain west region')\n",
    "\n",
    "## South Region\n",
    "west_south_central_south_region = ['AR','LA','OK','TX']\n",
    "d7 = dict.fromkeys(west_south_central_south_region, 'west south central south region')\n",
    "\n",
    "east_south_central_south_region = ['AL','MS','TN','KY']\n",
    "d8 = dict.fromkeys(east_south_central_south_region, 'east south central south region')\n",
    "\n",
    "south_atlantic_south_region = ['WV','MD','DC','DE','VA','NC','SC','GA','FL']\n",
    "d9 = dict.fromkeys(south_atlantic_south_region, 'south atlantic south region')\n"
   ]
  },
  {
   "cell_type": "code",
   "execution_count": 17,
   "metadata": {},
   "outputs": [],
   "source": [
    "temp_county_region = temp_county_seasons.copy()\n",
    "d = {**d1, **d2, **d3, **d4, **d5, **d6, **d7, **d8, **d9}\n",
    "temp_county_region['region'] = temp_county_region['state'].map(d)"
   ]
  },
  {
   "cell_type": "code",
   "execution_count": 18,
   "metadata": {},
   "outputs": [],
   "source": [
    "temp_county_region['date_delta'] = (temp_county_region['dt'] - temp_county_region['dt'].min())  / np.timedelta64(1,'D')\n"
   ]
  },
  {
   "cell_type": "markdown",
   "metadata": {},
   "source": [
    "#### Join for RF Model"
   ]
  },
  {
   "cell_type": "code",
   "execution_count": 19,
   "metadata": {},
   "outputs": [
    {
     "data": {
      "text/html": [
       "<div>\n",
       "<style scoped>\n",
       "    .dataframe tbody tr th:only-of-type {\n",
       "        vertical-align: middle;\n",
       "    }\n",
       "\n",
       "    .dataframe tbody tr th {\n",
       "        vertical-align: top;\n",
       "    }\n",
       "\n",
       "    .dataframe thead th {\n",
       "        text-align: right;\n",
       "    }\n",
       "</style>\n",
       "<table border=\"1\" class=\"dataframe\">\n",
       "  <thead>\n",
       "    <tr style=\"text-align: right;\">\n",
       "      <th></th>\n",
       "      <th>dt</th>\n",
       "      <th>AverageTemperature</th>\n",
       "      <th>AverageTemperatureUncertainty</th>\n",
       "      <th>City</th>\n",
       "      <th>Country</th>\n",
       "      <th>Latitude</th>\n",
       "      <th>Longitude</th>\n",
       "      <th>lat_n</th>\n",
       "      <th>lon_n</th>\n",
       "      <th>state</th>\n",
       "      <th>county</th>\n",
       "      <th>countyname</th>\n",
       "      <th>year</th>\n",
       "      <th>month</th>\n",
       "      <th>season</th>\n",
       "      <th>region</th>\n",
       "      <th>date_delta</th>\n",
       "    </tr>\n",
       "  </thead>\n",
       "  <tbody>\n",
       "    <tr>\n",
       "      <th>0</th>\n",
       "      <td>1820-01-01</td>\n",
       "      <td>2.101</td>\n",
       "      <td>3.217</td>\n",
       "      <td>Abilene</td>\n",
       "      <td>United States</td>\n",
       "      <td>32.95N</td>\n",
       "      <td>100.53W</td>\n",
       "      <td>32.95</td>\n",
       "      <td>-100.53</td>\n",
       "      <td>TX</td>\n",
       "      <td>Fisher</td>\n",
       "      <td>Fisher County</td>\n",
       "      <td>1820</td>\n",
       "      <td>1</td>\n",
       "      <td>Winter</td>\n",
       "      <td>west south central south region</td>\n",
       "      <td>27819.0</td>\n",
       "    </tr>\n",
       "    <tr>\n",
       "      <th>1</th>\n",
       "      <td>1820-02-01</td>\n",
       "      <td>6.926</td>\n",
       "      <td>2.853</td>\n",
       "      <td>Abilene</td>\n",
       "      <td>United States</td>\n",
       "      <td>32.95N</td>\n",
       "      <td>100.53W</td>\n",
       "      <td>32.95</td>\n",
       "      <td>-100.53</td>\n",
       "      <td>TX</td>\n",
       "      <td>Fisher</td>\n",
       "      <td>Fisher County</td>\n",
       "      <td>1820</td>\n",
       "      <td>2</td>\n",
       "      <td>Winter</td>\n",
       "      <td>west south central south region</td>\n",
       "      <td>27850.0</td>\n",
       "    </tr>\n",
       "    <tr>\n",
       "      <th>2</th>\n",
       "      <td>1820-03-01</td>\n",
       "      <td>10.767</td>\n",
       "      <td>2.395</td>\n",
       "      <td>Abilene</td>\n",
       "      <td>United States</td>\n",
       "      <td>32.95N</td>\n",
       "      <td>100.53W</td>\n",
       "      <td>32.95</td>\n",
       "      <td>-100.53</td>\n",
       "      <td>TX</td>\n",
       "      <td>Fisher</td>\n",
       "      <td>Fisher County</td>\n",
       "      <td>1820</td>\n",
       "      <td>3</td>\n",
       "      <td>Spring</td>\n",
       "      <td>west south central south region</td>\n",
       "      <td>27879.0</td>\n",
       "    </tr>\n",
       "    <tr>\n",
       "      <th>3</th>\n",
       "      <td>1820-04-01</td>\n",
       "      <td>17.989</td>\n",
       "      <td>2.202</td>\n",
       "      <td>Abilene</td>\n",
       "      <td>United States</td>\n",
       "      <td>32.95N</td>\n",
       "      <td>100.53W</td>\n",
       "      <td>32.95</td>\n",
       "      <td>-100.53</td>\n",
       "      <td>TX</td>\n",
       "      <td>Fisher</td>\n",
       "      <td>Fisher County</td>\n",
       "      <td>1820</td>\n",
       "      <td>4</td>\n",
       "      <td>Spring</td>\n",
       "      <td>west south central south region</td>\n",
       "      <td>27910.0</td>\n",
       "    </tr>\n",
       "    <tr>\n",
       "      <th>4</th>\n",
       "      <td>1820-05-01</td>\n",
       "      <td>21.809</td>\n",
       "      <td>2.036</td>\n",
       "      <td>Abilene</td>\n",
       "      <td>United States</td>\n",
       "      <td>32.95N</td>\n",
       "      <td>100.53W</td>\n",
       "      <td>32.95</td>\n",
       "      <td>-100.53</td>\n",
       "      <td>TX</td>\n",
       "      <td>Fisher</td>\n",
       "      <td>Fisher County</td>\n",
       "      <td>1820</td>\n",
       "      <td>5</td>\n",
       "      <td>Spring</td>\n",
       "      <td>west south central south region</td>\n",
       "      <td>27940.0</td>\n",
       "    </tr>\n",
       "  </tbody>\n",
       "</table>\n",
       "</div>"
      ],
      "text/plain": [
       "          dt  AverageTemperature  AverageTemperatureUncertainty     City  \\\n",
       "0 1820-01-01               2.101                          3.217  Abilene   \n",
       "1 1820-02-01               6.926                          2.853  Abilene   \n",
       "2 1820-03-01              10.767                          2.395  Abilene   \n",
       "3 1820-04-01              17.989                          2.202  Abilene   \n",
       "4 1820-05-01              21.809                          2.036  Abilene   \n",
       "\n",
       "         Country Latitude Longitude  lat_n   lon_n state  county  \\\n",
       "0  United States   32.95N   100.53W  32.95 -100.53    TX  Fisher   \n",
       "1  United States   32.95N   100.53W  32.95 -100.53    TX  Fisher   \n",
       "2  United States   32.95N   100.53W  32.95 -100.53    TX  Fisher   \n",
       "3  United States   32.95N   100.53W  32.95 -100.53    TX  Fisher   \n",
       "4  United States   32.95N   100.53W  32.95 -100.53    TX  Fisher   \n",
       "\n",
       "      countyname  year  month  season                           region  \\\n",
       "0  Fisher County  1820      1  Winter  west south central south region   \n",
       "1  Fisher County  1820      2  Winter  west south central south region   \n",
       "2  Fisher County  1820      3  Spring  west south central south region   \n",
       "3  Fisher County  1820      4  Spring  west south central south region   \n",
       "4  Fisher County  1820      5  Spring  west south central south region   \n",
       "\n",
       "   date_delta  \n",
       "0     27819.0  \n",
       "1     27850.0  \n",
       "2     27879.0  \n",
       "3     27910.0  \n",
       "4     27940.0  "
      ]
     },
     "execution_count": 19,
     "metadata": {},
     "output_type": "execute_result"
    }
   ],
   "source": [
    "temp_county_region.head()"
   ]
  },
  {
   "cell_type": "code",
   "execution_count": 20,
   "metadata": {},
   "outputs": [],
   "source": [
    "# disaster data - create year column\n",
    "disasterdf = disaster_df.copy()\n",
    "disasterdf['Declaration Date'] = pd.to_datetime(disasterdf['Declaration Date'], format='%m/%d/%Y')\n",
    "disasterdf['Year'] = disasterdf['Declaration Date'].dt.year\n",
    "\n",
    "# create region column\n",
    "disasterdf['Region'] = disasterdf['State'].map(d)\n",
    "\n",
    "# select columns for merge \n",
    "disasterdf = disasterdf[['Declaration Type','Declaration Date','State','County','Disaster Type','Year','Region']]\n"
   ]
  },
  {
   "cell_type": "code",
   "execution_count": 21,
   "metadata": {
    "scrolled": true
   },
   "outputs": [],
   "source": [
    "# disaster data - delete duplicate listing of disasters on the same day (ie. unique disaster per day per state)\n",
    "disasterdf = disasterdf.drop_duplicates(subset=['Declaration Date','Disaster Type','State','Year']).sort_values('Declaration Date')\n",
    "\n",
    "# select top 5 disasters\n",
    "disasterdf = disasterdf[disasterdf['Disaster Type'].isin(['Tornado','Flood','Fire','Hurricane','Storm'])]\n",
    "\n",
    "# create new disaster count column \n",
    "disasterdf['Disaster Count'] = disasterdf['Disaster Type']\n"
   ]
  },
  {
   "cell_type": "code",
   "execution_count": 22,
   "metadata": {
    "scrolled": true
   },
   "outputs": [
    {
     "data": {
      "text/html": [
       "<div>\n",
       "<style scoped>\n",
       "    .dataframe tbody tr th:only-of-type {\n",
       "        vertical-align: middle;\n",
       "    }\n",
       "\n",
       "    .dataframe tbody tr th {\n",
       "        vertical-align: top;\n",
       "    }\n",
       "\n",
       "    .dataframe thead th {\n",
       "        text-align: right;\n",
       "    }\n",
       "</style>\n",
       "<table border=\"1\" class=\"dataframe\">\n",
       "  <thead>\n",
       "    <tr style=\"text-align: right;\">\n",
       "      <th></th>\n",
       "      <th>Region</th>\n",
       "      <th>Disaster Type</th>\n",
       "      <th>Year</th>\n",
       "      <th>Disaster Count</th>\n",
       "    </tr>\n",
       "  </thead>\n",
       "  <tbody>\n",
       "    <tr>\n",
       "      <th>0</th>\n",
       "      <td>east north central midwest region</td>\n",
       "      <td>Fire</td>\n",
       "      <td>1953</td>\n",
       "      <td>0</td>\n",
       "    </tr>\n",
       "    <tr>\n",
       "      <th>1</th>\n",
       "      <td>east north central midwest region</td>\n",
       "      <td>Fire</td>\n",
       "      <td>1954</td>\n",
       "      <td>0</td>\n",
       "    </tr>\n",
       "    <tr>\n",
       "      <th>2</th>\n",
       "      <td>east north central midwest region</td>\n",
       "      <td>Fire</td>\n",
       "      <td>1955</td>\n",
       "      <td>0</td>\n",
       "    </tr>\n",
       "    <tr>\n",
       "      <th>3</th>\n",
       "      <td>east north central midwest region</td>\n",
       "      <td>Fire</td>\n",
       "      <td>1956</td>\n",
       "      <td>0</td>\n",
       "    </tr>\n",
       "    <tr>\n",
       "      <th>4</th>\n",
       "      <td>east north central midwest region</td>\n",
       "      <td>Fire</td>\n",
       "      <td>1957</td>\n",
       "      <td>0</td>\n",
       "    </tr>\n",
       "    <tr>\n",
       "      <th>5</th>\n",
       "      <td>east north central midwest region</td>\n",
       "      <td>Fire</td>\n",
       "      <td>1958</td>\n",
       "      <td>0</td>\n",
       "    </tr>\n",
       "    <tr>\n",
       "      <th>6</th>\n",
       "      <td>east north central midwest region</td>\n",
       "      <td>Fire</td>\n",
       "      <td>1959</td>\n",
       "      <td>0</td>\n",
       "    </tr>\n",
       "    <tr>\n",
       "      <th>7</th>\n",
       "      <td>east north central midwest region</td>\n",
       "      <td>Fire</td>\n",
       "      <td>1960</td>\n",
       "      <td>0</td>\n",
       "    </tr>\n",
       "    <tr>\n",
       "      <th>8</th>\n",
       "      <td>east north central midwest region</td>\n",
       "      <td>Fire</td>\n",
       "      <td>1961</td>\n",
       "      <td>0</td>\n",
       "    </tr>\n",
       "    <tr>\n",
       "      <th>9</th>\n",
       "      <td>east north central midwest region</td>\n",
       "      <td>Fire</td>\n",
       "      <td>1962</td>\n",
       "      <td>0</td>\n",
       "    </tr>\n",
       "    <tr>\n",
       "      <th>10</th>\n",
       "      <td>east north central midwest region</td>\n",
       "      <td>Fire</td>\n",
       "      <td>1963</td>\n",
       "      <td>0</td>\n",
       "    </tr>\n",
       "    <tr>\n",
       "      <th>11</th>\n",
       "      <td>east north central midwest region</td>\n",
       "      <td>Fire</td>\n",
       "      <td>1964</td>\n",
       "      <td>0</td>\n",
       "    </tr>\n",
       "    <tr>\n",
       "      <th>12</th>\n",
       "      <td>east north central midwest region</td>\n",
       "      <td>Fire</td>\n",
       "      <td>1965</td>\n",
       "      <td>0</td>\n",
       "    </tr>\n",
       "    <tr>\n",
       "      <th>13</th>\n",
       "      <td>east north central midwest region</td>\n",
       "      <td>Fire</td>\n",
       "      <td>1966</td>\n",
       "      <td>0</td>\n",
       "    </tr>\n",
       "    <tr>\n",
       "      <th>14</th>\n",
       "      <td>east north central midwest region</td>\n",
       "      <td>Fire</td>\n",
       "      <td>1967</td>\n",
       "      <td>0</td>\n",
       "    </tr>\n",
       "    <tr>\n",
       "      <th>15</th>\n",
       "      <td>east north central midwest region</td>\n",
       "      <td>Fire</td>\n",
       "      <td>1968</td>\n",
       "      <td>0</td>\n",
       "    </tr>\n",
       "    <tr>\n",
       "      <th>16</th>\n",
       "      <td>east north central midwest region</td>\n",
       "      <td>Fire</td>\n",
       "      <td>1969</td>\n",
       "      <td>0</td>\n",
       "    </tr>\n",
       "    <tr>\n",
       "      <th>17</th>\n",
       "      <td>east north central midwest region</td>\n",
       "      <td>Fire</td>\n",
       "      <td>1970</td>\n",
       "      <td>0</td>\n",
       "    </tr>\n",
       "    <tr>\n",
       "      <th>18</th>\n",
       "      <td>east north central midwest region</td>\n",
       "      <td>Fire</td>\n",
       "      <td>1971</td>\n",
       "      <td>0</td>\n",
       "    </tr>\n",
       "    <tr>\n",
       "      <th>19</th>\n",
       "      <td>east north central midwest region</td>\n",
       "      <td>Fire</td>\n",
       "      <td>1972</td>\n",
       "      <td>0</td>\n",
       "    </tr>\n",
       "    <tr>\n",
       "      <th>20</th>\n",
       "      <td>east north central midwest region</td>\n",
       "      <td>Fire</td>\n",
       "      <td>1973</td>\n",
       "      <td>0</td>\n",
       "    </tr>\n",
       "    <tr>\n",
       "      <th>21</th>\n",
       "      <td>east north central midwest region</td>\n",
       "      <td>Fire</td>\n",
       "      <td>1974</td>\n",
       "      <td>0</td>\n",
       "    </tr>\n",
       "    <tr>\n",
       "      <th>22</th>\n",
       "      <td>east north central midwest region</td>\n",
       "      <td>Fire</td>\n",
       "      <td>1975</td>\n",
       "      <td>0</td>\n",
       "    </tr>\n",
       "    <tr>\n",
       "      <th>23</th>\n",
       "      <td>east north central midwest region</td>\n",
       "      <td>Fire</td>\n",
       "      <td>1976</td>\n",
       "      <td>0</td>\n",
       "    </tr>\n",
       "    <tr>\n",
       "      <th>24</th>\n",
       "      <td>east north central midwest region</td>\n",
       "      <td>Fire</td>\n",
       "      <td>1977</td>\n",
       "      <td>0</td>\n",
       "    </tr>\n",
       "    <tr>\n",
       "      <th>25</th>\n",
       "      <td>east north central midwest region</td>\n",
       "      <td>Fire</td>\n",
       "      <td>1978</td>\n",
       "      <td>0</td>\n",
       "    </tr>\n",
       "    <tr>\n",
       "      <th>26</th>\n",
       "      <td>east north central midwest region</td>\n",
       "      <td>Fire</td>\n",
       "      <td>1979</td>\n",
       "      <td>0</td>\n",
       "    </tr>\n",
       "    <tr>\n",
       "      <th>27</th>\n",
       "      <td>east north central midwest region</td>\n",
       "      <td>Fire</td>\n",
       "      <td>1980</td>\n",
       "      <td>0</td>\n",
       "    </tr>\n",
       "    <tr>\n",
       "      <th>28</th>\n",
       "      <td>east north central midwest region</td>\n",
       "      <td>Fire</td>\n",
       "      <td>1981</td>\n",
       "      <td>0</td>\n",
       "    </tr>\n",
       "    <tr>\n",
       "      <th>29</th>\n",
       "      <td>east north central midwest region</td>\n",
       "      <td>Fire</td>\n",
       "      <td>1982</td>\n",
       "      <td>0</td>\n",
       "    </tr>\n",
       "    <tr>\n",
       "      <th>...</th>\n",
       "      <td>...</td>\n",
       "      <td>...</td>\n",
       "      <td>...</td>\n",
       "      <td>...</td>\n",
       "    </tr>\n",
       "    <tr>\n",
       "      <th>2830</th>\n",
       "      <td>west south central south region</td>\n",
       "      <td>Tornado</td>\n",
       "      <td>1988</td>\n",
       "      <td>1</td>\n",
       "    </tr>\n",
       "    <tr>\n",
       "      <th>2831</th>\n",
       "      <td>west south central south region</td>\n",
       "      <td>Tornado</td>\n",
       "      <td>1989</td>\n",
       "      <td>1</td>\n",
       "    </tr>\n",
       "    <tr>\n",
       "      <th>2832</th>\n",
       "      <td>west south central south region</td>\n",
       "      <td>Tornado</td>\n",
       "      <td>1990</td>\n",
       "      <td>0</td>\n",
       "    </tr>\n",
       "    <tr>\n",
       "      <th>2833</th>\n",
       "      <td>west south central south region</td>\n",
       "      <td>Tornado</td>\n",
       "      <td>1991</td>\n",
       "      <td>1</td>\n",
       "    </tr>\n",
       "    <tr>\n",
       "      <th>2834</th>\n",
       "      <td>west south central south region</td>\n",
       "      <td>Tornado</td>\n",
       "      <td>1992</td>\n",
       "      <td>2</td>\n",
       "    </tr>\n",
       "    <tr>\n",
       "      <th>2835</th>\n",
       "      <td>west south central south region</td>\n",
       "      <td>Tornado</td>\n",
       "      <td>1993</td>\n",
       "      <td>1</td>\n",
       "    </tr>\n",
       "    <tr>\n",
       "      <th>2836</th>\n",
       "      <td>west south central south region</td>\n",
       "      <td>Tornado</td>\n",
       "      <td>1994</td>\n",
       "      <td>0</td>\n",
       "    </tr>\n",
       "    <tr>\n",
       "      <th>2837</th>\n",
       "      <td>west south central south region</td>\n",
       "      <td>Tornado</td>\n",
       "      <td>1995</td>\n",
       "      <td>1</td>\n",
       "    </tr>\n",
       "    <tr>\n",
       "      <th>2838</th>\n",
       "      <td>west south central south region</td>\n",
       "      <td>Tornado</td>\n",
       "      <td>1996</td>\n",
       "      <td>0</td>\n",
       "    </tr>\n",
       "    <tr>\n",
       "      <th>2839</th>\n",
       "      <td>west south central south region</td>\n",
       "      <td>Tornado</td>\n",
       "      <td>1997</td>\n",
       "      <td>0</td>\n",
       "    </tr>\n",
       "    <tr>\n",
       "      <th>2840</th>\n",
       "      <td>west south central south region</td>\n",
       "      <td>Tornado</td>\n",
       "      <td>1998</td>\n",
       "      <td>1</td>\n",
       "    </tr>\n",
       "    <tr>\n",
       "      <th>2841</th>\n",
       "      <td>west south central south region</td>\n",
       "      <td>Tornado</td>\n",
       "      <td>1999</td>\n",
       "      <td>2</td>\n",
       "    </tr>\n",
       "    <tr>\n",
       "      <th>2842</th>\n",
       "      <td>west south central south region</td>\n",
       "      <td>Tornado</td>\n",
       "      <td>2000</td>\n",
       "      <td>1</td>\n",
       "    </tr>\n",
       "    <tr>\n",
       "      <th>2843</th>\n",
       "      <td>west south central south region</td>\n",
       "      <td>Tornado</td>\n",
       "      <td>2001</td>\n",
       "      <td>0</td>\n",
       "    </tr>\n",
       "    <tr>\n",
       "      <th>2844</th>\n",
       "      <td>west south central south region</td>\n",
       "      <td>Tornado</td>\n",
       "      <td>2002</td>\n",
       "      <td>0</td>\n",
       "    </tr>\n",
       "    <tr>\n",
       "      <th>2845</th>\n",
       "      <td>west south central south region</td>\n",
       "      <td>Tornado</td>\n",
       "      <td>2003</td>\n",
       "      <td>0</td>\n",
       "    </tr>\n",
       "    <tr>\n",
       "      <th>2846</th>\n",
       "      <td>west south central south region</td>\n",
       "      <td>Tornado</td>\n",
       "      <td>2004</td>\n",
       "      <td>0</td>\n",
       "    </tr>\n",
       "    <tr>\n",
       "      <th>2847</th>\n",
       "      <td>west south central south region</td>\n",
       "      <td>Tornado</td>\n",
       "      <td>2005</td>\n",
       "      <td>0</td>\n",
       "    </tr>\n",
       "    <tr>\n",
       "      <th>2848</th>\n",
       "      <td>west south central south region</td>\n",
       "      <td>Tornado</td>\n",
       "      <td>2006</td>\n",
       "      <td>0</td>\n",
       "    </tr>\n",
       "    <tr>\n",
       "      <th>2849</th>\n",
       "      <td>west south central south region</td>\n",
       "      <td>Tornado</td>\n",
       "      <td>2007</td>\n",
       "      <td>0</td>\n",
       "    </tr>\n",
       "    <tr>\n",
       "      <th>2850</th>\n",
       "      <td>west south central south region</td>\n",
       "      <td>Tornado</td>\n",
       "      <td>2008</td>\n",
       "      <td>0</td>\n",
       "    </tr>\n",
       "    <tr>\n",
       "      <th>2851</th>\n",
       "      <td>west south central south region</td>\n",
       "      <td>Tornado</td>\n",
       "      <td>2009</td>\n",
       "      <td>1</td>\n",
       "    </tr>\n",
       "    <tr>\n",
       "      <th>2852</th>\n",
       "      <td>west south central south region</td>\n",
       "      <td>Tornado</td>\n",
       "      <td>2010</td>\n",
       "      <td>0</td>\n",
       "    </tr>\n",
       "    <tr>\n",
       "      <th>2853</th>\n",
       "      <td>west south central south region</td>\n",
       "      <td>Tornado</td>\n",
       "      <td>2011</td>\n",
       "      <td>0</td>\n",
       "    </tr>\n",
       "    <tr>\n",
       "      <th>2854</th>\n",
       "      <td>west south central south region</td>\n",
       "      <td>Tornado</td>\n",
       "      <td>2012</td>\n",
       "      <td>0</td>\n",
       "    </tr>\n",
       "    <tr>\n",
       "      <th>2855</th>\n",
       "      <td>west south central south region</td>\n",
       "      <td>Tornado</td>\n",
       "      <td>2013</td>\n",
       "      <td>1</td>\n",
       "    </tr>\n",
       "    <tr>\n",
       "      <th>2856</th>\n",
       "      <td>west south central south region</td>\n",
       "      <td>Tornado</td>\n",
       "      <td>2014</td>\n",
       "      <td>0</td>\n",
       "    </tr>\n",
       "    <tr>\n",
       "      <th>2857</th>\n",
       "      <td>west south central south region</td>\n",
       "      <td>Tornado</td>\n",
       "      <td>2015</td>\n",
       "      <td>0</td>\n",
       "    </tr>\n",
       "    <tr>\n",
       "      <th>2858</th>\n",
       "      <td>west south central south region</td>\n",
       "      <td>Tornado</td>\n",
       "      <td>2016</td>\n",
       "      <td>0</td>\n",
       "    </tr>\n",
       "    <tr>\n",
       "      <th>2859</th>\n",
       "      <td>west south central south region</td>\n",
       "      <td>Tornado</td>\n",
       "      <td>2017</td>\n",
       "      <td>1</td>\n",
       "    </tr>\n",
       "  </tbody>\n",
       "</table>\n",
       "<p>2860 rows × 4 columns</p>\n",
       "</div>"
      ],
      "text/plain": [
       "                                 Region Disaster Type  Year  Disaster Count\n",
       "0     east north central midwest region          Fire  1953               0\n",
       "1     east north central midwest region          Fire  1954               0\n",
       "2     east north central midwest region          Fire  1955               0\n",
       "3     east north central midwest region          Fire  1956               0\n",
       "4     east north central midwest region          Fire  1957               0\n",
       "5     east north central midwest region          Fire  1958               0\n",
       "6     east north central midwest region          Fire  1959               0\n",
       "7     east north central midwest region          Fire  1960               0\n",
       "8     east north central midwest region          Fire  1961               0\n",
       "9     east north central midwest region          Fire  1962               0\n",
       "10    east north central midwest region          Fire  1963               0\n",
       "11    east north central midwest region          Fire  1964               0\n",
       "12    east north central midwest region          Fire  1965               0\n",
       "13    east north central midwest region          Fire  1966               0\n",
       "14    east north central midwest region          Fire  1967               0\n",
       "15    east north central midwest region          Fire  1968               0\n",
       "16    east north central midwest region          Fire  1969               0\n",
       "17    east north central midwest region          Fire  1970               0\n",
       "18    east north central midwest region          Fire  1971               0\n",
       "19    east north central midwest region          Fire  1972               0\n",
       "20    east north central midwest region          Fire  1973               0\n",
       "21    east north central midwest region          Fire  1974               0\n",
       "22    east north central midwest region          Fire  1975               0\n",
       "23    east north central midwest region          Fire  1976               0\n",
       "24    east north central midwest region          Fire  1977               0\n",
       "25    east north central midwest region          Fire  1978               0\n",
       "26    east north central midwest region          Fire  1979               0\n",
       "27    east north central midwest region          Fire  1980               0\n",
       "28    east north central midwest region          Fire  1981               0\n",
       "29    east north central midwest region          Fire  1982               0\n",
       "...                                 ...           ...   ...             ...\n",
       "2830    west south central south region       Tornado  1988               1\n",
       "2831    west south central south region       Tornado  1989               1\n",
       "2832    west south central south region       Tornado  1990               0\n",
       "2833    west south central south region       Tornado  1991               1\n",
       "2834    west south central south region       Tornado  1992               2\n",
       "2835    west south central south region       Tornado  1993               1\n",
       "2836    west south central south region       Tornado  1994               0\n",
       "2837    west south central south region       Tornado  1995               1\n",
       "2838    west south central south region       Tornado  1996               0\n",
       "2839    west south central south region       Tornado  1997               0\n",
       "2840    west south central south region       Tornado  1998               1\n",
       "2841    west south central south region       Tornado  1999               2\n",
       "2842    west south central south region       Tornado  2000               1\n",
       "2843    west south central south region       Tornado  2001               0\n",
       "2844    west south central south region       Tornado  2002               0\n",
       "2845    west south central south region       Tornado  2003               0\n",
       "2846    west south central south region       Tornado  2004               0\n",
       "2847    west south central south region       Tornado  2005               0\n",
       "2848    west south central south region       Tornado  2006               0\n",
       "2849    west south central south region       Tornado  2007               0\n",
       "2850    west south central south region       Tornado  2008               0\n",
       "2851    west south central south region       Tornado  2009               1\n",
       "2852    west south central south region       Tornado  2010               0\n",
       "2853    west south central south region       Tornado  2011               0\n",
       "2854    west south central south region       Tornado  2012               0\n",
       "2855    west south central south region       Tornado  2013               1\n",
       "2856    west south central south region       Tornado  2014               0\n",
       "2857    west south central south region       Tornado  2015               0\n",
       "2858    west south central south region       Tornado  2016               0\n",
       "2859    west south central south region       Tornado  2017               1\n",
       "\n",
       "[2860 rows x 4 columns]"
      ]
     },
     "execution_count": 22,
     "metadata": {},
     "output_type": "execute_result"
    }
   ],
   "source": [
    "# disaster data groupby, get disaster count by region, disaster type, and year\n",
    "disasterdf = disasterdf.groupby(['Region','Disaster Type','Year'])[['Disaster Count']].count().unstack(fill_value=0).stack().reset_index()\n",
    "disasterdf"
   ]
  },
  {
   "cell_type": "code",
   "execution_count": 23,
   "metadata": {},
   "outputs": [],
   "source": [
    "# copy of temperature data to organize for the join\n",
    "tempdf = temp_county_region.copy()\n",
    "tempdf = tempdf.sort_values('dt')"
   ]
  },
  {
   "cell_type": "code",
   "execution_count": 24,
   "metadata": {
    "scrolled": true
   },
   "outputs": [],
   "source": [
    "# select columns for join\n",
    "tempdf = tempdf[['year','AverageTemperature','season','region']]"
   ]
  },
  {
   "cell_type": "code",
   "execution_count": 25,
   "metadata": {
    "scrolled": true
   },
   "outputs": [],
   "source": [
    "# temperature data - feature engineer temperature by region and year\n",
    "tempdf = tempdf.groupby(['region','year']).agg({'AverageTemperature': ['mean','min','max','std']}).unstack(fill_value=0).stack().reset_index()\n",
    "tempdf.columns = [\"_\".join(x) for x in tempdf.columns.ravel()]"
   ]
  },
  {
   "cell_type": "code",
   "execution_count": 26,
   "metadata": {},
   "outputs": [],
   "source": [
    "# rename columns in temperature data frame\n",
    "tempdf = tempdf.rename(columns={\"region_\": \"region\", \"year_\": \"year\"});"
   ]
  },
  {
   "cell_type": "code",
   "execution_count": 27,
   "metadata": {},
   "outputs": [
    {
     "data": {
      "text/html": [
       "<div>\n",
       "<style scoped>\n",
       "    .dataframe tbody tr th:only-of-type {\n",
       "        vertical-align: middle;\n",
       "    }\n",
       "\n",
       "    .dataframe tbody tr th {\n",
       "        vertical-align: top;\n",
       "    }\n",
       "\n",
       "    .dataframe thead th {\n",
       "        text-align: right;\n",
       "    }\n",
       "</style>\n",
       "<table border=\"1\" class=\"dataframe\">\n",
       "  <thead>\n",
       "    <tr style=\"text-align: right;\">\n",
       "      <th></th>\n",
       "      <th>region</th>\n",
       "      <th>year</th>\n",
       "      <th>AverageTemperature_mean</th>\n",
       "      <th>AverageTemperature_min</th>\n",
       "      <th>AverageTemperature_max</th>\n",
       "      <th>AverageTemperature_std</th>\n",
       "    </tr>\n",
       "  </thead>\n",
       "  <tbody>\n",
       "    <tr>\n",
       "      <th>0</th>\n",
       "      <td>east north central midwest region</td>\n",
       "      <td>1743</td>\n",
       "      <td>3.101138</td>\n",
       "      <td>0.992</td>\n",
       "      <td>5.436</td>\n",
       "      <td>1.215334</td>\n",
       "    </tr>\n",
       "    <tr>\n",
       "      <th>1</th>\n",
       "      <td>east north central midwest region</td>\n",
       "      <td>1744</td>\n",
       "      <td>11.849349</td>\n",
       "      <td>-5.782</td>\n",
       "      <td>24.699</td>\n",
       "      <td>8.169105</td>\n",
       "    </tr>\n",
       "    <tr>\n",
       "      <th>2</th>\n",
       "      <td>east north central midwest region</td>\n",
       "      <td>1745</td>\n",
       "      <td>0.662147</td>\n",
       "      <td>-7.862</td>\n",
       "      <td>11.562</td>\n",
       "      <td>5.186148</td>\n",
       "    </tr>\n",
       "    <tr>\n",
       "      <th>3</th>\n",
       "      <td>east north central midwest region</td>\n",
       "      <td>1750</td>\n",
       "      <td>10.150147</td>\n",
       "      <td>-7.664</td>\n",
       "      <td>26.739</td>\n",
       "      <td>10.191365</td>\n",
       "    </tr>\n",
       "    <tr>\n",
       "      <th>4</th>\n",
       "      <td>east north central midwest region</td>\n",
       "      <td>1751</td>\n",
       "      <td>10.872681</td>\n",
       "      <td>-7.814</td>\n",
       "      <td>25.557</td>\n",
       "      <td>10.759784</td>\n",
       "    </tr>\n",
       "  </tbody>\n",
       "</table>\n",
       "</div>"
      ],
      "text/plain": [
       "                              region  year  AverageTemperature_mean  \\\n",
       "0  east north central midwest region  1743                 3.101138   \n",
       "1  east north central midwest region  1744                11.849349   \n",
       "2  east north central midwest region  1745                 0.662147   \n",
       "3  east north central midwest region  1750                10.150147   \n",
       "4  east north central midwest region  1751                10.872681   \n",
       "\n",
       "   AverageTemperature_min  AverageTemperature_max  AverageTemperature_std  \n",
       "0                   0.992                   5.436                1.215334  \n",
       "1                  -5.782                  24.699                8.169105  \n",
       "2                  -7.862                  11.562                5.186148  \n",
       "3                  -7.664                  26.739               10.191365  \n",
       "4                  -7.814                  25.557               10.759784  "
      ]
     },
     "execution_count": 27,
     "metadata": {},
     "output_type": "execute_result"
    }
   ],
   "source": [
    "tempdf.head()"
   ]
  },
  {
   "cell_type": "code",
   "execution_count": 28,
   "metadata": {},
   "outputs": [
    {
     "data": {
      "text/html": [
       "<div>\n",
       "<style scoped>\n",
       "    .dataframe tbody tr th:only-of-type {\n",
       "        vertical-align: middle;\n",
       "    }\n",
       "\n",
       "    .dataframe tbody tr th {\n",
       "        vertical-align: top;\n",
       "    }\n",
       "\n",
       "    .dataframe thead th {\n",
       "        text-align: right;\n",
       "    }\n",
       "</style>\n",
       "<table border=\"1\" class=\"dataframe\">\n",
       "  <thead>\n",
       "    <tr style=\"text-align: right;\">\n",
       "      <th>season</th>\n",
       "      <th>year</th>\n",
       "      <th>region</th>\n",
       "      <th>Fall</th>\n",
       "      <th>Spring</th>\n",
       "      <th>Summer</th>\n",
       "      <th>Winter</th>\n",
       "    </tr>\n",
       "  </thead>\n",
       "  <tbody>\n",
       "    <tr>\n",
       "      <th>0</th>\n",
       "      <td>1743</td>\n",
       "      <td>east north central midwest region</td>\n",
       "      <td>3.10114</td>\n",
       "      <td>NaN</td>\n",
       "      <td>NaN</td>\n",
       "      <td>NaN</td>\n",
       "    </tr>\n",
       "    <tr>\n",
       "      <th>1</th>\n",
       "      <td>1743</td>\n",
       "      <td>east south central south region</td>\n",
       "      <td>8.143</td>\n",
       "      <td>NaN</td>\n",
       "      <td>NaN</td>\n",
       "      <td>NaN</td>\n",
       "    </tr>\n",
       "    <tr>\n",
       "      <th>2</th>\n",
       "      <td>1743</td>\n",
       "      <td>midatlantic northeast region</td>\n",
       "      <td>3.77578</td>\n",
       "      <td>NaN</td>\n",
       "      <td>NaN</td>\n",
       "      <td>NaN</td>\n",
       "    </tr>\n",
       "    <tr>\n",
       "      <th>3</th>\n",
       "      <td>1743</td>\n",
       "      <td>new england northeast region</td>\n",
       "      <td>1.188</td>\n",
       "      <td>NaN</td>\n",
       "      <td>NaN</td>\n",
       "      <td>NaN</td>\n",
       "    </tr>\n",
       "    <tr>\n",
       "      <th>4</th>\n",
       "      <td>1743</td>\n",
       "      <td>south atlantic south region</td>\n",
       "      <td>10.9985</td>\n",
       "      <td>NaN</td>\n",
       "      <td>NaN</td>\n",
       "      <td>NaN</td>\n",
       "    </tr>\n",
       "  </tbody>\n",
       "</table>\n",
       "</div>"
      ],
      "text/plain": [
       "season  year                             region     Fall Spring Summer Winter\n",
       "0       1743  east north central midwest region  3.10114    NaN    NaN    NaN\n",
       "1       1743    east south central south region    8.143    NaN    NaN    NaN\n",
       "2       1743       midatlantic northeast region  3.77578    NaN    NaN    NaN\n",
       "3       1743       new england northeast region    1.188    NaN    NaN    NaN\n",
       "4       1743        south atlantic south region  10.9985    NaN    NaN    NaN"
      ]
     },
     "execution_count": 28,
     "metadata": {},
     "output_type": "execute_result"
    }
   ],
   "source": [
    "# create dataframe for seasonal temperature by year and region\n",
    "season = temp_county_region.pivot_table('AverageTemperature', index=['year','region'], columns='season', fill_value='NaN').reset_index()\n",
    "season.head()"
   ]
  },
  {
   "cell_type": "code",
   "execution_count": 29,
   "metadata": {},
   "outputs": [
    {
     "data": {
      "text/html": [
       "<div>\n",
       "<style scoped>\n",
       "    .dataframe tbody tr th:only-of-type {\n",
       "        vertical-align: middle;\n",
       "    }\n",
       "\n",
       "    .dataframe tbody tr th {\n",
       "        vertical-align: top;\n",
       "    }\n",
       "\n",
       "    .dataframe thead th {\n",
       "        text-align: right;\n",
       "    }\n",
       "</style>\n",
       "<table border=\"1\" class=\"dataframe\">\n",
       "  <thead>\n",
       "    <tr style=\"text-align: right;\">\n",
       "      <th></th>\n",
       "      <th>region</th>\n",
       "      <th>year</th>\n",
       "      <th>AverageTemperature_mean</th>\n",
       "      <th>AverageTemperature_min</th>\n",
       "      <th>AverageTemperature_max</th>\n",
       "      <th>AverageTemperature_std</th>\n",
       "      <th>Fall</th>\n",
       "      <th>Spring</th>\n",
       "      <th>Summer</th>\n",
       "      <th>Winter</th>\n",
       "    </tr>\n",
       "  </thead>\n",
       "  <tbody>\n",
       "    <tr>\n",
       "      <th>0</th>\n",
       "      <td>east north central midwest region</td>\n",
       "      <td>1743</td>\n",
       "      <td>3.101138</td>\n",
       "      <td>0.992</td>\n",
       "      <td>5.436</td>\n",
       "      <td>1.215334</td>\n",
       "      <td>3.10114</td>\n",
       "      <td>NaN</td>\n",
       "      <td>NaN</td>\n",
       "      <td>NaN</td>\n",
       "    </tr>\n",
       "    <tr>\n",
       "      <th>1</th>\n",
       "      <td>east north central midwest region</td>\n",
       "      <td>1744</td>\n",
       "      <td>11.849349</td>\n",
       "      <td>-5.782</td>\n",
       "      <td>24.699</td>\n",
       "      <td>8.169105</td>\n",
       "      <td>9.5243</td>\n",
       "      <td>12.7892</td>\n",
       "      <td>21.6998</td>\n",
       "      <td>-2.75593</td>\n",
       "    </tr>\n",
       "    <tr>\n",
       "      <th>2</th>\n",
       "      <td>east north central midwest region</td>\n",
       "      <td>1745</td>\n",
       "      <td>0.662147</td>\n",
       "      <td>-7.862</td>\n",
       "      <td>11.562</td>\n",
       "      <td>5.186148</td>\n",
       "      <td>NaN</td>\n",
       "      <td>4.76259</td>\n",
       "      <td>NaN</td>\n",
       "      <td>-3.43829</td>\n",
       "    </tr>\n",
       "    <tr>\n",
       "      <th>3</th>\n",
       "      <td>east north central midwest region</td>\n",
       "      <td>1750</td>\n",
       "      <td>10.150147</td>\n",
       "      <td>-7.664</td>\n",
       "      <td>26.739</td>\n",
       "      <td>10.191365</td>\n",
       "      <td>13.1871</td>\n",
       "      <td>9.14032</td>\n",
       "      <td>22.2995</td>\n",
       "      <td>-3.01402</td>\n",
       "    </tr>\n",
       "    <tr>\n",
       "      <th>4</th>\n",
       "      <td>east north central midwest region</td>\n",
       "      <td>1751</td>\n",
       "      <td>10.872681</td>\n",
       "      <td>-7.814</td>\n",
       "      <td>25.557</td>\n",
       "      <td>10.759784</td>\n",
       "      <td>16.3001</td>\n",
       "      <td>5.86155</td>\n",
       "      <td>22.1556</td>\n",
       "      <td>-3.75436</td>\n",
       "    </tr>\n",
       "    <tr>\n",
       "      <th>5</th>\n",
       "      <td>east north central midwest region</td>\n",
       "      <td>1752</td>\n",
       "      <td>2.954793</td>\n",
       "      <td>-10.788</td>\n",
       "      <td>11.689</td>\n",
       "      <td>6.044789</td>\n",
       "      <td>7.57381</td>\n",
       "      <td>5.73334</td>\n",
       "      <td>NaN</td>\n",
       "      <td>-4.44278</td>\n",
       "    </tr>\n",
       "    <tr>\n",
       "      <th>6</th>\n",
       "      <td>east north central midwest region</td>\n",
       "      <td>1753</td>\n",
       "      <td>9.546578</td>\n",
       "      <td>-8.022</td>\n",
       "      <td>25.487</td>\n",
       "      <td>10.000526</td>\n",
       "      <td>10.2772</td>\n",
       "      <td>9.43994</td>\n",
       "      <td>22.1723</td>\n",
       "      <td>-3.70309</td>\n",
       "    </tr>\n",
       "    <tr>\n",
       "      <th>7</th>\n",
       "      <td>east north central midwest region</td>\n",
       "      <td>1754</td>\n",
       "      <td>9.693674</td>\n",
       "      <td>-7.825</td>\n",
       "      <td>25.307</td>\n",
       "      <td>10.953768</td>\n",
       "      <td>14.2623</td>\n",
       "      <td>2.34821</td>\n",
       "      <td>21.9211</td>\n",
       "      <td>-3.13099</td>\n",
       "    </tr>\n",
       "    <tr>\n",
       "      <th>8</th>\n",
       "      <td>east north central midwest region</td>\n",
       "      <td>1755</td>\n",
       "      <td>6.754024</td>\n",
       "      <td>-8.565</td>\n",
       "      <td>24.163</td>\n",
       "      <td>9.001517</td>\n",
       "      <td>10.1147</td>\n",
       "      <td>8.98146</td>\n",
       "      <td>21.3252</td>\n",
       "      <td>-3.69114</td>\n",
       "    </tr>\n",
       "    <tr>\n",
       "      <th>9</th>\n",
       "      <td>east north central midwest region</td>\n",
       "      <td>1756</td>\n",
       "      <td>9.992031</td>\n",
       "      <td>-6.984</td>\n",
       "      <td>25.053</td>\n",
       "      <td>10.556222</td>\n",
       "      <td>10.0938</td>\n",
       "      <td>NaN</td>\n",
       "      <td>21.8625</td>\n",
       "      <td>-1.98023</td>\n",
       "    </tr>\n",
       "    <tr>\n",
       "      <th>10</th>\n",
       "      <td>east north central midwest region</td>\n",
       "      <td>1757</td>\n",
       "      <td>9.020865</td>\n",
       "      <td>-9.902</td>\n",
       "      <td>28.004</td>\n",
       "      <td>10.940930</td>\n",
       "      <td>5.78828</td>\n",
       "      <td>9.04324</td>\n",
       "      <td>23.7893</td>\n",
       "      <td>-3.61493</td>\n",
       "    </tr>\n",
       "    <tr>\n",
       "      <th>11</th>\n",
       "      <td>east north central midwest region</td>\n",
       "      <td>1758</td>\n",
       "      <td>8.111322</td>\n",
       "      <td>-10.976</td>\n",
       "      <td>24.236</td>\n",
       "      <td>9.709111</td>\n",
       "      <td>8.78733</td>\n",
       "      <td>7.78772</td>\n",
       "      <td>20.4462</td>\n",
       "      <td>-4.57595</td>\n",
       "    </tr>\n",
       "    <tr>\n",
       "      <th>12</th>\n",
       "      <td>east north central midwest region</td>\n",
       "      <td>1759</td>\n",
       "      <td>9.084733</td>\n",
       "      <td>-8.993</td>\n",
       "      <td>23.731</td>\n",
       "      <td>9.402640</td>\n",
       "      <td>10.4958</td>\n",
       "      <td>8.28399</td>\n",
       "      <td>20.5905</td>\n",
       "      <td>-3.03138</td>\n",
       "    </tr>\n",
       "    <tr>\n",
       "      <th>13</th>\n",
       "      <td>east north central midwest region</td>\n",
       "      <td>1760</td>\n",
       "      <td>7.472122</td>\n",
       "      <td>-9.880</td>\n",
       "      <td>24.046</td>\n",
       "      <td>9.299553</td>\n",
       "      <td>9.76286</td>\n",
       "      <td>7.77325</td>\n",
       "      <td>20.3566</td>\n",
       "      <td>-3.70938</td>\n",
       "    </tr>\n",
       "    <tr>\n",
       "      <th>14</th>\n",
       "      <td>east north central midwest region</td>\n",
       "      <td>1761</td>\n",
       "      <td>10.014210</td>\n",
       "      <td>-10.497</td>\n",
       "      <td>30.660</td>\n",
       "      <td>12.276524</td>\n",
       "      <td>10.2469</td>\n",
       "      <td>9.80562</td>\n",
       "      <td>25.2944</td>\n",
       "      <td>-5.21247</td>\n",
       "    </tr>\n",
       "    <tr>\n",
       "      <th>15</th>\n",
       "      <td>east north central midwest region</td>\n",
       "      <td>1762</td>\n",
       "      <td>9.591241</td>\n",
       "      <td>-5.497</td>\n",
       "      <td>25.888</td>\n",
       "      <td>8.950884</td>\n",
       "      <td>9.79436</td>\n",
       "      <td>8.52445</td>\n",
       "      <td>22.3892</td>\n",
       "      <td>-1.91124</td>\n",
       "    </tr>\n",
       "    <tr>\n",
       "      <th>16</th>\n",
       "      <td>east north central midwest region</td>\n",
       "      <td>1763</td>\n",
       "      <td>7.181538</td>\n",
       "      <td>-9.760</td>\n",
       "      <td>23.782</td>\n",
       "      <td>9.923521</td>\n",
       "      <td>9.772</td>\n",
       "      <td>7.52699</td>\n",
       "      <td>20.6366</td>\n",
       "      <td>-3.86094</td>\n",
       "    </tr>\n",
       "    <tr>\n",
       "      <th>17</th>\n",
       "      <td>east north central midwest region</td>\n",
       "      <td>1764</td>\n",
       "      <td>9.522279</td>\n",
       "      <td>-7.895</td>\n",
       "      <td>23.301</td>\n",
       "      <td>9.051352</td>\n",
       "      <td>11.3993</td>\n",
       "      <td>2.75669</td>\n",
       "      <td>20.142</td>\n",
       "      <td>-0.719333</td>\n",
       "    </tr>\n",
       "    <tr>\n",
       "      <th>18</th>\n",
       "      <td>east north central midwest region</td>\n",
       "      <td>1765</td>\n",
       "      <td>8.982618</td>\n",
       "      <td>-6.887</td>\n",
       "      <td>24.273</td>\n",
       "      <td>8.966632</td>\n",
       "      <td>10.7014</td>\n",
       "      <td>9.76738</td>\n",
       "      <td>21.8676</td>\n",
       "      <td>-2.11095</td>\n",
       "    </tr>\n",
       "    <tr>\n",
       "      <th>19</th>\n",
       "      <td>east north central midwest region</td>\n",
       "      <td>1766</td>\n",
       "      <td>10.012204</td>\n",
       "      <td>-9.754</td>\n",
       "      <td>24.632</td>\n",
       "      <td>9.713956</td>\n",
       "      <td>11.7707</td>\n",
       "      <td>9.05456</td>\n",
       "      <td>21.9228</td>\n",
       "      <td>-2.69929</td>\n",
       "    </tr>\n",
       "    <tr>\n",
       "      <th>20</th>\n",
       "      <td>east north central midwest region</td>\n",
       "      <td>1767</td>\n",
       "      <td>8.604712</td>\n",
       "      <td>-9.182</td>\n",
       "      <td>25.334</td>\n",
       "      <td>9.638674</td>\n",
       "      <td>11.3636</td>\n",
       "      <td>8.49789</td>\n",
       "      <td>22.7988</td>\n",
       "      <td>-3.51015</td>\n",
       "    </tr>\n",
       "    <tr>\n",
       "      <th>21</th>\n",
       "      <td>east north central midwest region</td>\n",
       "      <td>1768</td>\n",
       "      <td>8.465902</td>\n",
       "      <td>-10.214</td>\n",
       "      <td>24.042</td>\n",
       "      <td>9.512773</td>\n",
       "      <td>9.88508</td>\n",
       "      <td>6.91322</td>\n",
       "      <td>20.4044</td>\n",
       "      <td>-3.33913</td>\n",
       "    </tr>\n",
       "    <tr>\n",
       "      <th>22</th>\n",
       "      <td>east north central midwest region</td>\n",
       "      <td>1769</td>\n",
       "      <td>9.266879</td>\n",
       "      <td>-8.068</td>\n",
       "      <td>25.651</td>\n",
       "      <td>10.285995</td>\n",
       "      <td>9.21832</td>\n",
       "      <td>9.01462</td>\n",
       "      <td>22.4167</td>\n",
       "      <td>-3.58209</td>\n",
       "    </tr>\n",
       "    <tr>\n",
       "      <th>23</th>\n",
       "      <td>east north central midwest region</td>\n",
       "      <td>1770</td>\n",
       "      <td>9.137328</td>\n",
       "      <td>-8.286</td>\n",
       "      <td>23.372</td>\n",
       "      <td>9.324572</td>\n",
       "      <td>10.3849</td>\n",
       "      <td>7.91038</td>\n",
       "      <td>20.6862</td>\n",
       "      <td>-2.43224</td>\n",
       "    </tr>\n",
       "    <tr>\n",
       "      <th>24</th>\n",
       "      <td>east north central midwest region</td>\n",
       "      <td>1771</td>\n",
       "      <td>10.009371</td>\n",
       "      <td>-8.006</td>\n",
       "      <td>25.183</td>\n",
       "      <td>9.774023</td>\n",
       "      <td>11.9372</td>\n",
       "      <td>8.42899</td>\n",
       "      <td>22.2142</td>\n",
       "      <td>-2.54283</td>\n",
       "    </tr>\n",
       "    <tr>\n",
       "      <th>25</th>\n",
       "      <td>east north central midwest region</td>\n",
       "      <td>1772</td>\n",
       "      <td>9.760348</td>\n",
       "      <td>-8.294</td>\n",
       "      <td>25.535</td>\n",
       "      <td>9.468160</td>\n",
       "      <td>11.4413</td>\n",
       "      <td>7.85802</td>\n",
       "      <td>21.7237</td>\n",
       "      <td>-1.98156</td>\n",
       "    </tr>\n",
       "    <tr>\n",
       "      <th>26</th>\n",
       "      <td>east north central midwest region</td>\n",
       "      <td>1773</td>\n",
       "      <td>9.944575</td>\n",
       "      <td>-9.077</td>\n",
       "      <td>25.609</td>\n",
       "      <td>10.074120</td>\n",
       "      <td>11.1552</td>\n",
       "      <td>9.56471</td>\n",
       "      <td>21.9755</td>\n",
       "      <td>-2.91711</td>\n",
       "    </tr>\n",
       "    <tr>\n",
       "      <th>27</th>\n",
       "      <td>east north central midwest region</td>\n",
       "      <td>1774</td>\n",
       "      <td>9.431984</td>\n",
       "      <td>-10.357</td>\n",
       "      <td>26.840</td>\n",
       "      <td>10.713297</td>\n",
       "      <td>10.8152</td>\n",
       "      <td>7.50347</td>\n",
       "      <td>22.7067</td>\n",
       "      <td>-3.94034</td>\n",
       "    </tr>\n",
       "    <tr>\n",
       "      <th>28</th>\n",
       "      <td>east north central midwest region</td>\n",
       "      <td>1775</td>\n",
       "      <td>10.448532</td>\n",
       "      <td>-6.294</td>\n",
       "      <td>25.128</td>\n",
       "      <td>8.747152</td>\n",
       "      <td>11.6444</td>\n",
       "      <td>9.94063</td>\n",
       "      <td>21.2929</td>\n",
       "      <td>-1.08376</td>\n",
       "    </tr>\n",
       "    <tr>\n",
       "      <th>29</th>\n",
       "      <td>east north central midwest region</td>\n",
       "      <td>1776</td>\n",
       "      <td>9.338873</td>\n",
       "      <td>-9.893</td>\n",
       "      <td>24.913</td>\n",
       "      <td>9.767772</td>\n",
       "      <td>10.9399</td>\n",
       "      <td>6.82786</td>\n",
       "      <td>21.9515</td>\n",
       "      <td>-2.65246</td>\n",
       "    </tr>\n",
       "    <tr>\n",
       "      <th>...</th>\n",
       "      <td>...</td>\n",
       "      <td>...</td>\n",
       "      <td>...</td>\n",
       "      <td>...</td>\n",
       "      <td>...</td>\n",
       "      <td>...</td>\n",
       "      <td>...</td>\n",
       "      <td>...</td>\n",
       "      <td>...</td>\n",
       "      <td>...</td>\n",
       "    </tr>\n",
       "    <tr>\n",
       "      <th>2373</th>\n",
       "      <td>west south central south region</td>\n",
       "      <td>1984</td>\n",
       "      <td>18.833005</td>\n",
       "      <td>0.308</td>\n",
       "      <td>30.243</td>\n",
       "      <td>7.666072</td>\n",
       "      <td>19.168</td>\n",
       "      <td>18.517</td>\n",
       "      <td>27.9265</td>\n",
       "      <td>9.72044</td>\n",
       "    </tr>\n",
       "    <tr>\n",
       "      <th>2374</th>\n",
       "      <td>west south central south region</td>\n",
       "      <td>1985</td>\n",
       "      <td>18.606588</td>\n",
       "      <td>-1.360</td>\n",
       "      <td>30.992</td>\n",
       "      <td>8.526686</td>\n",
       "      <td>20.1823</td>\n",
       "      <td>19.748</td>\n",
       "      <td>27.9588</td>\n",
       "      <td>6.53729</td>\n",
       "    </tr>\n",
       "    <tr>\n",
       "      <th>2375</th>\n",
       "      <td>west south central south region</td>\n",
       "      <td>1986</td>\n",
       "      <td>19.232725</td>\n",
       "      <td>4.094</td>\n",
       "      <td>30.565</td>\n",
       "      <td>7.474057</td>\n",
       "      <td>19.4326</td>\n",
       "      <td>19.46</td>\n",
       "      <td>27.9918</td>\n",
       "      <td>10.0465</td>\n",
       "    </tr>\n",
       "    <tr>\n",
       "      <th>2376</th>\n",
       "      <td>west south central south region</td>\n",
       "      <td>1987</td>\n",
       "      <td>18.531968</td>\n",
       "      <td>0.948</td>\n",
       "      <td>30.430</td>\n",
       "      <td>7.595300</td>\n",
       "      <td>19.0159</td>\n",
       "      <td>18.1049</td>\n",
       "      <td>27.6557</td>\n",
       "      <td>9.35136</td>\n",
       "    </tr>\n",
       "    <tr>\n",
       "      <th>2377</th>\n",
       "      <td>west south central south region</td>\n",
       "      <td>1988</td>\n",
       "      <td>18.583944</td>\n",
       "      <td>-0.156</td>\n",
       "      <td>30.412</td>\n",
       "      <td>7.900715</td>\n",
       "      <td>19.8552</td>\n",
       "      <td>18.1782</td>\n",
       "      <td>27.9093</td>\n",
       "      <td>8.39312</td>\n",
       "    </tr>\n",
       "    <tr>\n",
       "      <th>2378</th>\n",
       "      <td>west south central south region</td>\n",
       "      <td>1989</td>\n",
       "      <td>18.242005</td>\n",
       "      <td>-1.277</td>\n",
       "      <td>30.589</td>\n",
       "      <td>7.945128</td>\n",
       "      <td>19.4451</td>\n",
       "      <td>19.0304</td>\n",
       "      <td>26.9645</td>\n",
       "      <td>7.5281</td>\n",
       "    </tr>\n",
       "    <tr>\n",
       "      <th>2379</th>\n",
       "      <td>west south central south region</td>\n",
       "      <td>1990</td>\n",
       "      <td>19.398537</td>\n",
       "      <td>1.633</td>\n",
       "      <td>31.200</td>\n",
       "      <td>7.245825</td>\n",
       "      <td>20.1163</td>\n",
       "      <td>18.6239</td>\n",
       "      <td>28.1631</td>\n",
       "      <td>10.6909</td>\n",
       "    </tr>\n",
       "    <tr>\n",
       "      <th>2380</th>\n",
       "      <td>west south central south region</td>\n",
       "      <td>1991</td>\n",
       "      <td>18.924706</td>\n",
       "      <td>0.287</td>\n",
       "      <td>30.673</td>\n",
       "      <td>7.531417</td>\n",
       "      <td>18.4185</td>\n",
       "      <td>19.8614</td>\n",
       "      <td>27.6682</td>\n",
       "      <td>9.75076</td>\n",
       "    </tr>\n",
       "    <tr>\n",
       "      <th>2381</th>\n",
       "      <td>west south central south region</td>\n",
       "      <td>1992</td>\n",
       "      <td>18.584426</td>\n",
       "      <td>3.313</td>\n",
       "      <td>29.936</td>\n",
       "      <td>6.978694</td>\n",
       "      <td>19.0187</td>\n",
       "      <td>18.4102</td>\n",
       "      <td>26.7263</td>\n",
       "      <td>10.1825</td>\n",
       "    </tr>\n",
       "    <tr>\n",
       "      <th>2382</th>\n",
       "      <td>west south central south region</td>\n",
       "      <td>1993</td>\n",
       "      <td>18.296803</td>\n",
       "      <td>1.343</td>\n",
       "      <td>30.637</td>\n",
       "      <td>7.982176</td>\n",
       "      <td>18.1645</td>\n",
       "      <td>17.3717</td>\n",
       "      <td>28.4089</td>\n",
       "      <td>9.24219</td>\n",
       "    </tr>\n",
       "    <tr>\n",
       "      <th>2383</th>\n",
       "      <td>west south central south region</td>\n",
       "      <td>1994</td>\n",
       "      <td>18.960356</td>\n",
       "      <td>1.640</td>\n",
       "      <td>30.837</td>\n",
       "      <td>7.426031</td>\n",
       "      <td>19.8336</td>\n",
       "      <td>18.6051</td>\n",
       "      <td>28.0184</td>\n",
       "      <td>9.38431</td>\n",
       "    </tr>\n",
       "    <tr>\n",
       "      <th>2384</th>\n",
       "      <td>west south central south region</td>\n",
       "      <td>1995</td>\n",
       "      <td>18.948178</td>\n",
       "      <td>3.267</td>\n",
       "      <td>30.497</td>\n",
       "      <td>7.342781</td>\n",
       "      <td>19.4095</td>\n",
       "      <td>18.371</td>\n",
       "      <td>27.8523</td>\n",
       "      <td>10.1599</td>\n",
       "    </tr>\n",
       "    <tr>\n",
       "      <th>2385</th>\n",
       "      <td>west south central south region</td>\n",
       "      <td>1996</td>\n",
       "      <td>18.912414</td>\n",
       "      <td>1.496</td>\n",
       "      <td>31.093</td>\n",
       "      <td>7.744487</td>\n",
       "      <td>19.0871</td>\n",
       "      <td>18.5864</td>\n",
       "      <td>28.0366</td>\n",
       "      <td>9.93965</td>\n",
       "    </tr>\n",
       "    <tr>\n",
       "      <th>2386</th>\n",
       "      <td>west south central south region</td>\n",
       "      <td>1997</td>\n",
       "      <td>18.377130</td>\n",
       "      <td>1.881</td>\n",
       "      <td>31.198</td>\n",
       "      <td>7.852208</td>\n",
       "      <td>19.2894</td>\n",
       "      <td>17.8411</td>\n",
       "      <td>27.6639</td>\n",
       "      <td>8.71408</td>\n",
       "    </tr>\n",
       "    <tr>\n",
       "      <th>2387</th>\n",
       "      <td>west south central south region</td>\n",
       "      <td>1998</td>\n",
       "      <td>20.083919</td>\n",
       "      <td>4.117</td>\n",
       "      <td>32.767</td>\n",
       "      <td>8.141389</td>\n",
       "      <td>21.3316</td>\n",
       "      <td>18.6885</td>\n",
       "      <td>29.8565</td>\n",
       "      <td>10.4591</td>\n",
       "    </tr>\n",
       "    <tr>\n",
       "      <th>2388</th>\n",
       "      <td>west south central south region</td>\n",
       "      <td>1999</td>\n",
       "      <td>19.839051</td>\n",
       "      <td>3.447</td>\n",
       "      <td>31.506</td>\n",
       "      <td>7.044244</td>\n",
       "      <td>20.29</td>\n",
       "      <td>19.0746</td>\n",
       "      <td>28.5089</td>\n",
       "      <td>11.4827</td>\n",
       "    </tr>\n",
       "    <tr>\n",
       "      <th>2389</th>\n",
       "      <td>west south central south region</td>\n",
       "      <td>2000</td>\n",
       "      <td>19.433394</td>\n",
       "      <td>-1.831</td>\n",
       "      <td>31.484</td>\n",
       "      <td>8.104872</td>\n",
       "      <td>19.3291</td>\n",
       "      <td>19.9001</td>\n",
       "      <td>28.575</td>\n",
       "      <td>9.92936</td>\n",
       "    </tr>\n",
       "    <tr>\n",
       "      <th>2390</th>\n",
       "      <td>west south central south region</td>\n",
       "      <td>2001</td>\n",
       "      <td>19.117537</td>\n",
       "      <td>1.481</td>\n",
       "      <td>32.141</td>\n",
       "      <td>7.808651</td>\n",
       "      <td>19.6058</td>\n",
       "      <td>18.6947</td>\n",
       "      <td>28.5971</td>\n",
       "      <td>9.57256</td>\n",
       "    </tr>\n",
       "    <tr>\n",
       "      <th>2391</th>\n",
       "      <td>west south central south region</td>\n",
       "      <td>2002</td>\n",
       "      <td>18.832544</td>\n",
       "      <td>4.249</td>\n",
       "      <td>30.575</td>\n",
       "      <td>7.795146</td>\n",
       "      <td>19.099</td>\n",
       "      <td>18.9749</td>\n",
       "      <td>27.9272</td>\n",
       "      <td>9.32912</td>\n",
       "    </tr>\n",
       "    <tr>\n",
       "      <th>2392</th>\n",
       "      <td>west south central south region</td>\n",
       "      <td>2003</td>\n",
       "      <td>19.008424</td>\n",
       "      <td>2.129</td>\n",
       "      <td>30.284</td>\n",
       "      <td>7.739955</td>\n",
       "      <td>19.9061</td>\n",
       "      <td>19.3196</td>\n",
       "      <td>28.0266</td>\n",
       "      <td>8.78145</td>\n",
       "    </tr>\n",
       "    <tr>\n",
       "      <th>2393</th>\n",
       "      <td>west south central south region</td>\n",
       "      <td>2004</td>\n",
       "      <td>19.083053</td>\n",
       "      <td>3.228</td>\n",
       "      <td>29.619</td>\n",
       "      <td>7.302763</td>\n",
       "      <td>20.6129</td>\n",
       "      <td>19.6539</td>\n",
       "      <td>26.9435</td>\n",
       "      <td>9.12188</td>\n",
       "    </tr>\n",
       "    <tr>\n",
       "      <th>2394</th>\n",
       "      <td>west south central south region</td>\n",
       "      <td>2005</td>\n",
       "      <td>19.471958</td>\n",
       "      <td>2.800</td>\n",
       "      <td>30.940</td>\n",
       "      <td>7.516144</td>\n",
       "      <td>21.0328</td>\n",
       "      <td>18.2909</td>\n",
       "      <td>28.308</td>\n",
       "      <td>10.2562</td>\n",
       "    </tr>\n",
       "    <tr>\n",
       "      <th>2395</th>\n",
       "      <td>west south central south region</td>\n",
       "      <td>2006</td>\n",
       "      <td>20.045394</td>\n",
       "      <td>4.525</td>\n",
       "      <td>31.498</td>\n",
       "      <td>7.361524</td>\n",
       "      <td>19.6685</td>\n",
       "      <td>20.8312</td>\n",
       "      <td>28.9317</td>\n",
       "      <td>10.7501</td>\n",
       "    </tr>\n",
       "    <tr>\n",
       "      <th>2396</th>\n",
       "      <td>west south central south region</td>\n",
       "      <td>2007</td>\n",
       "      <td>18.931153</td>\n",
       "      <td>1.240</td>\n",
       "      <td>29.854</td>\n",
       "      <td>7.583303</td>\n",
       "      <td>20.5743</td>\n",
       "      <td>18.9624</td>\n",
       "      <td>27.3748</td>\n",
       "      <td>8.81316</td>\n",
       "    </tr>\n",
       "    <tr>\n",
       "      <th>2397</th>\n",
       "      <td>west south central south region</td>\n",
       "      <td>2008</td>\n",
       "      <td>19.052245</td>\n",
       "      <td>3.053</td>\n",
       "      <td>30.693</td>\n",
       "      <td>7.579754</td>\n",
       "      <td>19.1908</td>\n",
       "      <td>18.9916</td>\n",
       "      <td>28.3269</td>\n",
       "      <td>9.69968</td>\n",
       "    </tr>\n",
       "    <tr>\n",
       "      <th>2398</th>\n",
       "      <td>west south central south region</td>\n",
       "      <td>2009</td>\n",
       "      <td>19.102935</td>\n",
       "      <td>1.064</td>\n",
       "      <td>32.232</td>\n",
       "      <td>7.769587</td>\n",
       "      <td>19.156</td>\n",
       "      <td>18.9752</td>\n",
       "      <td>28.701</td>\n",
       "      <td>9.57956</td>\n",
       "    </tr>\n",
       "    <tr>\n",
       "      <th>2399</th>\n",
       "      <td>west south central south region</td>\n",
       "      <td>2010</td>\n",
       "      <td>18.925417</td>\n",
       "      <td>0.836</td>\n",
       "      <td>31.432</td>\n",
       "      <td>8.673479</td>\n",
       "      <td>20.2207</td>\n",
       "      <td>18.6802</td>\n",
       "      <td>29.2255</td>\n",
       "      <td>7.57517</td>\n",
       "    </tr>\n",
       "    <tr>\n",
       "      <th>2400</th>\n",
       "      <td>west south central south region</td>\n",
       "      <td>2011</td>\n",
       "      <td>19.969954</td>\n",
       "      <td>1.069</td>\n",
       "      <td>33.778</td>\n",
       "      <td>8.732722</td>\n",
       "      <td>20.0492</td>\n",
       "      <td>20.2621</td>\n",
       "      <td>30.9306</td>\n",
       "      <td>8.63786</td>\n",
       "    </tr>\n",
       "    <tr>\n",
       "      <th>2401</th>\n",
       "      <td>west south central south region</td>\n",
       "      <td>2012</td>\n",
       "      <td>20.344891</td>\n",
       "      <td>5.253</td>\n",
       "      <td>31.476</td>\n",
       "      <td>7.161696</td>\n",
       "      <td>20</td>\n",
       "      <td>21.3145</td>\n",
       "      <td>28.8652</td>\n",
       "      <td>11.1998</td>\n",
       "    </tr>\n",
       "    <tr>\n",
       "      <th>2402</th>\n",
       "      <td>west south central south region</td>\n",
       "      <td>2013</td>\n",
       "      <td>20.661765</td>\n",
       "      <td>4.140</td>\n",
       "      <td>31.070</td>\n",
       "      <td>7.780627</td>\n",
       "      <td>27.2228</td>\n",
       "      <td>17.6933</td>\n",
       "      <td>28.2923</td>\n",
       "      <td>10.3882</td>\n",
       "    </tr>\n",
       "  </tbody>\n",
       "</table>\n",
       "<p>2403 rows × 10 columns</p>\n",
       "</div>"
      ],
      "text/plain": [
       "                                 region  year  AverageTemperature_mean  \\\n",
       "0     east north central midwest region  1743                 3.101138   \n",
       "1     east north central midwest region  1744                11.849349   \n",
       "2     east north central midwest region  1745                 0.662147   \n",
       "3     east north central midwest region  1750                10.150147   \n",
       "4     east north central midwest region  1751                10.872681   \n",
       "5     east north central midwest region  1752                 2.954793   \n",
       "6     east north central midwest region  1753                 9.546578   \n",
       "7     east north central midwest region  1754                 9.693674   \n",
       "8     east north central midwest region  1755                 6.754024   \n",
       "9     east north central midwest region  1756                 9.992031   \n",
       "10    east north central midwest region  1757                 9.020865   \n",
       "11    east north central midwest region  1758                 8.111322   \n",
       "12    east north central midwest region  1759                 9.084733   \n",
       "13    east north central midwest region  1760                 7.472122   \n",
       "14    east north central midwest region  1761                10.014210   \n",
       "15    east north central midwest region  1762                 9.591241   \n",
       "16    east north central midwest region  1763                 7.181538   \n",
       "17    east north central midwest region  1764                 9.522279   \n",
       "18    east north central midwest region  1765                 8.982618   \n",
       "19    east north central midwest region  1766                10.012204   \n",
       "20    east north central midwest region  1767                 8.604712   \n",
       "21    east north central midwest region  1768                 8.465902   \n",
       "22    east north central midwest region  1769                 9.266879   \n",
       "23    east north central midwest region  1770                 9.137328   \n",
       "24    east north central midwest region  1771                10.009371   \n",
       "25    east north central midwest region  1772                 9.760348   \n",
       "26    east north central midwest region  1773                 9.944575   \n",
       "27    east north central midwest region  1774                 9.431984   \n",
       "28    east north central midwest region  1775                10.448532   \n",
       "29    east north central midwest region  1776                 9.338873   \n",
       "...                                 ...   ...                      ...   \n",
       "2373    west south central south region  1984                18.833005   \n",
       "2374    west south central south region  1985                18.606588   \n",
       "2375    west south central south region  1986                19.232725   \n",
       "2376    west south central south region  1987                18.531968   \n",
       "2377    west south central south region  1988                18.583944   \n",
       "2378    west south central south region  1989                18.242005   \n",
       "2379    west south central south region  1990                19.398537   \n",
       "2380    west south central south region  1991                18.924706   \n",
       "2381    west south central south region  1992                18.584426   \n",
       "2382    west south central south region  1993                18.296803   \n",
       "2383    west south central south region  1994                18.960356   \n",
       "2384    west south central south region  1995                18.948178   \n",
       "2385    west south central south region  1996                18.912414   \n",
       "2386    west south central south region  1997                18.377130   \n",
       "2387    west south central south region  1998                20.083919   \n",
       "2388    west south central south region  1999                19.839051   \n",
       "2389    west south central south region  2000                19.433394   \n",
       "2390    west south central south region  2001                19.117537   \n",
       "2391    west south central south region  2002                18.832544   \n",
       "2392    west south central south region  2003                19.008424   \n",
       "2393    west south central south region  2004                19.083053   \n",
       "2394    west south central south region  2005                19.471958   \n",
       "2395    west south central south region  2006                20.045394   \n",
       "2396    west south central south region  2007                18.931153   \n",
       "2397    west south central south region  2008                19.052245   \n",
       "2398    west south central south region  2009                19.102935   \n",
       "2399    west south central south region  2010                18.925417   \n",
       "2400    west south central south region  2011                19.969954   \n",
       "2401    west south central south region  2012                20.344891   \n",
       "2402    west south central south region  2013                20.661765   \n",
       "\n",
       "      AverageTemperature_min  AverageTemperature_max  AverageTemperature_std  \\\n",
       "0                      0.992                   5.436                1.215334   \n",
       "1                     -5.782                  24.699                8.169105   \n",
       "2                     -7.862                  11.562                5.186148   \n",
       "3                     -7.664                  26.739               10.191365   \n",
       "4                     -7.814                  25.557               10.759784   \n",
       "5                    -10.788                  11.689                6.044789   \n",
       "6                     -8.022                  25.487               10.000526   \n",
       "7                     -7.825                  25.307               10.953768   \n",
       "8                     -8.565                  24.163                9.001517   \n",
       "9                     -6.984                  25.053               10.556222   \n",
       "10                    -9.902                  28.004               10.940930   \n",
       "11                   -10.976                  24.236                9.709111   \n",
       "12                    -8.993                  23.731                9.402640   \n",
       "13                    -9.880                  24.046                9.299553   \n",
       "14                   -10.497                  30.660               12.276524   \n",
       "15                    -5.497                  25.888                8.950884   \n",
       "16                    -9.760                  23.782                9.923521   \n",
       "17                    -7.895                  23.301                9.051352   \n",
       "18                    -6.887                  24.273                8.966632   \n",
       "19                    -9.754                  24.632                9.713956   \n",
       "20                    -9.182                  25.334                9.638674   \n",
       "21                   -10.214                  24.042                9.512773   \n",
       "22                    -8.068                  25.651               10.285995   \n",
       "23                    -8.286                  23.372                9.324572   \n",
       "24                    -8.006                  25.183                9.774023   \n",
       "25                    -8.294                  25.535                9.468160   \n",
       "26                    -9.077                  25.609               10.074120   \n",
       "27                   -10.357                  26.840               10.713297   \n",
       "28                    -6.294                  25.128                8.747152   \n",
       "29                    -9.893                  24.913                9.767772   \n",
       "...                      ...                     ...                     ...   \n",
       "2373                   0.308                  30.243                7.666072   \n",
       "2374                  -1.360                  30.992                8.526686   \n",
       "2375                   4.094                  30.565                7.474057   \n",
       "2376                   0.948                  30.430                7.595300   \n",
       "2377                  -0.156                  30.412                7.900715   \n",
       "2378                  -1.277                  30.589                7.945128   \n",
       "2379                   1.633                  31.200                7.245825   \n",
       "2380                   0.287                  30.673                7.531417   \n",
       "2381                   3.313                  29.936                6.978694   \n",
       "2382                   1.343                  30.637                7.982176   \n",
       "2383                   1.640                  30.837                7.426031   \n",
       "2384                   3.267                  30.497                7.342781   \n",
       "2385                   1.496                  31.093                7.744487   \n",
       "2386                   1.881                  31.198                7.852208   \n",
       "2387                   4.117                  32.767                8.141389   \n",
       "2388                   3.447                  31.506                7.044244   \n",
       "2389                  -1.831                  31.484                8.104872   \n",
       "2390                   1.481                  32.141                7.808651   \n",
       "2391                   4.249                  30.575                7.795146   \n",
       "2392                   2.129                  30.284                7.739955   \n",
       "2393                   3.228                  29.619                7.302763   \n",
       "2394                   2.800                  30.940                7.516144   \n",
       "2395                   4.525                  31.498                7.361524   \n",
       "2396                   1.240                  29.854                7.583303   \n",
       "2397                   3.053                  30.693                7.579754   \n",
       "2398                   1.064                  32.232                7.769587   \n",
       "2399                   0.836                  31.432                8.673479   \n",
       "2400                   1.069                  33.778                8.732722   \n",
       "2401                   5.253                  31.476                7.161696   \n",
       "2402                   4.140                  31.070                7.780627   \n",
       "\n",
       "         Fall   Spring   Summer    Winter  \n",
       "0     3.10114      NaN      NaN       NaN  \n",
       "1      9.5243  12.7892  21.6998  -2.75593  \n",
       "2         NaN  4.76259      NaN  -3.43829  \n",
       "3     13.1871  9.14032  22.2995  -3.01402  \n",
       "4     16.3001  5.86155  22.1556  -3.75436  \n",
       "5     7.57381  5.73334      NaN  -4.44278  \n",
       "6     10.2772  9.43994  22.1723  -3.70309  \n",
       "7     14.2623  2.34821  21.9211  -3.13099  \n",
       "8     10.1147  8.98146  21.3252  -3.69114  \n",
       "9     10.0938      NaN  21.8625  -1.98023  \n",
       "10    5.78828  9.04324  23.7893  -3.61493  \n",
       "11    8.78733  7.78772  20.4462  -4.57595  \n",
       "12    10.4958  8.28399  20.5905  -3.03138  \n",
       "13    9.76286  7.77325  20.3566  -3.70938  \n",
       "14    10.2469  9.80562  25.2944  -5.21247  \n",
       "15    9.79436  8.52445  22.3892  -1.91124  \n",
       "16      9.772  7.52699  20.6366  -3.86094  \n",
       "17    11.3993  2.75669   20.142 -0.719333  \n",
       "18    10.7014  9.76738  21.8676  -2.11095  \n",
       "19    11.7707  9.05456  21.9228  -2.69929  \n",
       "20    11.3636  8.49789  22.7988  -3.51015  \n",
       "21    9.88508  6.91322  20.4044  -3.33913  \n",
       "22    9.21832  9.01462  22.4167  -3.58209  \n",
       "23    10.3849  7.91038  20.6862  -2.43224  \n",
       "24    11.9372  8.42899  22.2142  -2.54283  \n",
       "25    11.4413  7.85802  21.7237  -1.98156  \n",
       "26    11.1552  9.56471  21.9755  -2.91711  \n",
       "27    10.8152  7.50347  22.7067  -3.94034  \n",
       "28    11.6444  9.94063  21.2929  -1.08376  \n",
       "29    10.9399  6.82786  21.9515  -2.65246  \n",
       "...       ...      ...      ...       ...  \n",
       "2373   19.168   18.517  27.9265   9.72044  \n",
       "2374  20.1823   19.748  27.9588   6.53729  \n",
       "2375  19.4326    19.46  27.9918   10.0465  \n",
       "2376  19.0159  18.1049  27.6557   9.35136  \n",
       "2377  19.8552  18.1782  27.9093   8.39312  \n",
       "2378  19.4451  19.0304  26.9645    7.5281  \n",
       "2379  20.1163  18.6239  28.1631   10.6909  \n",
       "2380  18.4185  19.8614  27.6682   9.75076  \n",
       "2381  19.0187  18.4102  26.7263   10.1825  \n",
       "2382  18.1645  17.3717  28.4089   9.24219  \n",
       "2383  19.8336  18.6051  28.0184   9.38431  \n",
       "2384  19.4095   18.371  27.8523   10.1599  \n",
       "2385  19.0871  18.5864  28.0366   9.93965  \n",
       "2386  19.2894  17.8411  27.6639   8.71408  \n",
       "2387  21.3316  18.6885  29.8565   10.4591  \n",
       "2388    20.29  19.0746  28.5089   11.4827  \n",
       "2389  19.3291  19.9001   28.575   9.92936  \n",
       "2390  19.6058  18.6947  28.5971   9.57256  \n",
       "2391   19.099  18.9749  27.9272   9.32912  \n",
       "2392  19.9061  19.3196  28.0266   8.78145  \n",
       "2393  20.6129  19.6539  26.9435   9.12188  \n",
       "2394  21.0328  18.2909   28.308   10.2562  \n",
       "2395  19.6685  20.8312  28.9317   10.7501  \n",
       "2396  20.5743  18.9624  27.3748   8.81316  \n",
       "2397  19.1908  18.9916  28.3269   9.69968  \n",
       "2398   19.156  18.9752   28.701   9.57956  \n",
       "2399  20.2207  18.6802  29.2255   7.57517  \n",
       "2400  20.0492  20.2621  30.9306   8.63786  \n",
       "2401       20  21.3145  28.8652   11.1998  \n",
       "2402  27.2228  17.6933  28.2923   10.3882  \n",
       "\n",
       "[2403 rows x 10 columns]"
      ]
     },
     "execution_count": 29,
     "metadata": {},
     "output_type": "execute_result"
    }
   ],
   "source": [
    "# join the temperature dataframe with the seasonal temperatures to obtain more features\n",
    "join_dataframe = pd.merge(tempdf, season, left_on=['region','year'], right_on=['region','year'], how='left')\n",
    "join_dataframe"
   ]
  },
  {
   "cell_type": "code",
   "execution_count": 30,
   "metadata": {},
   "outputs": [
    {
     "data": {
      "text/html": [
       "<div>\n",
       "<style scoped>\n",
       "    .dataframe tbody tr th:only-of-type {\n",
       "        vertical-align: middle;\n",
       "    }\n",
       "\n",
       "    .dataframe tbody tr th {\n",
       "        vertical-align: top;\n",
       "    }\n",
       "\n",
       "    .dataframe thead th {\n",
       "        text-align: right;\n",
       "    }\n",
       "</style>\n",
       "<table border=\"1\" class=\"dataframe\">\n",
       "  <thead>\n",
       "    <tr style=\"text-align: right;\">\n",
       "      <th></th>\n",
       "      <th>Region</th>\n",
       "      <th>Disaster Type</th>\n",
       "      <th>Year</th>\n",
       "      <th>Disaster Count</th>\n",
       "    </tr>\n",
       "  </thead>\n",
       "  <tbody>\n",
       "    <tr>\n",
       "      <th>0</th>\n",
       "      <td>east north central midwest region</td>\n",
       "      <td>Fire</td>\n",
       "      <td>1953</td>\n",
       "      <td>0</td>\n",
       "    </tr>\n",
       "    <tr>\n",
       "      <th>1</th>\n",
       "      <td>east north central midwest region</td>\n",
       "      <td>Fire</td>\n",
       "      <td>1954</td>\n",
       "      <td>0</td>\n",
       "    </tr>\n",
       "    <tr>\n",
       "      <th>2</th>\n",
       "      <td>east north central midwest region</td>\n",
       "      <td>Fire</td>\n",
       "      <td>1955</td>\n",
       "      <td>0</td>\n",
       "    </tr>\n",
       "    <tr>\n",
       "      <th>3</th>\n",
       "      <td>east north central midwest region</td>\n",
       "      <td>Fire</td>\n",
       "      <td>1956</td>\n",
       "      <td>0</td>\n",
       "    </tr>\n",
       "    <tr>\n",
       "      <th>4</th>\n",
       "      <td>east north central midwest region</td>\n",
       "      <td>Fire</td>\n",
       "      <td>1957</td>\n",
       "      <td>0</td>\n",
       "    </tr>\n",
       "  </tbody>\n",
       "</table>\n",
       "</div>"
      ],
      "text/plain": [
       "                              Region Disaster Type  Year  Disaster Count\n",
       "0  east north central midwest region          Fire  1953               0\n",
       "1  east north central midwest region          Fire  1954               0\n",
       "2  east north central midwest region          Fire  1955               0\n",
       "3  east north central midwest region          Fire  1956               0\n",
       "4  east north central midwest region          Fire  1957               0"
      ]
     },
     "execution_count": 30,
     "metadata": {},
     "output_type": "execute_result"
    }
   ],
   "source": [
    "disasterdf.head()"
   ]
  },
  {
   "cell_type": "code",
   "execution_count": 31,
   "metadata": {},
   "outputs": [],
   "source": [
    "# join temperature and disaster dataframe \n",
    "joindf = pd.merge(disasterdf, join_dataframe, left_on=['Region','Year'], right_on=['region','year'], how='left')"
   ]
  },
  {
   "cell_type": "code",
   "execution_count": 32,
   "metadata": {},
   "outputs": [],
   "source": [
    "# drop duplicate columns\n",
    "joindf = joindf.drop(columns = ['region','year'])"
   ]
  },
  {
   "cell_type": "code",
   "execution_count": 33,
   "metadata": {},
   "outputs": [
    {
     "data": {
      "text/html": [
       "<div>\n",
       "<style scoped>\n",
       "    .dataframe tbody tr th:only-of-type {\n",
       "        vertical-align: middle;\n",
       "    }\n",
       "\n",
       "    .dataframe tbody tr th {\n",
       "        vertical-align: top;\n",
       "    }\n",
       "\n",
       "    .dataframe thead th {\n",
       "        text-align: right;\n",
       "    }\n",
       "</style>\n",
       "<table border=\"1\" class=\"dataframe\">\n",
       "  <thead>\n",
       "    <tr style=\"text-align: right;\">\n",
       "      <th></th>\n",
       "      <th>Region</th>\n",
       "      <th>Disaster Type</th>\n",
       "      <th>Year</th>\n",
       "      <th>Disaster Count</th>\n",
       "      <th>AverageTemperature_mean</th>\n",
       "      <th>AverageTemperature_min</th>\n",
       "      <th>AverageTemperature_max</th>\n",
       "      <th>AverageTemperature_std</th>\n",
       "      <th>Fall</th>\n",
       "      <th>Spring</th>\n",
       "      <th>Summer</th>\n",
       "      <th>Winter</th>\n",
       "    </tr>\n",
       "  </thead>\n",
       "  <tbody>\n",
       "    <tr>\n",
       "      <th>0</th>\n",
       "      <td>east north central midwest region</td>\n",
       "      <td>Fire</td>\n",
       "      <td>1953</td>\n",
       "      <td>0</td>\n",
       "      <td>11.046523</td>\n",
       "      <td>-4.808</td>\n",
       "      <td>25.870</td>\n",
       "      <td>9.009154</td>\n",
       "      <td>12.6579</td>\n",
       "      <td>9.05599</td>\n",
       "      <td>22.5851</td>\n",
       "      <td>-0.112862</td>\n",
       "    </tr>\n",
       "    <tr>\n",
       "      <th>1</th>\n",
       "      <td>east north central midwest region</td>\n",
       "      <td>Fire</td>\n",
       "      <td>1954</td>\n",
       "      <td>0</td>\n",
       "      <td>10.610394</td>\n",
       "      <td>-6.416</td>\n",
       "      <td>27.563</td>\n",
       "      <td>9.187059</td>\n",
       "      <td>12.1459</td>\n",
       "      <td>8.61549</td>\n",
       "      <td>22.1624</td>\n",
       "      <td>-0.48223</td>\n",
       "    </tr>\n",
       "    <tr>\n",
       "      <th>2</th>\n",
       "      <td>east north central midwest region</td>\n",
       "      <td>Fire</td>\n",
       "      <td>1955</td>\n",
       "      <td>0</td>\n",
       "      <td>10.504940</td>\n",
       "      <td>-6.884</td>\n",
       "      <td>27.186</td>\n",
       "      <td>10.275308</td>\n",
       "      <td>11.2949</td>\n",
       "      <td>10.6548</td>\n",
       "      <td>22.8636</td>\n",
       "      <td>-2.79356</td>\n",
       "    </tr>\n",
       "    <tr>\n",
       "      <th>3</th>\n",
       "      <td>east north central midwest region</td>\n",
       "      <td>Fire</td>\n",
       "      <td>1956</td>\n",
       "      <td>0</td>\n",
       "      <td>10.129736</td>\n",
       "      <td>-5.804</td>\n",
       "      <td>24.367</td>\n",
       "      <td>9.154006</td>\n",
       "      <td>11.8911</td>\n",
       "      <td>8.14903</td>\n",
       "      <td>21.6039</td>\n",
       "      <td>-1.12514</td>\n",
       "    </tr>\n",
       "    <tr>\n",
       "      <th>4</th>\n",
       "      <td>east north central midwest region</td>\n",
       "      <td>Fire</td>\n",
       "      <td>1957</td>\n",
       "      <td>0</td>\n",
       "      <td>10.011848</td>\n",
       "      <td>-10.172</td>\n",
       "      <td>25.552</td>\n",
       "      <td>9.295035</td>\n",
       "      <td>10.6796</td>\n",
       "      <td>9.18855</td>\n",
       "      <td>21.7707</td>\n",
       "      <td>-1.59148</td>\n",
       "    </tr>\n",
       "  </tbody>\n",
       "</table>\n",
       "</div>"
      ],
      "text/plain": [
       "                              Region Disaster Type  Year  Disaster Count  \\\n",
       "0  east north central midwest region          Fire  1953               0   \n",
       "1  east north central midwest region          Fire  1954               0   \n",
       "2  east north central midwest region          Fire  1955               0   \n",
       "3  east north central midwest region          Fire  1956               0   \n",
       "4  east north central midwest region          Fire  1957               0   \n",
       "\n",
       "   AverageTemperature_mean  AverageTemperature_min  AverageTemperature_max  \\\n",
       "0                11.046523                  -4.808                  25.870   \n",
       "1                10.610394                  -6.416                  27.563   \n",
       "2                10.504940                  -6.884                  27.186   \n",
       "3                10.129736                  -5.804                  24.367   \n",
       "4                10.011848                 -10.172                  25.552   \n",
       "\n",
       "   AverageTemperature_std     Fall   Spring   Summer    Winter  \n",
       "0                9.009154  12.6579  9.05599  22.5851 -0.112862  \n",
       "1                9.187059  12.1459  8.61549  22.1624  -0.48223  \n",
       "2               10.275308  11.2949  10.6548  22.8636  -2.79356  \n",
       "3                9.154006  11.8911  8.14903  21.6039  -1.12514  \n",
       "4                9.295035  10.6796  9.18855  21.7707  -1.59148  "
      ]
     },
     "execution_count": 33,
     "metadata": {},
     "output_type": "execute_result"
    }
   ],
   "source": [
    "joindf.head()"
   ]
  },
  {
   "cell_type": "code",
   "execution_count": 34,
   "metadata": {
    "scrolled": true
   },
   "outputs": [
    {
     "name": "stdout",
     "output_type": "stream",
     "text": [
      "<class 'pandas.core.frame.DataFrame'>\n",
      "Int64Index: 2860 entries, 0 to 2859\n",
      "Data columns (total 12 columns):\n",
      "Region                     2860 non-null object\n",
      "Disaster Type              2860 non-null object\n",
      "Year                       2860 non-null int64\n",
      "Disaster Count             2860 non-null int64\n",
      "AverageTemperature_mean    2684 non-null float64\n",
      "AverageTemperature_min     2684 non-null float64\n",
      "AverageTemperature_max     2684 non-null float64\n",
      "AverageTemperature_std     2684 non-null float64\n",
      "Fall                       2684 non-null object\n",
      "Spring                     2684 non-null object\n",
      "Summer                     2684 non-null object\n",
      "Winter                     2684 non-null object\n",
      "dtypes: float64(4), int64(2), object(6)\n",
      "memory usage: 290.5+ KB\n"
     ]
    }
   ],
   "source": [
    "joindf.info()"
   ]
  },
  {
   "cell_type": "markdown",
   "metadata": {},
   "source": [
    "# Machine Learning"
   ]
  },
  {
   "cell_type": "markdown",
   "metadata": {},
   "source": [
    "### Random Forest for disaster/region pairs"
   ]
  },
  {
   "cell_type": "code",
   "execution_count": 35,
   "metadata": {},
   "outputs": [],
   "source": [
    "disasters = joindf['Disaster Type'].unique()\n",
    "regions = joindf['Region'].unique()\n",
    "\n",
    "combined = [(s, f) for s in regions for f in disasters]"
   ]
  },
  {
   "cell_type": "code",
   "execution_count": 36,
   "metadata": {},
   "outputs": [],
   "source": [
    "joindf = joindf.set_index(['Region','Disaster Type']).dropna()"
   ]
  },
  {
   "cell_type": "markdown",
   "metadata": {},
   "source": [
    "### Random Forest Model"
   ]
  },
  {
   "cell_type": "code",
   "execution_count": 37,
   "metadata": {},
   "outputs": [],
   "source": [
    "feature_headers = joindf.drop(['Disaster Count'], axis=1).columns\n",
    "target_header = 'Disaster Count'"
   ]
  },
  {
   "cell_type": "code",
   "execution_count": 38,
   "metadata": {},
   "outputs": [],
   "source": [
    "def rfmodel(dataframe):\n",
    "    \n",
    "    # random forest regression\n",
    "    X = dataframe.drop(['Disaster Count'], axis=1).values\n",
    "    y = dataframe['Disaster Count'].values\n",
    "    names = join_dataframe[['AverageTemperature_mean','AverageTemperature_min','AverageTemperature_max','AverageTemperature_std','Fall','Spring','Summer','Winter']]\n",
    "\n",
    "    X_train, X_test, y_train, y_test = train_test_split(X, y, test_size = 0.3, random_state=42)\n",
    "\n",
    "    # Create the regressor: \n",
    "    rf = RandomForestRegressor(n_estimators = 100, random_state = 42)\n",
    "\n",
    "    # Fit the regressor to the training data\n",
    "    rf.fit(X_train, y_train)\n",
    "\n",
    "    # Predict on the test data: y_pred\n",
    "    y_pred = rf.predict(X_test)\n",
    "    \n",
    "    errors = abs(y_pred - y_test)\n",
    "\n",
    "    print('Mean Absolute Error:', round(np.mean(errors), 2))\n",
    "    print('R^2 or Score:', rf.score(X_test, y_test))\n",
    "    print (\"Features sorted by their importance:\", \n",
    "       sorted(zip(map(lambda x: round(x, 4), rf.feature_importances_), names), reverse=True))\n"
   ]
  },
  {
   "cell_type": "markdown",
   "metadata": {},
   "source": [
    "### Mountain West Fires"
   ]
  },
  {
   "cell_type": "code",
   "execution_count": 39,
   "metadata": {
    "scrolled": true
   },
   "outputs": [],
   "source": [
    "# mountain west region / fire dataframe\n",
    "mtw_fire_df = joindf.loc[('mountain west region','Fire')]"
   ]
  },
  {
   "cell_type": "code",
   "execution_count": 40,
   "metadata": {
    "scrolled": false
   },
   "outputs": [
    {
     "name": "stdout",
     "output_type": "stream",
     "text": [
      "Mean Absolute Error: 2.29\n",
      "R^2 or Score: 0.6563602152742183\n",
      "Features sorted by their importance: [(0.7257, 'AverageTemperature_mean'), (0.0804, 'Winter'), (0.0631, 'AverageTemperature_std'), (0.034, 'Spring'), (0.0257, 'Summer'), (0.0243, 'AverageTemperature_min'), (0.0162, 'AverageTemperature_max'), (0.0149, 'Fall')]\n"
     ]
    }
   ],
   "source": [
    "rfmodel(mtw_fire_df)"
   ]
  },
  {
   "cell_type": "markdown",
   "metadata": {},
   "source": [
    "### New England Northeast Storms"
   ]
  },
  {
   "cell_type": "code",
   "execution_count": 41,
   "metadata": {},
   "outputs": [],
   "source": [
    "# new england northeast region / storm dataframe\n",
    "nene_storm_df = joindf.loc[('new england northeast region','Storm')]"
   ]
  },
  {
   "cell_type": "code",
   "execution_count": 42,
   "metadata": {},
   "outputs": [
    {
     "name": "stdout",
     "output_type": "stream",
     "text": [
      "Mean Absolute Error: 1.2\n",
      "R^2 or Score: 0.35965480769230784\n",
      "Features sorted by their importance: [(0.588, 'AverageTemperature_mean'), (0.1611, 'AverageTemperature_min'), (0.1265, 'Spring'), (0.0222, 'Summer'), (0.0217, 'AverageTemperature_std'), (0.0214, 'AverageTemperature_max'), (0.0169, 'Fall'), (0.0159, 'Winter')]\n"
     ]
    }
   ],
   "source": [
    "rfmodel(nene_storm_df)"
   ]
  },
  {
   "cell_type": "markdown",
   "metadata": {},
   "source": [
    "### Midatlantic Northeast Hurricanes"
   ]
  },
  {
   "cell_type": "code",
   "execution_count": 43,
   "metadata": {},
   "outputs": [],
   "source": [
    "# midatlantic northeast region / hurricane dataframe\n",
    "midne_hurricane_df = joindf.loc[('midatlantic northeast region','Hurricane')] "
   ]
  },
  {
   "cell_type": "code",
   "execution_count": 44,
   "metadata": {},
   "outputs": [
    {
     "name": "stdout",
     "output_type": "stream",
     "text": [
      "Mean Absolute Error: 0.65\n",
      "R^2 or Score: 0.3776851764705882\n",
      "Features sorted by their importance: [(0.2375, 'Winter'), (0.2084, 'Spring'), (0.185, 'AverageTemperature_std'), (0.0977, 'AverageTemperature_mean'), (0.0933, 'Summer'), (0.074, 'Fall'), (0.0457, 'AverageTemperature_min'), (0.0248, 'AverageTemperature_max')]\n"
     ]
    }
   ],
   "source": [
    "rfmodel(midne_hurricane_df)"
   ]
  },
  {
   "cell_type": "markdown",
   "metadata": {},
   "source": [
    "# Selected region/disaster pairs to examine"
   ]
  },
  {
   "cell_type": "markdown",
   "metadata": {},
   "source": [
    "I will use those 3 region/disaster pairings to focus on for predicting average temperature and disaster counts."
   ]
  },
  {
   "cell_type": "code",
   "execution_count": 45,
   "metadata": {},
   "outputs": [],
   "source": [
    "columns = joindf.columns.drop('Disaster Count')\n",
    "\n",
    "# linear regression to obtain independent variable predictions to use for random forest\n",
    "def linearreg(key, column, year):\n",
    "    X = joindf.loc[key][['Year']].values\n",
    "    y = joindf.loc[key][column].values\n",
    "\n",
    "    X = X.reshape(-1,1)\n",
    "    y = y.reshape(-1,1)\n",
    "\n",
    "    model = linear_model.LinearRegression()\n",
    "    model.fit(X, y)\n",
    "    \n",
    "    return model.predict(year)\n",
    "    #plt.scatter(X, y,color='r')\n",
    "\n",
    "    #plt.plot(X, model.predict(X),color='k')\n",
    "    #plt.show()"
   ]
  },
  {
   "cell_type": "code",
   "execution_count": 46,
   "metadata": {},
   "outputs": [],
   "source": [
    "def rfmodel(x_var, key):\n",
    "    \n",
    "    # random forest regression\n",
    "    X = joindf.loc[key].drop(['Disaster Count'], axis=1).values\n",
    "    y = joindf.loc[key]['Disaster Count'].values\n",
    "    names = join_dataframe[['AverageTemperature_mean','AverageTemperature_min','AverageTemperature_max','AverageTemperature_std','Fall','Spring','Summer','Winter']]\n",
    "\n",
    "    X_train, X_test, y_train, y_test = train_test_split(X, y, test_size = 0.3, random_state=42)\n",
    "\n",
    "    # Create the regressor: \n",
    "    rf = RandomForestRegressor(n_estimators = 100, random_state = 42)\n",
    "\n",
    "    # Fit the regressor to the training data\n",
    "    rf.fit(X_train, y_train)\n",
    "\n",
    "    # Predict on the test data: y_pred\n",
    "    y_var = rf.predict(X_test)\n",
    "    \n",
    "    return rf"
   ]
  },
  {
   "cell_type": "markdown",
   "metadata": {},
   "source": [
    "### Mountain West Fires"
   ]
  },
  {
   "cell_type": "markdown",
   "metadata": {},
   "source": [
    "#### predict 2070"
   ]
  },
  {
   "cell_type": "code",
   "execution_count": 47,
   "metadata": {},
   "outputs": [],
   "source": [
    "# 2070 independent variables\n",
    "x_2070 = [[linearreg(('mountain west region','Fire'), col, 2070).item() for col in columns]]"
   ]
  },
  {
   "cell_type": "code",
   "execution_count": 48,
   "metadata": {},
   "outputs": [
    {
     "data": {
      "text/plain": [
       "array([13.98])"
      ]
     },
     "execution_count": 48,
     "metadata": {},
     "output_type": "execute_result"
    }
   ],
   "source": [
    "# random forest using predicted independent variables to predict disaster counts\n",
    "rfmodel(x_2070, ('mountain west region','Fire')).predict(x_2070)"
   ]
  },
  {
   "cell_type": "markdown",
   "metadata": {},
   "source": [
    "#### predict 2120"
   ]
  },
  {
   "cell_type": "code",
   "execution_count": 49,
   "metadata": {},
   "outputs": [],
   "source": [
    "# 2120 independent variables\n",
    "x_2120 = [[linearreg(('mountain west region','Fire'), col, 2120).item() for col in columns]]"
   ]
  },
  {
   "cell_type": "code",
   "execution_count": 50,
   "metadata": {},
   "outputs": [
    {
     "data": {
      "text/plain": [
       "array([13.72])"
      ]
     },
     "execution_count": 50,
     "metadata": {},
     "output_type": "execute_result"
    }
   ],
   "source": [
    "# random forest using predicted independent variables to predict disaster counts\n",
    "rfmodel(x_2120, ('mountain west region','Fire')).predict(x_2120)"
   ]
  },
  {
   "cell_type": "markdown",
   "metadata": {},
   "source": [
    "#### predict 2220"
   ]
  },
  {
   "cell_type": "code",
   "execution_count": 51,
   "metadata": {},
   "outputs": [],
   "source": [
    "# 2220 independent variables\n",
    "x_2220 = [[linearreg(('mountain west region','Fire'), col, 2220).item() for col in columns]]"
   ]
  },
  {
   "cell_type": "code",
   "execution_count": 52,
   "metadata": {
    "scrolled": true
   },
   "outputs": [
    {
     "data": {
      "text/plain": [
       "array([12.54])"
      ]
     },
     "execution_count": 52,
     "metadata": {},
     "output_type": "execute_result"
    }
   ],
   "source": [
    "# random forest using predicted independent variables to predict disaster counts\n",
    "rfmodel(x_2220, ('mountain west region','Fire')).predict(x_2220)"
   ]
  },
  {
   "cell_type": "markdown",
   "metadata": {},
   "source": [
    "### New England Northeast Storms"
   ]
  },
  {
   "cell_type": "code",
   "execution_count": 53,
   "metadata": {},
   "outputs": [],
   "source": [
    "# 2070 independent variables\n",
    "x_2070 = [[linearreg(('new england northeast region','Storm'), col, 2070).item() for col in columns]]"
   ]
  },
  {
   "cell_type": "code",
   "execution_count": 54,
   "metadata": {},
   "outputs": [
    {
     "data": {
      "text/plain": [
       "array([7.74])"
      ]
     },
     "execution_count": 54,
     "metadata": {},
     "output_type": "execute_result"
    }
   ],
   "source": [
    "# random forest using predicted independent variables to predict disaster counts\n",
    "rfmodel(x_2070, ('new england northeast region','Storm')).predict(x_2070)"
   ]
  },
  {
   "cell_type": "markdown",
   "metadata": {},
   "source": [
    "#### predict 2120"
   ]
  },
  {
   "cell_type": "code",
   "execution_count": 55,
   "metadata": {},
   "outputs": [],
   "source": [
    "# 2120 independent variables\n",
    "x_2120 = [[linearreg(('new england northeast region','Storm'), col, 2120).item() for col in columns]]"
   ]
  },
  {
   "cell_type": "code",
   "execution_count": 56,
   "metadata": {
    "scrolled": true
   },
   "outputs": [
    {
     "data": {
      "text/plain": [
       "array([7.41])"
      ]
     },
     "execution_count": 56,
     "metadata": {},
     "output_type": "execute_result"
    }
   ],
   "source": [
    "# random forest using predicted independent variables to predict disaster counts\n",
    "rfmodel(x_2120, ('new england northeast region','Storm')).predict(x_2120)"
   ]
  },
  {
   "cell_type": "markdown",
   "metadata": {},
   "source": [
    "#### predict 2220"
   ]
  },
  {
   "cell_type": "code",
   "execution_count": 57,
   "metadata": {},
   "outputs": [],
   "source": [
    "# 2220 independent variables\n",
    "x_2220 = [[linearreg(('new england northeast region','Storm'), col, 2220).item() for col in columns]]"
   ]
  },
  {
   "cell_type": "code",
   "execution_count": 58,
   "metadata": {
    "scrolled": false
   },
   "outputs": [
    {
     "data": {
      "text/plain": [
       "array([7.39])"
      ]
     },
     "execution_count": 58,
     "metadata": {},
     "output_type": "execute_result"
    }
   ],
   "source": [
    "# random forest using predicted independent variables to predict disaster counts\n",
    "rfmodel(x_2220, ('new england northeast region','Storm')).predict(x_2220)"
   ]
  },
  {
   "cell_type": "markdown",
   "metadata": {},
   "source": [
    "###  Midatlantic Northeast Hurricanes"
   ]
  },
  {
   "cell_type": "code",
   "execution_count": 59,
   "metadata": {},
   "outputs": [],
   "source": [
    "# 2070 independent variables\n",
    "x_2070 = [[linearreg(('midatlantic northeast region','Hurricane'), col, 2070).item() for col in columns]]"
   ]
  },
  {
   "cell_type": "code",
   "execution_count": 60,
   "metadata": {},
   "outputs": [
    {
     "data": {
      "text/plain": [
       "array([3.9])"
      ]
     },
     "execution_count": 60,
     "metadata": {},
     "output_type": "execute_result"
    }
   ],
   "source": [
    "# random forest using predicted independent variables to predict disaster counts\n",
    "rfmodel(x_2070, ('midatlantic northeast region','Hurricane')).predict(x_2070)"
   ]
  },
  {
   "cell_type": "markdown",
   "metadata": {},
   "source": [
    "#### predict 2120"
   ]
  },
  {
   "cell_type": "code",
   "execution_count": 61,
   "metadata": {},
   "outputs": [],
   "source": [
    "# 2120 independent variables\n",
    "x_2120 = [[linearreg(('midatlantic northeast region','Hurricane'), col, 2120).item() for col in columns]]"
   ]
  },
  {
   "cell_type": "code",
   "execution_count": 62,
   "metadata": {},
   "outputs": [
    {
     "data": {
      "text/plain": [
       "array([4.02])"
      ]
     },
     "execution_count": 62,
     "metadata": {},
     "output_type": "execute_result"
    }
   ],
   "source": [
    "# random forest using predicted independent variables to predict disaster counts\n",
    "rfmodel(x_2120, ('midatlantic northeast region','Hurricane')).predict(x_2120)"
   ]
  },
  {
   "cell_type": "markdown",
   "metadata": {},
   "source": [
    "#### predict 2220"
   ]
  },
  {
   "cell_type": "code",
   "execution_count": 63,
   "metadata": {},
   "outputs": [],
   "source": [
    "# 2220 independent variables\n",
    "x_2220 = [[linearreg(('midatlantic northeast region','Hurricane'), col, 2220).item() for col in columns]]"
   ]
  },
  {
   "cell_type": "code",
   "execution_count": 64,
   "metadata": {
    "scrolled": false
   },
   "outputs": [
    {
     "data": {
      "text/plain": [
       "array([4.04])"
      ]
     },
     "execution_count": 64,
     "metadata": {},
     "output_type": "execute_result"
    }
   ],
   "source": [
    "# random forest using predicted independent variables to predict disaster counts\n",
    "rfmodel(x_2220, ('midatlantic northeast region','Hurricane')).predict(x_2220)"
   ]
  },
  {
   "cell_type": "markdown",
   "metadata": {},
   "source": [
    "### look at mulitple linear regressions for certain disaster / region pair"
   ]
  },
  {
   "cell_type": "code",
   "execution_count": 65,
   "metadata": {},
   "outputs": [],
   "source": [
    "# train and test data for modeling\n",
    "def lrvalues(key):\n",
    "    X = joindf.loc[key].drop(['Disaster Count'], axis=1).values\n",
    "    y = joindf.loc[key]['Disaster Count'].values\n",
    "    \n",
    "    X_train, X_test, y_train, y_test = train_test_split(X, y, test_size=0.3, random_state=42)\n",
    "\n",
    "\n",
    "    lm = linear_model.LinearRegression()\n",
    "    lm.fit(X_train, y_train)\n",
    "    \n",
    "    y_pred = lm.predict(X_test)\n",
    "    \n",
    "    errors = abs(y_pred - y_test)\n",
    "    \n",
    "    return (\"R^2 (Score): {}\".format(lm.score(X_test, y_test))), \"Mean Absolute Error: {}\".format(round(np.mean(errors), 2))\n"
   ]
  },
  {
   "cell_type": "code",
   "execution_count": 66,
   "metadata": {},
   "outputs": [],
   "source": [
    "# train and test data for modeling\n",
    "def lrmodel(key):\n",
    "    X = joindf.loc[key].drop(['Disaster Count'], axis=1).values\n",
    "    y = joindf.loc[key]['Disaster Count'].values\n",
    "    \n",
    "    X_train, X_test, y_train, y_test = train_test_split(X, y, test_size=0.3, random_state=42)\n",
    "\n",
    "\n",
    "    lm = linear_model.LinearRegression()\n",
    "    lm.fit(X_train, y_train)\n",
    "    \n",
    "    y_pred = lm.predict(X_test)\n",
    "    \n",
    "    rmse = np.sqrt(mean_squared_error(y_test, y_pred))\n",
    "    \n",
    "    return lm\n",
    "\n"
   ]
  },
  {
   "cell_type": "markdown",
   "metadata": {},
   "source": [
    "### Mountain West Fires"
   ]
  },
  {
   "cell_type": "code",
   "execution_count": 67,
   "metadata": {},
   "outputs": [
    {
     "data": {
      "text/plain": [
       "('R^2 (Score): 0.4422854289567397', 'Mean Absolute Error: 4.53')"
      ]
     },
     "execution_count": 67,
     "metadata": {},
     "output_type": "execute_result"
    }
   ],
   "source": [
    "lrvalues(('mountain west region', 'Fire'))"
   ]
  },
  {
   "cell_type": "markdown",
   "metadata": {},
   "source": [
    "#### predict 2070"
   ]
  },
  {
   "cell_type": "code",
   "execution_count": 68,
   "metadata": {},
   "outputs": [],
   "source": [
    "# 2070 independent variables\n",
    "x_2070 = [[linearreg(('mountain west region', 'Fire'), col, 2070).item() for col in columns]]"
   ]
  },
  {
   "cell_type": "code",
   "execution_count": 69,
   "metadata": {},
   "outputs": [
    {
     "data": {
      "text/plain": [
       "array([22.54352105])"
      ]
     },
     "execution_count": 69,
     "metadata": {},
     "output_type": "execute_result"
    }
   ],
   "source": [
    "# random forest using predicted independent variables to predict disaster counts\n",
    "lrmodel(('mountain west region', 'Fire')).predict(x_2070)"
   ]
  },
  {
   "cell_type": "markdown",
   "metadata": {},
   "source": [
    "#### predict 2120"
   ]
  },
  {
   "cell_type": "code",
   "execution_count": 70,
   "metadata": {},
   "outputs": [],
   "source": [
    "# 2120 independent variables\n",
    "x_2120 = [[linearreg(('mountain west region', 'Fire'), col, 2120).item() for col in columns]]"
   ]
  },
  {
   "cell_type": "code",
   "execution_count": 71,
   "metadata": {},
   "outputs": [
    {
     "data": {
      "text/plain": [
       "array([33.71324113])"
      ]
     },
     "execution_count": 71,
     "metadata": {},
     "output_type": "execute_result"
    }
   ],
   "source": [
    "# random forest using predicted independent variables to predict disaster counts\n",
    "lrmodel(('mountain west region', 'Fire')).predict(x_2120)"
   ]
  },
  {
   "cell_type": "markdown",
   "metadata": {},
   "source": [
    "#### predict 2220"
   ]
  },
  {
   "cell_type": "code",
   "execution_count": 72,
   "metadata": {},
   "outputs": [],
   "source": [
    "# 2220 independent variables\n",
    "x_2220 = [[linearreg(('mountain west region', 'Fire'), col, 2220).item() for col in columns]]"
   ]
  },
  {
   "cell_type": "code",
   "execution_count": 73,
   "metadata": {
    "scrolled": true
   },
   "outputs": [
    {
     "data": {
      "text/plain": [
       "array([56.05268131])"
      ]
     },
     "execution_count": 73,
     "metadata": {},
     "output_type": "execute_result"
    }
   ],
   "source": [
    "# random forest using predicted independent variables to predict disaster counts\n",
    "lrmodel(('mountain west region', 'Fire')).predict(x_2220)"
   ]
  },
  {
   "cell_type": "markdown",
   "metadata": {},
   "source": [
    "### New England Northeast Storms"
   ]
  },
  {
   "cell_type": "code",
   "execution_count": 74,
   "metadata": {},
   "outputs": [
    {
     "data": {
      "text/plain": [
       "('R^2 (Score): 0.016837948297870886', 'Mean Absolute Error: 1.84')"
      ]
     },
     "execution_count": 74,
     "metadata": {},
     "output_type": "execute_result"
    }
   ],
   "source": [
    "lrvalues(('new england northeast region','Storm'))"
   ]
  },
  {
   "cell_type": "markdown",
   "metadata": {},
   "source": [
    "#### predict 2070"
   ]
  },
  {
   "cell_type": "code",
   "execution_count": 75,
   "metadata": {},
   "outputs": [],
   "source": [
    "# 2070 independent variables\n",
    "x_2070 = [[linearreg(('new england northeast region','Storm'), col, 2070).item() for col in columns]]"
   ]
  },
  {
   "cell_type": "code",
   "execution_count": 76,
   "metadata": {},
   "outputs": [
    {
     "data": {
      "text/plain": [
       "array([10.55488549])"
      ]
     },
     "execution_count": 76,
     "metadata": {},
     "output_type": "execute_result"
    }
   ],
   "source": [
    "# random forest using predicted independent variables to predict disaster counts\n",
    "lrmodel(('new england northeast region','Storm')).predict(x_2070)"
   ]
  },
  {
   "cell_type": "markdown",
   "metadata": {},
   "source": [
    "#### predict 2120"
   ]
  },
  {
   "cell_type": "code",
   "execution_count": 77,
   "metadata": {},
   "outputs": [],
   "source": [
    "# 2120 independent variables\n",
    "x_2120 = [[linearreg(('new england northeast region','Storm'), col, 2120).item() for col in columns]]"
   ]
  },
  {
   "cell_type": "code",
   "execution_count": 78,
   "metadata": {},
   "outputs": [
    {
     "data": {
      "text/plain": [
       "array([15.76451569])"
      ]
     },
     "execution_count": 78,
     "metadata": {},
     "output_type": "execute_result"
    }
   ],
   "source": [
    "# random forest using predicted independent variables to predict disaster counts\n",
    "lrmodel(('new england northeast region','Storm')).predict(x_2120)"
   ]
  },
  {
   "cell_type": "markdown",
   "metadata": {},
   "source": [
    "#### predict 2220"
   ]
  },
  {
   "cell_type": "code",
   "execution_count": 79,
   "metadata": {},
   "outputs": [],
   "source": [
    "# 2220 independent variables\n",
    "x_2220 = [[linearreg(('new england northeast region','Storm'), col, 2220).item() for col in columns]]"
   ]
  },
  {
   "cell_type": "code",
   "execution_count": 80,
   "metadata": {
    "scrolled": false
   },
   "outputs": [
    {
     "data": {
      "text/plain": [
       "array([26.18377609])"
      ]
     },
     "execution_count": 80,
     "metadata": {},
     "output_type": "execute_result"
    }
   ],
   "source": [
    "# random forest using predicted independent variables to predict disaster counts\n",
    "lrmodel(('new england northeast region','Storm')).predict(x_2220)"
   ]
  },
  {
   "cell_type": "markdown",
   "metadata": {},
   "source": [
    "###  Midatlantic Northeast Hurricanes"
   ]
  },
  {
   "cell_type": "code",
   "execution_count": 81,
   "metadata": {},
   "outputs": [
    {
     "data": {
      "text/plain": [
       "('R^2 (Score): 0.25293892134807916', 'Mean Absolute Error: 0.91')"
      ]
     },
     "execution_count": 81,
     "metadata": {},
     "output_type": "execute_result"
    }
   ],
   "source": [
    "lrvalues(('midatlantic northeast region','Hurricane'))"
   ]
  },
  {
   "cell_type": "markdown",
   "metadata": {},
   "source": [
    "#### predict 2070"
   ]
  },
  {
   "cell_type": "code",
   "execution_count": 82,
   "metadata": {},
   "outputs": [],
   "source": [
    "# 2070 independent variables\n",
    "x_2070 = [[linearreg(('midatlantic northeast region','Hurricane'), col, 2070).item() for col in columns]]"
   ]
  },
  {
   "cell_type": "code",
   "execution_count": 83,
   "metadata": {},
   "outputs": [
    {
     "data": {
      "text/plain": [
       "array([1.82226231])"
      ]
     },
     "execution_count": 83,
     "metadata": {},
     "output_type": "execute_result"
    }
   ],
   "source": [
    "# random forest using predicted independent variables to predict disaster counts\n",
    "lrmodel(('midatlantic northeast region','Hurricane')).predict(x_2070)"
   ]
  },
  {
   "cell_type": "markdown",
   "metadata": {},
   "source": [
    "#### predict 2120"
   ]
  },
  {
   "cell_type": "code",
   "execution_count": 84,
   "metadata": {},
   "outputs": [],
   "source": [
    "# 2120 independent variables\n",
    "x_2120 = [[linearreg(('midatlantic northeast region','Hurricane'), col, 2120).item() for col in columns]]"
   ]
  },
  {
   "cell_type": "code",
   "execution_count": 85,
   "metadata": {},
   "outputs": [
    {
     "data": {
      "text/plain": [
       "array([2.58658222])"
      ]
     },
     "execution_count": 85,
     "metadata": {},
     "output_type": "execute_result"
    }
   ],
   "source": [
    "# random forest using predicted independent variables to predict disaster counts\n",
    "lrmodel(('midatlantic northeast region','Hurricane')).predict(x_2120)"
   ]
  },
  {
   "cell_type": "markdown",
   "metadata": {},
   "source": [
    "#### predict 2220"
   ]
  },
  {
   "cell_type": "code",
   "execution_count": 86,
   "metadata": {},
   "outputs": [],
   "source": [
    "# 2220 independent variables\n",
    "x_2220 = [[linearreg(('midatlantic northeast region','Hurricane'), col, 2220).item() for col in columns]]"
   ]
  },
  {
   "cell_type": "code",
   "execution_count": 87,
   "metadata": {
    "scrolled": true
   },
   "outputs": [
    {
     "data": {
      "text/plain": [
       "array([4.11522203])"
      ]
     },
     "execution_count": 87,
     "metadata": {},
     "output_type": "execute_result"
    }
   ],
   "source": [
    "# random forest using predicted independent variables to predict disaster counts\n",
    "lrmodel(('midatlantic northeast region','Hurricane')).predict(x_2220)"
   ]
  },
  {
   "cell_type": "markdown",
   "metadata": {},
   "source": [
    "### look at single linear regressions for certain disaster / region pair"
   ]
  },
  {
   "cell_type": "code",
   "execution_count": 88,
   "metadata": {},
   "outputs": [],
   "source": [
    "# train and test data for modeling\n",
    "def singlelrvalues(key):\n",
    "    X = joindf.loc[key]['AverageTemperature_mean'].values.reshape(-1,1)\n",
    "    y = joindf.loc[key]['Disaster Count'].values.reshape(-1,1)\n",
    "    \n",
    "    X_train, X_test, y_train, y_test = train_test_split(X, y, test_size=0.3, random_state=42)\n",
    "\n",
    "\n",
    "    lm = linear_model.LinearRegression()\n",
    "    lm.fit(X_train, y_train)\n",
    "    \n",
    "    y_pred = lm.predict(X_test)\n",
    "    \n",
    "    errors = abs(y_pred - y_test)\n",
    "    \n",
    "    return (\"R^2 (Score): {}\".format(lm.score(X_test, y_test))), \"Mean Absolute Error: {}\".format(round(np.mean(errors), 2))\n"
   ]
  },
  {
   "cell_type": "code",
   "execution_count": 89,
   "metadata": {},
   "outputs": [],
   "source": [
    "# train and test data for modeling\n",
    "def singlelrmodel(key):\n",
    "    X = joindf.loc[key]['AverageTemperature_mean'].values.reshape(-1,1)\n",
    "    y = joindf.loc[key]['Disaster Count'].values.reshape(-1,1)\n",
    "    \n",
    "    X_train, X_test, y_train, y_test = train_test_split(X, y, test_size=0.3, random_state=42)\n",
    "\n",
    "\n",
    "    lm = linear_model.LinearRegression()\n",
    "    lm.fit(X_train, y_train)\n",
    "    \n",
    "    y_pred = lm.predict(X_test)\n",
    "    \n",
    "    return lm\n",
    "\n"
   ]
  },
  {
   "cell_type": "markdown",
   "metadata": {},
   "source": [
    "### Mountain West Fires"
   ]
  },
  {
   "cell_type": "code",
   "execution_count": 90,
   "metadata": {},
   "outputs": [
    {
     "data": {
      "text/plain": [
       "('R^2 (Score): 0.14879969432065432', 'Mean Absolute Error: 5.38')"
      ]
     },
     "execution_count": 90,
     "metadata": {},
     "output_type": "execute_result"
    }
   ],
   "source": [
    "singlelrvalues(('mountain west region', 'Fire'))"
   ]
  },
  {
   "cell_type": "markdown",
   "metadata": {},
   "source": [
    "#### predict 2070"
   ]
  },
  {
   "cell_type": "code",
   "execution_count": 91,
   "metadata": {},
   "outputs": [],
   "source": [
    "# 2070 independent variables\n",
    "x_2070 = linearreg(('mountain west region', 'Fire'), 'AverageTemperature_mean', 2070)"
   ]
  },
  {
   "cell_type": "code",
   "execution_count": 92,
   "metadata": {},
   "outputs": [
    {
     "data": {
      "text/plain": [
       "array([[9.12095369]])"
      ]
     },
     "execution_count": 92,
     "metadata": {},
     "output_type": "execute_result"
    }
   ],
   "source": [
    "# random forest using predicted independent variables to predict disaster counts\n",
    "singlelrmodel(('mountain west region', 'Fire')).predict(x_2070)"
   ]
  },
  {
   "cell_type": "markdown",
   "metadata": {},
   "source": [
    "#### predict 2120"
   ]
  },
  {
   "cell_type": "code",
   "execution_count": 93,
   "metadata": {},
   "outputs": [],
   "source": [
    "# 2120 independent variables\n",
    "x_2120 = linearreg(('mountain west region', 'Fire'), 'AverageTemperature_mean', 2120)"
   ]
  },
  {
   "cell_type": "code",
   "execution_count": 94,
   "metadata": {},
   "outputs": [
    {
     "data": {
      "text/plain": [
       "array([[12.57059004]])"
      ]
     },
     "execution_count": 94,
     "metadata": {},
     "output_type": "execute_result"
    }
   ],
   "source": [
    "# random forest using predicted independent variables to predict disaster counts\n",
    "singlelrmodel(('mountain west region', 'Fire')).predict(x_2120)"
   ]
  },
  {
   "cell_type": "markdown",
   "metadata": {},
   "source": [
    "#### predict 2220"
   ]
  },
  {
   "cell_type": "code",
   "execution_count": 95,
   "metadata": {},
   "outputs": [],
   "source": [
    "# 2220 independent variables\n",
    "x_2220 = linearreg(('mountain west region', 'Fire'), 'AverageTemperature_mean', 2220)"
   ]
  },
  {
   "cell_type": "code",
   "execution_count": 96,
   "metadata": {
    "scrolled": true
   },
   "outputs": [
    {
     "data": {
      "text/plain": [
       "array([[19.46986275]])"
      ]
     },
     "execution_count": 96,
     "metadata": {},
     "output_type": "execute_result"
    }
   ],
   "source": [
    "# random forest using predicted independent variables to predict disaster counts\n",
    "singlelrmodel(('mountain west region', 'Fire')).predict(x_2220)"
   ]
  },
  {
   "cell_type": "markdown",
   "metadata": {},
   "source": [
    "### New England Northeast Storms"
   ]
  },
  {
   "cell_type": "code",
   "execution_count": 97,
   "metadata": {},
   "outputs": [
    {
     "data": {
      "text/plain": [
       "('R^2 (Score): -0.12206284165732617', 'Mean Absolute Error: 1.78')"
      ]
     },
     "execution_count": 97,
     "metadata": {},
     "output_type": "execute_result"
    }
   ],
   "source": [
    "singlelrvalues(('new england northeast region', 'Storm'))"
   ]
  },
  {
   "cell_type": "markdown",
   "metadata": {},
   "source": [
    "#### predict 2070"
   ]
  },
  {
   "cell_type": "code",
   "execution_count": 98,
   "metadata": {},
   "outputs": [],
   "source": [
    "# 2070 independent variables\n",
    "x_2070 = linearreg(('new england northeast region', 'Storm'), 'AverageTemperature_mean', 2070)"
   ]
  },
  {
   "cell_type": "code",
   "execution_count": 99,
   "metadata": {},
   "outputs": [
    {
     "data": {
      "text/plain": [
       "array([[6.1015616]])"
      ]
     },
     "execution_count": 99,
     "metadata": {},
     "output_type": "execute_result"
    }
   ],
   "source": [
    "# random forest using predicted independent variables to predict disaster counts\n",
    "singlelrmodel(('new england northeast region', 'Storm')).predict(x_2070)"
   ]
  },
  {
   "cell_type": "markdown",
   "metadata": {},
   "source": [
    "#### predict 2120"
   ]
  },
  {
   "cell_type": "code",
   "execution_count": 100,
   "metadata": {},
   "outputs": [],
   "source": [
    "# 2120 independent variables\n",
    "x_2120 = linearreg(('new england northeast region', 'Storm'), 'AverageTemperature_mean', 2120)"
   ]
  },
  {
   "cell_type": "code",
   "execution_count": 101,
   "metadata": {},
   "outputs": [
    {
     "data": {
      "text/plain": [
       "array([[8.66634097]])"
      ]
     },
     "execution_count": 101,
     "metadata": {},
     "output_type": "execute_result"
    }
   ],
   "source": [
    "# random forest using predicted independent variables to predict disaster counts\n",
    "singlelrmodel(('new england northeast region', 'Storm')).predict(x_2120)"
   ]
  },
  {
   "cell_type": "markdown",
   "metadata": {},
   "source": [
    "#### predict 2220"
   ]
  },
  {
   "cell_type": "code",
   "execution_count": 102,
   "metadata": {},
   "outputs": [],
   "source": [
    "# 2220 independent variables\n",
    "x_2220 = linearreg(('new england northeast region', 'Storm'), 'AverageTemperature_mean', 2220)"
   ]
  },
  {
   "cell_type": "code",
   "execution_count": 103,
   "metadata": {
    "scrolled": true
   },
   "outputs": [
    {
     "data": {
      "text/plain": [
       "array([[13.79589971]])"
      ]
     },
     "execution_count": 103,
     "metadata": {},
     "output_type": "execute_result"
    }
   ],
   "source": [
    "# random forest using predicted independent variables to predict disaster counts\n",
    "singlelrmodel(('new england northeast region', 'Storm')).predict(x_2220)"
   ]
  },
  {
   "cell_type": "markdown",
   "metadata": {},
   "source": [
    "### Midatlantic Hurricane"
   ]
  },
  {
   "cell_type": "code",
   "execution_count": 104,
   "metadata": {},
   "outputs": [
    {
     "data": {
      "text/plain": [
       "('R^2 (Score): 0.22909470780608177', 'Mean Absolute Error: 0.82')"
      ]
     },
     "execution_count": 104,
     "metadata": {},
     "output_type": "execute_result"
    }
   ],
   "source": [
    "singlelrvalues(('midatlantic northeast region', 'Hurricane'))"
   ]
  },
  {
   "cell_type": "markdown",
   "metadata": {},
   "source": [
    "#### predict 2070"
   ]
  },
  {
   "cell_type": "code",
   "execution_count": 105,
   "metadata": {},
   "outputs": [],
   "source": [
    "# 2070 independent variables\n",
    "x_2070 = linearreg(('midatlantic northeast region', 'Hurricane'), 'Winter', 2070)"
   ]
  },
  {
   "cell_type": "code",
   "execution_count": 106,
   "metadata": {},
   "outputs": [
    {
     "data": {
      "text/plain": [
       "array([[-4.4499376]])"
      ]
     },
     "execution_count": 106,
     "metadata": {},
     "output_type": "execute_result"
    }
   ],
   "source": [
    "# random forest using predicted independent variables to predict disaster counts\n",
    "singlelrmodel(('midatlantic northeast region', 'Hurricane')).predict(x_2070)"
   ]
  },
  {
   "cell_type": "markdown",
   "metadata": {},
   "source": [
    "#### predict 2120"
   ]
  },
  {
   "cell_type": "code",
   "execution_count": 107,
   "metadata": {},
   "outputs": [],
   "source": [
    "# 2120 independent variables\n",
    "x_2120 = linearreg(('midatlantic northeast region', 'Hurricane'), 'Winter', 2120)"
   ]
  },
  {
   "cell_type": "code",
   "execution_count": 108,
   "metadata": {},
   "outputs": [
    {
     "data": {
      "text/plain": [
       "array([[-3.70790503]])"
      ]
     },
     "execution_count": 108,
     "metadata": {},
     "output_type": "execute_result"
    }
   ],
   "source": [
    "# random forest using predicted independent variables to predict disaster counts\n",
    "singlelrmodel(('midatlantic northeast region', 'Hurricane')).predict(x_2120)"
   ]
  },
  {
   "cell_type": "markdown",
   "metadata": {},
   "source": [
    "#### predict 2220"
   ]
  },
  {
   "cell_type": "code",
   "execution_count": 109,
   "metadata": {},
   "outputs": [],
   "source": [
    "# 2220 independent variables\n",
    "x_2220 = linearreg(('midatlantic northeast region', 'Hurricane'), 'Winter', 2220)"
   ]
  },
  {
   "cell_type": "code",
   "execution_count": 110,
   "metadata": {
    "scrolled": false
   },
   "outputs": [
    {
     "data": {
      "text/plain": [
       "array([[-2.22383989]])"
      ]
     },
     "execution_count": 110,
     "metadata": {},
     "output_type": "execute_result"
    }
   ],
   "source": [
    "# random forest using predicted independent variables to predict disaster counts\n",
    "singlelrmodel(('midatlantic northeast region', 'Hurricane')).predict(x_2220)"
   ]
  }
 ],
 "metadata": {
  "kernelspec": {
   "display_name": "Python 3",
   "language": "python",
   "name": "python3"
  },
  "language_info": {
   "codemirror_mode": {
    "name": "ipython",
    "version": 3
   },
   "file_extension": ".py",
   "mimetype": "text/x-python",
   "name": "python",
   "nbconvert_exporter": "python",
   "pygments_lexer": "ipython3",
   "version": "3.6.5"
  }
 },
 "nbformat": 4,
 "nbformat_minor": 2
}
