{
 "cells": [
  {
   "cell_type": "markdown",
   "metadata": {},
   "source": [
    " # Import necessary packages"
   ]
  },
  {
   "cell_type": "code",
   "execution_count": 1,
   "metadata": {},
   "outputs": [],
   "source": [
    "import pandas as pd\n",
    "import numpy as np\n",
    "import matplotlib as mpl\n",
    "from matplotlib import pyplot as plt\n",
    "import seaborn as sns\n",
    "import datetime as dt\n",
    "\n",
    "from sklearn import linear_model\n",
    "from sklearn import metrics\n",
    "from sklearn import model_selection\n",
    "from sklearn.linear_model import LinearRegression\n",
    "from sklearn.metrics import mean_squared_error\n",
    "from sklearn.model_selection import train_test_split\n",
    "from sklearn.ensemble import RandomForestRegressor\n",
    "\n",
    "from scipy import stats\n",
    "import statsmodels.api as sm\n",
    "from statsmodels.formula.api import ols"
   ]
  },
  {
   "cell_type": "markdown",
   "metadata": {},
   "source": [
    "# Raw DataFrames"
   ]
  },
  {
   "cell_type": "code",
   "execution_count": 2,
   "metadata": {},
   "outputs": [],
   "source": [
    "# global land temperature data by city, with latitude/longitude values\n",
    "filename = 'Global-Land-Temperatures-By-City.csv'\n",
    "temp_df = pd.read_csv(filename)"
   ]
  },
  {
   "cell_type": "code",
   "execution_count": 3,
   "metadata": {},
   "outputs": [],
   "source": [
    "# US federal emergency data, join on county\n",
    "filename1 = 'federal_emergencies.csv'\n",
    "disaster_df = pd.read_csv(filename1)"
   ]
  },
  {
   "cell_type": "code",
   "execution_count": 4,
   "metadata": {},
   "outputs": [],
   "source": [
    "# data of latitude/longitude and county to merge two dataframes\n",
    "filename2 = 'zip_codes_states.csv'\n",
    "us_join = pd.read_csv(filename2)"
   ]
  },
  {
   "cell_type": "markdown",
   "metadata": {},
   "source": [
    "# Cleaning steps"
   ]
  },
  {
   "cell_type": "code",
   "execution_count": 5,
   "metadata": {},
   "outputs": [],
   "source": [
    "# temp_df: drop all countries except US and drop NaN values\n",
    "temp_us = temp_df[temp_df['Country'] == 'United States'].dropna()"
   ]
  },
  {
   "cell_type": "code",
   "execution_count": 6,
   "metadata": {},
   "outputs": [],
   "source": [
    "# temp_df: create new lat/long columns dropping NESW direction\n",
    "temp_us['lat_n'] = [float(lat[:-1]) if lat[-1]=='N' else -1*float(lat[:-1]) for lat in temp_us.loc[:,'Latitude']]\n",
    "temp_us['lon_n'] = [float(lon[:-1]) if lon[-1]=='E' else -1*float(lon[:-1]) for lon in temp_us.loc[:,'Longitude']]"
   ]
  },
  {
   "cell_type": "code",
   "execution_count": 7,
   "metadata": {},
   "outputs": [],
   "source": [
    "# unique coordinates in the temp_us dataframe\n",
    "temp_us_coords = temp_us[['lat_n','lon_n']].drop_duplicates()"
   ]
  },
  {
   "cell_type": "code",
   "execution_count": 8,
   "metadata": {},
   "outputs": [],
   "source": [
    "# function adds a column with pythagorean theorem \n",
    "def coord2loc(coords):\n",
    "    us2 = us_join.copy()\n",
    "    us2['dist'] = ((us2.latitude-coords.lat_n)**2+(us2.longitude-coords.lon_n)**2)**(1/2)\n",
    "    state = us2.loc[us2.dist==min(us2.dist)]['state'].values[0]\n",
    "    county = us2.loc[us2.dist==min(us2.dist)]['county'].values[0]\n",
    "    return([coords.lat_n,coords.lon_n,state,county])"
   ]
  },
  {
   "cell_type": "code",
   "execution_count": 9,
   "metadata": {},
   "outputs": [],
   "source": [
    "# create dataframe to join on between\n",
    "join = pd.DataFrame([coord2loc(coords[1]) for coords in temp_us_coords.iterrows()])\n",
    "join.columns = ['lat_n','lon_n','state','county']"
   ]
  },
  {
   "cell_type": "code",
   "execution_count": 10,
   "metadata": {},
   "outputs": [],
   "source": [
    "# merge temp_df and us_join\n",
    "temp_county = pd.merge(temp_us, join, how='left', on = ['lat_n', 'lon_n'])"
   ]
  },
  {
   "cell_type": "code",
   "execution_count": 11,
   "metadata": {},
   "outputs": [],
   "source": [
    "# add \"County\" to the end of the county names to join on the disaster dataframe\n",
    "temp_county['countyname'] = temp_county.county +' County'"
   ]
  },
  {
   "cell_type": "code",
   "execution_count": 12,
   "metadata": {},
   "outputs": [],
   "source": [
    "temp_county['dt'] = pd.to_datetime(temp_county['dt'], format='%Y/%m/%d')\n",
    "temp_county['year'] = temp_county['dt'].dt.year"
   ]
  },
  {
   "cell_type": "code",
   "execution_count": 13,
   "metadata": {},
   "outputs": [
    {
     "data": {
      "text/html": [
       "<div>\n",
       "<style scoped>\n",
       "    .dataframe tbody tr th:only-of-type {\n",
       "        vertical-align: middle;\n",
       "    }\n",
       "\n",
       "    .dataframe tbody tr th {\n",
       "        vertical-align: top;\n",
       "    }\n",
       "\n",
       "    .dataframe thead th {\n",
       "        text-align: right;\n",
       "    }\n",
       "</style>\n",
       "<table border=\"1\" class=\"dataframe\">\n",
       "  <thead>\n",
       "    <tr style=\"text-align: right;\">\n",
       "      <th></th>\n",
       "      <th>dt</th>\n",
       "      <th>AverageTemperature</th>\n",
       "      <th>AverageTemperatureUncertainty</th>\n",
       "      <th>City</th>\n",
       "      <th>Country</th>\n",
       "      <th>Latitude</th>\n",
       "      <th>Longitude</th>\n",
       "      <th>lat_n</th>\n",
       "      <th>lon_n</th>\n",
       "      <th>state</th>\n",
       "      <th>county</th>\n",
       "      <th>countyname</th>\n",
       "      <th>year</th>\n",
       "    </tr>\n",
       "  </thead>\n",
       "  <tbody>\n",
       "    <tr>\n",
       "      <th>0</th>\n",
       "      <td>1820-01-01</td>\n",
       "      <td>2.101</td>\n",
       "      <td>3.217</td>\n",
       "      <td>Abilene</td>\n",
       "      <td>United States</td>\n",
       "      <td>32.95N</td>\n",
       "      <td>100.53W</td>\n",
       "      <td>32.95</td>\n",
       "      <td>-100.53</td>\n",
       "      <td>TX</td>\n",
       "      <td>Fisher</td>\n",
       "      <td>Fisher County</td>\n",
       "      <td>1820</td>\n",
       "    </tr>\n",
       "    <tr>\n",
       "      <th>1</th>\n",
       "      <td>1820-02-01</td>\n",
       "      <td>6.926</td>\n",
       "      <td>2.853</td>\n",
       "      <td>Abilene</td>\n",
       "      <td>United States</td>\n",
       "      <td>32.95N</td>\n",
       "      <td>100.53W</td>\n",
       "      <td>32.95</td>\n",
       "      <td>-100.53</td>\n",
       "      <td>TX</td>\n",
       "      <td>Fisher</td>\n",
       "      <td>Fisher County</td>\n",
       "      <td>1820</td>\n",
       "    </tr>\n",
       "    <tr>\n",
       "      <th>2</th>\n",
       "      <td>1820-03-01</td>\n",
       "      <td>10.767</td>\n",
       "      <td>2.395</td>\n",
       "      <td>Abilene</td>\n",
       "      <td>United States</td>\n",
       "      <td>32.95N</td>\n",
       "      <td>100.53W</td>\n",
       "      <td>32.95</td>\n",
       "      <td>-100.53</td>\n",
       "      <td>TX</td>\n",
       "      <td>Fisher</td>\n",
       "      <td>Fisher County</td>\n",
       "      <td>1820</td>\n",
       "    </tr>\n",
       "    <tr>\n",
       "      <th>3</th>\n",
       "      <td>1820-04-01</td>\n",
       "      <td>17.989</td>\n",
       "      <td>2.202</td>\n",
       "      <td>Abilene</td>\n",
       "      <td>United States</td>\n",
       "      <td>32.95N</td>\n",
       "      <td>100.53W</td>\n",
       "      <td>32.95</td>\n",
       "      <td>-100.53</td>\n",
       "      <td>TX</td>\n",
       "      <td>Fisher</td>\n",
       "      <td>Fisher County</td>\n",
       "      <td>1820</td>\n",
       "    </tr>\n",
       "    <tr>\n",
       "      <th>4</th>\n",
       "      <td>1820-05-01</td>\n",
       "      <td>21.809</td>\n",
       "      <td>2.036</td>\n",
       "      <td>Abilene</td>\n",
       "      <td>United States</td>\n",
       "      <td>32.95N</td>\n",
       "      <td>100.53W</td>\n",
       "      <td>32.95</td>\n",
       "      <td>-100.53</td>\n",
       "      <td>TX</td>\n",
       "      <td>Fisher</td>\n",
       "      <td>Fisher County</td>\n",
       "      <td>1820</td>\n",
       "    </tr>\n",
       "  </tbody>\n",
       "</table>\n",
       "</div>"
      ],
      "text/plain": [
       "          dt  AverageTemperature  AverageTemperatureUncertainty     City  \\\n",
       "0 1820-01-01               2.101                          3.217  Abilene   \n",
       "1 1820-02-01               6.926                          2.853  Abilene   \n",
       "2 1820-03-01              10.767                          2.395  Abilene   \n",
       "3 1820-04-01              17.989                          2.202  Abilene   \n",
       "4 1820-05-01              21.809                          2.036  Abilene   \n",
       "\n",
       "         Country Latitude Longitude  lat_n   lon_n state  county  \\\n",
       "0  United States   32.95N   100.53W  32.95 -100.53    TX  Fisher   \n",
       "1  United States   32.95N   100.53W  32.95 -100.53    TX  Fisher   \n",
       "2  United States   32.95N   100.53W  32.95 -100.53    TX  Fisher   \n",
       "3  United States   32.95N   100.53W  32.95 -100.53    TX  Fisher   \n",
       "4  United States   32.95N   100.53W  32.95 -100.53    TX  Fisher   \n",
       "\n",
       "      countyname  year  \n",
       "0  Fisher County  1820  \n",
       "1  Fisher County  1820  \n",
       "2  Fisher County  1820  \n",
       "3  Fisher County  1820  \n",
       "4  Fisher County  1820  "
      ]
     },
     "execution_count": 13,
     "metadata": {},
     "output_type": "execute_result"
    }
   ],
   "source": [
    "temp_county.head()"
   ]
  },
  {
   "cell_type": "code",
   "execution_count": 14,
   "metadata": {},
   "outputs": [],
   "source": [
    "# Extract month number for each row\n",
    "temp_county_seasons = temp_county.copy()\n",
    "temp_county_seasons['month'] = temp_county_seasons['dt'].dt.month"
   ]
  },
  {
   "cell_type": "code",
   "execution_count": 15,
   "metadata": {},
   "outputs": [],
   "source": [
    "# Assign seasons to each date\n",
    "temp_county_seasons['month'] = temp_county_seasons['month'].astype(str).astype(int)\n",
    "season_map = {12: 'Winter', 1: 'Winter', 2: 'Winter', \n",
    "              3: 'Spring', 4: 'Spring', 5: 'Spring', \n",
    "              6: 'Summer', 7: 'Summer', 8: 'Summer', \n",
    "              9: 'Fall', 10: 'Fall', 11: 'Fall'}\n",
    "def mapper(month):\n",
    "    return season_map[month]\n",
    "temp_county_seasons['season'] = temp_county_seasons['month'].apply(mapper)"
   ]
  },
  {
   "cell_type": "code",
   "execution_count": 16,
   "metadata": {},
   "outputs": [],
   "source": [
    "# Assign United States common regions to the states\n",
    "## Midwest Region\n",
    "east_north_central_midwest_region = ['IL','IN','MI','OH','WI']\n",
    "d1 = dict.fromkeys(east_north_central_midwest_region, 'east north central midwest region')\n",
    "\n",
    "west_north_central_midwest_region = ['IA','KS','MO','MN','ND','SD','NE']\n",
    "d2 = dict.fromkeys(west_north_central_midwest_region, 'west north central midwest region')\n",
    "\n",
    "## Northeast Region\n",
    "new_england_northeast_region = ['CT','ME','MA','NH','RI','VT']\n",
    "d3 = dict.fromkeys(new_england_northeast_region, 'new england northeast region')\n",
    "\n",
    "midatlantic_northeast_region = ['NY','PA','NJ']\n",
    "d4 = dict.fromkeys(midatlantic_northeast_region, 'midatlantic northeast region')\n",
    "\n",
    "## West Region\n",
    "pacific_west_region = ['AK','OR','WA','CA','HI']\n",
    "d5 = dict.fromkeys(pacific_west_region, 'pacific west region')\n",
    "\n",
    "mountain_west_region = ['AZ','CO','NM','UT','NV','WY','ID','MT']\n",
    "d6 = dict.fromkeys(mountain_west_region, 'mountain west region')\n",
    "\n",
    "## South Region\n",
    "west_south_central_south_region = ['AR','LA','OK','TX']\n",
    "d7 = dict.fromkeys(west_south_central_south_region, 'west south central south region')\n",
    "\n",
    "east_south_central_south_region = ['AL','MS','TN','KY']\n",
    "d8 = dict.fromkeys(east_south_central_south_region, 'east south central south region')\n",
    "\n",
    "south_atlantic_south_region = ['WV','MD','DC','DE','VA','NC','SC','GA','FL']\n",
    "d9 = dict.fromkeys(south_atlantic_south_region, 'south atlantic south region')\n"
   ]
  },
  {
   "cell_type": "code",
   "execution_count": 17,
   "metadata": {},
   "outputs": [],
   "source": [
    "temp_county_region = temp_county_seasons.copy()\n",
    "d = {**d1, **d2, **d3, **d4, **d5, **d6, **d7, **d8, **d9}\n",
    "temp_county_region['region'] = temp_county_region['state'].map(d)"
   ]
  },
  {
   "cell_type": "code",
   "execution_count": 18,
   "metadata": {},
   "outputs": [],
   "source": [
    "temp_county_region['date_delta'] = (temp_county_region['dt'] - temp_county_region['dt'].min())  / np.timedelta64(1,'D')\n"
   ]
  },
  {
   "cell_type": "code",
   "execution_count": 19,
   "metadata": {},
   "outputs": [
    {
     "data": {
      "text/html": [
       "<div>\n",
       "<style scoped>\n",
       "    .dataframe tbody tr th:only-of-type {\n",
       "        vertical-align: middle;\n",
       "    }\n",
       "\n",
       "    .dataframe tbody tr th {\n",
       "        vertical-align: top;\n",
       "    }\n",
       "\n",
       "    .dataframe thead th {\n",
       "        text-align: right;\n",
       "    }\n",
       "</style>\n",
       "<table border=\"1\" class=\"dataframe\">\n",
       "  <thead>\n",
       "    <tr style=\"text-align: right;\">\n",
       "      <th></th>\n",
       "      <th>dt</th>\n",
       "      <th>AverageTemperature</th>\n",
       "      <th>AverageTemperatureUncertainty</th>\n",
       "      <th>City</th>\n",
       "      <th>Country</th>\n",
       "      <th>Latitude</th>\n",
       "      <th>Longitude</th>\n",
       "      <th>lat_n</th>\n",
       "      <th>lon_n</th>\n",
       "      <th>state</th>\n",
       "      <th>county</th>\n",
       "      <th>countyname</th>\n",
       "      <th>year</th>\n",
       "      <th>month</th>\n",
       "      <th>season</th>\n",
       "      <th>region</th>\n",
       "      <th>date_delta</th>\n",
       "    </tr>\n",
       "  </thead>\n",
       "  <tbody>\n",
       "    <tr>\n",
       "      <th>0</th>\n",
       "      <td>1820-01-01</td>\n",
       "      <td>2.101</td>\n",
       "      <td>3.217</td>\n",
       "      <td>Abilene</td>\n",
       "      <td>United States</td>\n",
       "      <td>32.95N</td>\n",
       "      <td>100.53W</td>\n",
       "      <td>32.95</td>\n",
       "      <td>-100.53</td>\n",
       "      <td>TX</td>\n",
       "      <td>Fisher</td>\n",
       "      <td>Fisher County</td>\n",
       "      <td>1820</td>\n",
       "      <td>1</td>\n",
       "      <td>Winter</td>\n",
       "      <td>west south central south region</td>\n",
       "      <td>27819.0</td>\n",
       "    </tr>\n",
       "    <tr>\n",
       "      <th>1</th>\n",
       "      <td>1820-02-01</td>\n",
       "      <td>6.926</td>\n",
       "      <td>2.853</td>\n",
       "      <td>Abilene</td>\n",
       "      <td>United States</td>\n",
       "      <td>32.95N</td>\n",
       "      <td>100.53W</td>\n",
       "      <td>32.95</td>\n",
       "      <td>-100.53</td>\n",
       "      <td>TX</td>\n",
       "      <td>Fisher</td>\n",
       "      <td>Fisher County</td>\n",
       "      <td>1820</td>\n",
       "      <td>2</td>\n",
       "      <td>Winter</td>\n",
       "      <td>west south central south region</td>\n",
       "      <td>27850.0</td>\n",
       "    </tr>\n",
       "    <tr>\n",
       "      <th>2</th>\n",
       "      <td>1820-03-01</td>\n",
       "      <td>10.767</td>\n",
       "      <td>2.395</td>\n",
       "      <td>Abilene</td>\n",
       "      <td>United States</td>\n",
       "      <td>32.95N</td>\n",
       "      <td>100.53W</td>\n",
       "      <td>32.95</td>\n",
       "      <td>-100.53</td>\n",
       "      <td>TX</td>\n",
       "      <td>Fisher</td>\n",
       "      <td>Fisher County</td>\n",
       "      <td>1820</td>\n",
       "      <td>3</td>\n",
       "      <td>Spring</td>\n",
       "      <td>west south central south region</td>\n",
       "      <td>27879.0</td>\n",
       "    </tr>\n",
       "    <tr>\n",
       "      <th>3</th>\n",
       "      <td>1820-04-01</td>\n",
       "      <td>17.989</td>\n",
       "      <td>2.202</td>\n",
       "      <td>Abilene</td>\n",
       "      <td>United States</td>\n",
       "      <td>32.95N</td>\n",
       "      <td>100.53W</td>\n",
       "      <td>32.95</td>\n",
       "      <td>-100.53</td>\n",
       "      <td>TX</td>\n",
       "      <td>Fisher</td>\n",
       "      <td>Fisher County</td>\n",
       "      <td>1820</td>\n",
       "      <td>4</td>\n",
       "      <td>Spring</td>\n",
       "      <td>west south central south region</td>\n",
       "      <td>27910.0</td>\n",
       "    </tr>\n",
       "    <tr>\n",
       "      <th>4</th>\n",
       "      <td>1820-05-01</td>\n",
       "      <td>21.809</td>\n",
       "      <td>2.036</td>\n",
       "      <td>Abilene</td>\n",
       "      <td>United States</td>\n",
       "      <td>32.95N</td>\n",
       "      <td>100.53W</td>\n",
       "      <td>32.95</td>\n",
       "      <td>-100.53</td>\n",
       "      <td>TX</td>\n",
       "      <td>Fisher</td>\n",
       "      <td>Fisher County</td>\n",
       "      <td>1820</td>\n",
       "      <td>5</td>\n",
       "      <td>Spring</td>\n",
       "      <td>west south central south region</td>\n",
       "      <td>27940.0</td>\n",
       "    </tr>\n",
       "  </tbody>\n",
       "</table>\n",
       "</div>"
      ],
      "text/plain": [
       "          dt  AverageTemperature  AverageTemperatureUncertainty     City  \\\n",
       "0 1820-01-01               2.101                          3.217  Abilene   \n",
       "1 1820-02-01               6.926                          2.853  Abilene   \n",
       "2 1820-03-01              10.767                          2.395  Abilene   \n",
       "3 1820-04-01              17.989                          2.202  Abilene   \n",
       "4 1820-05-01              21.809                          2.036  Abilene   \n",
       "\n",
       "         Country Latitude Longitude  lat_n   lon_n state  county  \\\n",
       "0  United States   32.95N   100.53W  32.95 -100.53    TX  Fisher   \n",
       "1  United States   32.95N   100.53W  32.95 -100.53    TX  Fisher   \n",
       "2  United States   32.95N   100.53W  32.95 -100.53    TX  Fisher   \n",
       "3  United States   32.95N   100.53W  32.95 -100.53    TX  Fisher   \n",
       "4  United States   32.95N   100.53W  32.95 -100.53    TX  Fisher   \n",
       "\n",
       "      countyname  year  month  season                           region  \\\n",
       "0  Fisher County  1820      1  Winter  west south central south region   \n",
       "1  Fisher County  1820      2  Winter  west south central south region   \n",
       "2  Fisher County  1820      3  Spring  west south central south region   \n",
       "3  Fisher County  1820      4  Spring  west south central south region   \n",
       "4  Fisher County  1820      5  Spring  west south central south region   \n",
       "\n",
       "   date_delta  \n",
       "0     27819.0  \n",
       "1     27850.0  \n",
       "2     27879.0  \n",
       "3     27910.0  \n",
       "4     27940.0  "
      ]
     },
     "execution_count": 19,
     "metadata": {},
     "output_type": "execute_result"
    }
   ],
   "source": [
    "temp_county_region.head()"
   ]
  },
  {
   "cell_type": "code",
   "execution_count": 20,
   "metadata": {},
   "outputs": [],
   "source": [
    "# copy of disaster data to organize for the join\n",
    "disasterdf = disaster_df.copy()\n",
    "disasterdf['Declaration Date'] = pd.to_datetime(disasterdf['Declaration Date'], format='%m/%d/%Y')\n",
    "disasterdf['Year'] = disasterdf['Declaration Date'].dt.year\n",
    "disasterdf = disasterdf[['Declaration Type','Declaration Date','State','County','Disaster Type','Year']]"
   ]
  },
  {
   "cell_type": "code",
   "execution_count": 21,
   "metadata": {},
   "outputs": [
    {
     "data": {
      "text/html": [
       "<div>\n",
       "<style scoped>\n",
       "    .dataframe tbody tr th:only-of-type {\n",
       "        vertical-align: middle;\n",
       "    }\n",
       "\n",
       "    .dataframe tbody tr th {\n",
       "        vertical-align: top;\n",
       "    }\n",
       "\n",
       "    .dataframe thead th {\n",
       "        text-align: right;\n",
       "    }\n",
       "</style>\n",
       "<table border=\"1\" class=\"dataframe\">\n",
       "  <thead>\n",
       "    <tr style=\"text-align: right;\">\n",
       "      <th></th>\n",
       "      <th>Declaration Type</th>\n",
       "      <th>Declaration Date</th>\n",
       "      <th>State</th>\n",
       "      <th>County</th>\n",
       "      <th>Disaster Type</th>\n",
       "      <th>Year</th>\n",
       "    </tr>\n",
       "  </thead>\n",
       "  <tbody>\n",
       "    <tr>\n",
       "      <th>0</th>\n",
       "      <td>Disaster</td>\n",
       "      <td>1953-05-02</td>\n",
       "      <td>GA</td>\n",
       "      <td>NaN</td>\n",
       "      <td>Tornado</td>\n",
       "      <td>1953</td>\n",
       "    </tr>\n",
       "    <tr>\n",
       "      <th>1</th>\n",
       "      <td>Disaster</td>\n",
       "      <td>1953-05-15</td>\n",
       "      <td>TX</td>\n",
       "      <td>NaN</td>\n",
       "      <td>Tornado</td>\n",
       "      <td>1953</td>\n",
       "    </tr>\n",
       "    <tr>\n",
       "      <th>2</th>\n",
       "      <td>Disaster</td>\n",
       "      <td>1953-05-29</td>\n",
       "      <td>LA</td>\n",
       "      <td>NaN</td>\n",
       "      <td>Flood</td>\n",
       "      <td>1953</td>\n",
       "    </tr>\n",
       "    <tr>\n",
       "      <th>3</th>\n",
       "      <td>Disaster</td>\n",
       "      <td>1953-06-02</td>\n",
       "      <td>MI</td>\n",
       "      <td>NaN</td>\n",
       "      <td>Tornado</td>\n",
       "      <td>1953</td>\n",
       "    </tr>\n",
       "    <tr>\n",
       "      <th>4</th>\n",
       "      <td>Disaster</td>\n",
       "      <td>1953-06-06</td>\n",
       "      <td>MT</td>\n",
       "      <td>NaN</td>\n",
       "      <td>Flood</td>\n",
       "      <td>1953</td>\n",
       "    </tr>\n",
       "  </tbody>\n",
       "</table>\n",
       "</div>"
      ],
      "text/plain": [
       "  Declaration Type Declaration Date State County Disaster Type  Year\n",
       "0         Disaster       1953-05-02    GA    NaN       Tornado  1953\n",
       "1         Disaster       1953-05-15    TX    NaN       Tornado  1953\n",
       "2         Disaster       1953-05-29    LA    NaN         Flood  1953\n",
       "3         Disaster       1953-06-02    MI    NaN       Tornado  1953\n",
       "4         Disaster       1953-06-06    MT    NaN         Flood  1953"
      ]
     },
     "execution_count": 21,
     "metadata": {},
     "output_type": "execute_result"
    }
   ],
   "source": [
    "disasterdf = disasterdf.drop_duplicates(subset=['Declaration Date','Disaster Type','State','Year']).sort_values('Declaration Date')\n",
    "disasterdf.head()\n"
   ]
  },
  {
   "cell_type": "code",
   "execution_count": 22,
   "metadata": {},
   "outputs": [
    {
     "data": {
      "text/html": [
       "<div>\n",
       "<style scoped>\n",
       "    .dataframe tbody tr th:only-of-type {\n",
       "        vertical-align: middle;\n",
       "    }\n",
       "\n",
       "    .dataframe tbody tr th {\n",
       "        vertical-align: top;\n",
       "    }\n",
       "\n",
       "    .dataframe thead th {\n",
       "        text-align: right;\n",
       "    }\n",
       "</style>\n",
       "<table border=\"1\" class=\"dataframe\">\n",
       "  <thead>\n",
       "    <tr style=\"text-align: right;\">\n",
       "      <th></th>\n",
       "      <th>dt</th>\n",
       "      <th>AverageTemperature</th>\n",
       "      <th>AverageTemperatureUncertainty</th>\n",
       "      <th>City</th>\n",
       "      <th>Country</th>\n",
       "      <th>Latitude</th>\n",
       "      <th>Longitude</th>\n",
       "      <th>lat_n</th>\n",
       "      <th>lon_n</th>\n",
       "      <th>state</th>\n",
       "      <th>county</th>\n",
       "      <th>countyname</th>\n",
       "      <th>year</th>\n",
       "      <th>month</th>\n",
       "      <th>season</th>\n",
       "      <th>region</th>\n",
       "      <th>date_delta</th>\n",
       "    </tr>\n",
       "  </thead>\n",
       "  <tbody>\n",
       "    <tr>\n",
       "      <th>365438</th>\n",
       "      <td>1743-11-01</td>\n",
       "      <td>10.572</td>\n",
       "      <td>2.352</td>\n",
       "      <td>Montgomery</td>\n",
       "      <td>United States</td>\n",
       "      <td>32.95N</td>\n",
       "      <td>87.13W</td>\n",
       "      <td>32.95</td>\n",
       "      <td>-87.13</td>\n",
       "      <td>AL</td>\n",
       "      <td>Bibb</td>\n",
       "      <td>Bibb County</td>\n",
       "      <td>1743</td>\n",
       "      <td>11</td>\n",
       "      <td>Fall</td>\n",
       "      <td>east south central south region</td>\n",
       "      <td>0.0</td>\n",
       "    </tr>\n",
       "    <tr>\n",
       "      <th>649026</th>\n",
       "      <td>1743-11-01</td>\n",
       "      <td>2.208</td>\n",
       "      <td>1.997</td>\n",
       "      <td>Windsor</td>\n",
       "      <td>United States</td>\n",
       "      <td>42.59N</td>\n",
       "      <td>82.91W</td>\n",
       "      <td>42.59</td>\n",
       "      <td>-82.91</td>\n",
       "      <td>MI</td>\n",
       "      <td>Macomb</td>\n",
       "      <td>Macomb County</td>\n",
       "      <td>1743</td>\n",
       "      <td>11</td>\n",
       "      <td>Fall</td>\n",
       "      <td>east north central midwest region</td>\n",
       "      <td>0.0</td>\n",
       "    </tr>\n",
       "    <tr>\n",
       "      <th>652167</th>\n",
       "      <td>1743-11-01</td>\n",
       "      <td>7.810</td>\n",
       "      <td>2.072</td>\n",
       "      <td>Winston Salem</td>\n",
       "      <td>United States</td>\n",
       "      <td>36.17N</td>\n",
       "      <td>79.56W</td>\n",
       "      <td>36.17</td>\n",
       "      <td>-79.56</td>\n",
       "      <td>NC</td>\n",
       "      <td>Guilford</td>\n",
       "      <td>Guilford County</td>\n",
       "      <td>1743</td>\n",
       "      <td>11</td>\n",
       "      <td>Fall</td>\n",
       "      <td>south atlantic south region</td>\n",
       "      <td>0.0</td>\n",
       "    </tr>\n",
       "    <tr>\n",
       "      <th>326790</th>\n",
       "      <td>1743-11-01</td>\n",
       "      <td>1.188</td>\n",
       "      <td>1.531</td>\n",
       "      <td>Lowell</td>\n",
       "      <td>United States</td>\n",
       "      <td>42.59N</td>\n",
       "      <td>72.00W</td>\n",
       "      <td>42.59</td>\n",
       "      <td>-72.00</td>\n",
       "      <td>MA</td>\n",
       "      <td>Worcester</td>\n",
       "      <td>Worcester County</td>\n",
       "      <td>1743</td>\n",
       "      <td>11</td>\n",
       "      <td>Fall</td>\n",
       "      <td>new england northeast region</td>\n",
       "      <td>0.0</td>\n",
       "    </tr>\n",
       "    <tr>\n",
       "      <th>127176</th>\n",
       "      <td>1743-11-01</td>\n",
       "      <td>10.375</td>\n",
       "      <td>2.313</td>\n",
       "      <td>Columbus</td>\n",
       "      <td>United States</td>\n",
       "      <td>32.95N</td>\n",
       "      <td>85.21W</td>\n",
       "      <td>32.95</td>\n",
       "      <td>-85.21</td>\n",
       "      <td>AL</td>\n",
       "      <td>Chambers</td>\n",
       "      <td>Chambers County</td>\n",
       "      <td>1743</td>\n",
       "      <td>11</td>\n",
       "      <td>Fall</td>\n",
       "      <td>east south central south region</td>\n",
       "      <td>0.0</td>\n",
       "    </tr>\n",
       "  </tbody>\n",
       "</table>\n",
       "</div>"
      ],
      "text/plain": [
       "               dt  AverageTemperature  AverageTemperatureUncertainty  \\\n",
       "365438 1743-11-01              10.572                          2.352   \n",
       "649026 1743-11-01               2.208                          1.997   \n",
       "652167 1743-11-01               7.810                          2.072   \n",
       "326790 1743-11-01               1.188                          1.531   \n",
       "127176 1743-11-01              10.375                          2.313   \n",
       "\n",
       "                 City        Country Latitude Longitude  lat_n  lon_n state  \\\n",
       "365438     Montgomery  United States   32.95N    87.13W  32.95 -87.13    AL   \n",
       "649026        Windsor  United States   42.59N    82.91W  42.59 -82.91    MI   \n",
       "652167  Winston Salem  United States   36.17N    79.56W  36.17 -79.56    NC   \n",
       "326790         Lowell  United States   42.59N    72.00W  42.59 -72.00    MA   \n",
       "127176       Columbus  United States   32.95N    85.21W  32.95 -85.21    AL   \n",
       "\n",
       "           county        countyname  year  month season  \\\n",
       "365438       Bibb       Bibb County  1743     11   Fall   \n",
       "649026     Macomb     Macomb County  1743     11   Fall   \n",
       "652167   Guilford   Guilford County  1743     11   Fall   \n",
       "326790  Worcester  Worcester County  1743     11   Fall   \n",
       "127176   Chambers   Chambers County  1743     11   Fall   \n",
       "\n",
       "                                   region  date_delta  \n",
       "365438    east south central south region         0.0  \n",
       "649026  east north central midwest region         0.0  \n",
       "652167        south atlantic south region         0.0  \n",
       "326790       new england northeast region         0.0  \n",
       "127176    east south central south region         0.0  "
      ]
     },
     "execution_count": 22,
     "metadata": {},
     "output_type": "execute_result"
    }
   ],
   "source": [
    "# copy of temperature data to organize for the join\n",
    "tempdf = temp_county_region.copy()\n",
    "tempdf = tempdf.sort_values('dt')\n",
    "tempdf.head()"
   ]
  },
  {
   "cell_type": "code",
   "execution_count": 23,
   "metadata": {},
   "outputs": [],
   "source": [
    "# nearest join on date (with a left join on state first)\n",
    "joindf = pd.merge_asof(disasterdf, tempdf, left_on='Declaration Date', right_on='dt',left_by='State',right_by='state',direction='nearest').dropna()\n"
   ]
  },
  {
   "cell_type": "code",
   "execution_count": 24,
   "metadata": {},
   "outputs": [],
   "source": [
    "# removing rows where the join dates did not match since the disaster data only went up to Sept 2013\n",
    "joindf = joindf[joindf['Declaration Date']<='2013-09-30']"
   ]
  },
  {
   "cell_type": "code",
   "execution_count": 25,
   "metadata": {},
   "outputs": [],
   "source": [
    "joindf = joindf[['Disaster Type','Declaration Date','state','countyname','Year','month','season','region','date_delta','AverageTemperature']]\n"
   ]
  },
  {
   "cell_type": "markdown",
   "metadata": {},
   "source": [
    "# Machine Learning"
   ]
  },
  {
   "cell_type": "markdown",
   "metadata": {},
   "source": [
    "## Average yearly temperature, sorted by season"
   ]
  },
  {
   "cell_type": "code",
   "execution_count": 26,
   "metadata": {
    "scrolled": false
   },
   "outputs": [
    {
     "data": {
      "text/plain": [
       "Text(0.5,1,'Fall')"
      ]
     },
     "execution_count": 26,
     "metadata": {},
     "output_type": "execute_result"
    },
    {
     "data": {
      "image/png": "[encoded data removed]",
      "text/plain": [
       "<Figure size 1440x1080 with 4 Axes>"
      ]
     },
     "metadata": {},
     "output_type": "display_data"
    }
   ],
   "source": [
    "fig, ax = plt.subplots(2,2,figsize=(20,15))\n",
    "\n",
    "winter = temp_county_region[temp_county_region.season == 'Winter'].groupby(['year']).mean()[['AverageTemperature']].reset_index()\n",
    "ax[0,0].scatter(winter['year'].tolist() ,winter['AverageTemperature'].tolist())\n",
    "ax[0,0].set_title('Winter')           \n",
    "\n",
    "spring = temp_county_region[temp_county_region.season == 'Spring'].groupby(['year']).mean()[['AverageTemperature']].reset_index()\n",
    "ax[0,1].scatter(spring['year'].tolist() ,spring['AverageTemperature'].tolist())        \n",
    "ax[0,1].set_title('Spring')\n",
    "\n",
    "summer = temp_county_region[temp_county_region.season == 'Summer'].groupby(['year']).mean()[['AverageTemperature']].reset_index()\n",
    "ax[1,0].scatter(summer['year'].tolist() ,summer['AverageTemperature'].tolist())\n",
    "ax[1,0].set_title('Summer')\n",
    "\n",
    "fall = temp_county_region[temp_county_region.season == 'Fall'].groupby(['year']).mean()[['AverageTemperature']].reset_index()\n",
    "ax[1,1].scatter(fall['year'].tolist() ,fall['AverageTemperature'].tolist())\n",
    "ax[1,1].set_title('Fall')           \n",
    "                   \n",
    "           "
   ]
  },
  {
   "cell_type": "code",
   "execution_count": 27,
   "metadata": {},
   "outputs": [
    {
     "name": "stdout",
     "output_type": "stream",
     "text": [
      "winter corr:  0.8185691856309464 \n",
      "spring corr:  0.6587791341045452 \n",
      "summer corr:  0.24555088282850218 \n",
      "fall corr  :  0.7381441619175758\n"
     ]
    }
   ],
   "source": [
    "print('winter corr: ', winter['year'].corr(winter.AverageTemperature),'\\n'\n",
    "      'spring corr: ', spring['year'].corr(spring.AverageTemperature),'\\n'\n",
    "      'summer corr: ', summer['year'].corr(summer.AverageTemperature),'\\n'\n",
    "      'fall corr  : ', fall['year'].corr(fall.AverageTemperature))"
   ]
  },
  {
   "cell_type": "markdown",
   "metadata": {},
   "source": [
    "### Winter Linear Regression - date delta"
   ]
  },
  {
   "cell_type": "code",
   "execution_count": 28,
   "metadata": {},
   "outputs": [],
   "source": [
    "# scipy stats modeling \n",
    "x = winter[['year']].values\n",
    "y = winter[['AverageTemperature']].values"
   ]
  },
  {
   "cell_type": "code",
   "execution_count": 29,
   "metadata": {},
   "outputs": [
    {
     "name": "stdout",
     "output_type": "stream",
     "text": [
      "slope: 0.020839    intercept: -35.340342    r-squared: 0.670056    p-value: 0.000000\n"
     ]
    }
   ],
   "source": [
    "slope, intercept, r_value, p_value, std_err = stats.linregress(x[:,0], y[:,0])\n",
    "print(\"slope: %f    intercept: %f    r-squared: %f    p-value: %f\" % (slope, intercept, r_value**2, p_value))"
   ]
  },
  {
   "cell_type": "code",
   "execution_count": 30,
   "metadata": {
    "scrolled": false
   },
   "outputs": [
    {
     "data": {
      "image/png": "[encoded data removed]",
      "text/plain": [
       "<Figure size 432x288 with 1 Axes>"
      ]
     },
     "metadata": {},
     "output_type": "display_data"
    }
   ],
   "source": [
    "plt.plot(x, y, 'o', label='original data')\n",
    "plt.plot(x, intercept + slope*x, 'r', label='fitted line')\n",
    "plt.legend()\n",
    "plt.show()"
   ]
  },
  {
   "cell_type": "code",
   "execution_count": 31,
   "metadata": {},
   "outputs": [
    {
     "data": {
      "text/plain": [
       "0.8185691856309464"
      ]
     },
     "execution_count": 31,
     "metadata": {},
     "output_type": "execute_result"
    }
   ],
   "source": [
    "winter.year.corr(winter.AverageTemperature)"
   ]
  },
  {
   "cell_type": "markdown",
   "metadata": {},
   "source": [
    "### Random Train/Test Split"
   ]
  },
  {
   "cell_type": "code",
   "execution_count": 32,
   "metadata": {},
   "outputs": [],
   "source": [
    "# train and test data for modeling\n",
    "X = winter[['year']].values\n",
    "y = winter[['AverageTemperature']].values\n",
    "X_train, X_test, y_train, y_test = train_test_split(X, y, test_size=0.3, random_state=42)\n"
   ]
  },
  {
   "cell_type": "code",
   "execution_count": 33,
   "metadata": {},
   "outputs": [
    {
     "name": "stdout",
     "output_type": "stream",
     "text": [
      "[[4.86123067]\n",
      " [3.53282078]\n",
      " [3.9613401 ]\n",
      " [5.61113948]\n",
      " [1.9472993 ]]\n"
     ]
    }
   ],
   "source": [
    "lm = linear_model.LinearRegression()\n",
    "lm.fit(X_train, y_train)\n",
    "\n",
    "y_pred = lm.predict(X_test)\n",
    "print(y_pred[0:5])"
   ]
  },
  {
   "cell_type": "code",
   "execution_count": 34,
   "metadata": {},
   "outputs": [
    {
     "name": "stdout",
     "output_type": "stream",
     "text": [
      "R^2 (Score): 0.6163353103733953\n",
      "Root Mean Squared Error: 1.1133479464089677\n",
      "[[0.02142597]] [-36.46945771]\n"
     ]
    }
   ],
   "source": [
    "# Compute and print R^2 and RMSE\n",
    "print(\"R^2 (Score): {}\".format(lm.score(X_test, y_test)))\n",
    "rmse = np.sqrt(mean_squared_error(y_test, y_pred))\n",
    "print(\"Root Mean Squared Error: {}\".format(rmse))\n",
    "print(lm.coef_, lm.intercept_)"
   ]
  },
  {
   "cell_type": "markdown",
   "metadata": {},
   "source": [
    "### Train on dates prior to 2011 and test on 2012"
   ]
  },
  {
   "cell_type": "code",
   "execution_count": 35,
   "metadata": {},
   "outputs": [],
   "source": [
    "X_train = winter[winter['year']<=2011][['year']]\n",
    "y_train = winter[winter['year']<=2011][['AverageTemperature']]\n",
    "\n",
    "X_test = winter[winter['year']>2011][['year']]\n",
    "y_test = winter[winter['year']>2011][['AverageTemperature']]"
   ]
  },
  {
   "cell_type": "code",
   "execution_count": 36,
   "metadata": {},
   "outputs": [
    {
     "name": "stdout",
     "output_type": "stream",
     "text": [
      "[[6.5927321 ]\n",
      " [6.61359452]]      AverageTemperature\n",
      "264            7.241545\n",
      "265            5.698021\n"
     ]
    }
   ],
   "source": [
    "lm1 = linear_model.LinearRegression()\n",
    "lm1.fit(X_train, y_train)\n",
    "\n",
    "y_pred = lm1.predict(X_test)\n",
    "print(y_pred, y_test)"
   ]
  },
  {
   "cell_type": "markdown",
   "metadata": {},
   "source": [
    "### Whole data set for modelling"
   ]
  },
  {
   "cell_type": "code",
   "execution_count": 37,
   "metadata": {},
   "outputs": [],
   "source": [
    "# sklearn model on all of the data \n",
    "X = winter[['year']].values\n",
    "y = winter[['AverageTemperature']].values\n",
    "\n",
    "X = X.reshape(-1,1)\n",
    "y = y.reshape(-1,1)"
   ]
  },
  {
   "cell_type": "code",
   "execution_count": 38,
   "metadata": {},
   "outputs": [
    {
     "data": {
      "image/png": "[encoded data removed]",
      "text/plain": [
       "<Figure size 432x288 with 1 Axes>"
      ]
     },
     "metadata": {},
     "output_type": "display_data"
    }
   ],
   "source": [
    "model = linear_model.LinearRegression()\n",
    "model.fit(X, y)\n",
    "\n",
    "plt.scatter(X, y,color='r')\n",
    "\n",
    "plt.plot(X, model.predict(X),color='k')\n",
    "plt.show()"
   ]
  },
  {
   "cell_type": "code",
   "execution_count": 39,
   "metadata": {},
   "outputs": [
    {
     "name": "stdout",
     "output_type": "stream",
     "text": [
      "Model slope:     [0.02083949]\n",
      "Model intercept: [-35.34034165]\n"
     ]
    }
   ],
   "source": [
    "print(\"Model slope:    \", model.coef_[0])\n",
    "print(\"Model intercept:\", model.intercept_)"
   ]
  },
  {
   "cell_type": "code",
   "execution_count": 40,
   "metadata": {
    "scrolled": true
   },
   "outputs": [
    {
     "data": {
      "text/plain": [
       "array([[6.71375104]])"
      ]
     },
     "execution_count": 40,
     "metadata": {},
     "output_type": "execute_result"
    }
   ],
   "source": [
    "model.predict(2018)"
   ]
  },
  {
   "cell_type": "markdown",
   "metadata": {},
   "source": [
    "### Summer Linear Regression - year"
   ]
  },
  {
   "cell_type": "code",
   "execution_count": 41,
   "metadata": {},
   "outputs": [],
   "source": [
    "# scipy stats modeling \n",
    "summer = temp_county_region[temp_county_region.season == 'Summer'].groupby(['year']).mean()[['AverageTemperature']].reset_index()\n",
    "x = summer[['year']].values\n",
    "y = summer[['AverageTemperature']].values"
   ]
  },
  {
   "cell_type": "code",
   "execution_count": 42,
   "metadata": {},
   "outputs": [
    {
     "name": "stdout",
     "output_type": "stream",
     "text": [
      "slope: 0.002217    intercept: 19.151381    r-squared: 0.060295    p-value: 0.000055\n"
     ]
    }
   ],
   "source": [
    "slope, intercept, r_value, p_value, std_err = stats.linregress(x[:,0], y[:,0])\n",
    "print(\"slope: %f    intercept: %f    r-squared: %f    p-value: %f\" % (slope, intercept, r_value**2, p_value))"
   ]
  },
  {
   "cell_type": "code",
   "execution_count": 43,
   "metadata": {
    "scrolled": false
   },
   "outputs": [
    {
     "data": {
      "image/png": "[encoded data removed]",
      "text/plain": [
       "<Figure size 432x288 with 1 Axes>"
      ]
     },
     "metadata": {},
     "output_type": "display_data"
    }
   ],
   "source": [
    "plt.plot(x, y, 'o', label='original data')\n",
    "plt.plot(x, intercept + slope*x, 'r', label='fitted line')\n",
    "plt.legend()\n",
    "plt.show()"
   ]
  },
  {
   "cell_type": "code",
   "execution_count": 44,
   "metadata": {},
   "outputs": [
    {
     "data": {
      "text/plain": [
       "0.24555088282850218"
      ]
     },
     "execution_count": 44,
     "metadata": {},
     "output_type": "execute_result"
    }
   ],
   "source": [
    "summer.year.corr(summer.AverageTemperature)"
   ]
  },
  {
   "cell_type": "markdown",
   "metadata": {},
   "source": [
    "## Average daily temperature, sorted by region"
   ]
  },
  {
   "cell_type": "code",
   "execution_count": 45,
   "metadata": {},
   "outputs": [],
   "source": [
    "# nine regions of the United States\n",
    "enc_midwest_region = temp_county_region[temp_county_region['region']=='east north central midwest region'].groupby('year').mean()[['AverageTemperature']].reset_index()\n",
    "\n",
    "esc_south_region = temp_county_region[temp_county_region['region']=='east south central south region'].groupby('year').mean()[['AverageTemperature']].reset_index()\n",
    "\n",
    "mid_northeast_region = temp_county_region[temp_county_region['region']=='midatlantic northeast region'].groupby('year').mean()[['AverageTemperature']].reset_index()\n",
    "\n",
    "mt_west_region = temp_county_region[temp_county_region['region']=='mountain west region'].groupby('year').mean()[['AverageTemperature']].reset_index()\n",
    "\n",
    "ne_northeast_region = temp_county_region[temp_county_region['region']=='new england northeast region'].groupby('year').mean()[['AverageTemperature']].reset_index()\n",
    "\n",
    "pac_west_region = temp_county_region[temp_county_region['region']=='pacific west region'].groupby('year').mean()[['AverageTemperature']].reset_index()\n",
    "\n",
    "sa_south_region = temp_county_region[temp_county_region['region']=='south atlantic south region'].groupby('year').mean()[['AverageTemperature']].reset_index()\n",
    "\n",
    "wnc_midwest_region = temp_county_region[temp_county_region['region']=='west north central midwest region'].groupby('year').mean()[['AverageTemperature']].reset_index()\n",
    "\n",
    "wsc_south_region = temp_county_region[temp_county_region['region']=='west south central south region'].groupby('year').mean()[['AverageTemperature']].reset_index()\n"
   ]
  },
  {
   "cell_type": "code",
   "execution_count": 46,
   "metadata": {},
   "outputs": [
    {
     "name": "stdout",
     "output_type": "stream",
     "text": [
      "enc corr:  0.4030379883249252 \n",
      "esc corr:  0.43415441337079186 \n",
      "mid corr:  0.48081285359265274 \n",
      "mt corr:  0.6734878949707309 \n",
      "ne corr:  0.49294117838291945 \n",
      "pac corr:  0.6427530117788472 \n",
      "sa corr:  0.5347502345372169 \n",
      "wnc corr:  0.5768741511922301 \n",
      "wsc corr:  0.5638639630474188 \n",
      "\n"
     ]
    }
   ],
   "source": [
    "print('enc corr: ', enc_midwest_region['year'].corr(enc_midwest_region.AverageTemperature),'\\n'\n",
    "      'esc corr: ', esc_south_region['year'].corr(esc_south_region.AverageTemperature),'\\n'\n",
    "      'mid corr: ', mid_northeast_region['year'].corr(mid_northeast_region.AverageTemperature),'\\n'\n",
    "      'mt corr: ', mt_west_region['year'].corr(mt_west_region.AverageTemperature),'\\n'\n",
    "      'ne corr: ', ne_northeast_region['year'].corr(ne_northeast_region.AverageTemperature),'\\n'\n",
    "      'pac corr: ', pac_west_region['year'].corr(pac_west_region.AverageTemperature),'\\n'\n",
    "      'sa corr: ', sa_south_region['year'].corr(sa_south_region.AverageTemperature),'\\n'\n",
    "      'wnc corr: ', wnc_midwest_region['year'].corr(wnc_midwest_region.AverageTemperature),'\\n'\n",
    "      'wsc corr: ', wsc_south_region['year'].corr(wsc_south_region.AverageTemperature),'\\n')"
   ]
  },
  {
   "cell_type": "markdown",
   "metadata": {},
   "source": [
    "These correlation values are moderately strong, and will potentially be explored if region-specific data is needed. Seeing that the regions have a positive medium-strong correlation with temperature over time in years, I can use the region divisions to model the predicted temperature in these regions and then use that model with the disaster that is likely to be found in that region and determine future information about the disaster data."
   ]
  },
  {
   "cell_type": "markdown",
   "metadata": {},
   "source": [
    "## Disaster data"
   ]
  },
  {
   "cell_type": "markdown",
   "metadata": {},
   "source": [
    "Part of the hypothesis is to see if natural disasters in the United States have increased due to temperature changes. To examine the disaster side, I will look at the disaster data frame and see how disasters have changed over time. "
   ]
  },
  {
   "cell_type": "code",
   "execution_count": 47,
   "metadata": {
    "scrolled": true
   },
   "outputs": [
    {
     "data": {
      "text/plain": [
       "Disaster Type\n",
       "Storm        919\n",
       "Flood        772\n",
       "Fire         680\n",
       "Hurricane    313\n",
       "Tornado      163\n",
       "Name: Declaration Type, dtype: int64"
      ]
     },
     "execution_count": 47,
     "metadata": {},
     "output_type": "execute_result"
    }
   ],
   "source": [
    "# count total number of disasters, see which disasters are most prevalent\n",
    "disasterdf.groupby('Disaster Type').agg('count')['Declaration Type'].sort_values(ascending=False).head()"
   ]
  },
  {
   "cell_type": "markdown",
   "metadata": {},
   "source": [
    "The first five disasters with the most occurences in the United States are: storms, floods, fires, hurricanes, and tornados. I will focus on these disasters to examine the trends in the data, since they make up most of the data."
   ]
  },
  {
   "cell_type": "markdown",
   "metadata": {},
   "source": [
    "# Joined temperature and disaster data"
   ]
  },
  {
   "cell_type": "code",
   "execution_count": 48,
   "metadata": {
    "scrolled": true
   },
   "outputs": [
    {
     "data": {
      "text/html": [
       "<div>\n",
       "<style scoped>\n",
       "    .dataframe tbody tr th:only-of-type {\n",
       "        vertical-align: middle;\n",
       "    }\n",
       "\n",
       "    .dataframe tbody tr th {\n",
       "        vertical-align: top;\n",
       "    }\n",
       "\n",
       "    .dataframe thead th {\n",
       "        text-align: right;\n",
       "    }\n",
       "</style>\n",
       "<table border=\"1\" class=\"dataframe\">\n",
       "  <thead>\n",
       "    <tr style=\"text-align: right;\">\n",
       "      <th></th>\n",
       "      <th>Disaster Type</th>\n",
       "      <th>Declaration Date</th>\n",
       "      <th>state</th>\n",
       "      <th>countyname</th>\n",
       "      <th>Year</th>\n",
       "      <th>month</th>\n",
       "      <th>season</th>\n",
       "      <th>region</th>\n",
       "      <th>date_delta</th>\n",
       "      <th>AverageTemperature</th>\n",
       "    </tr>\n",
       "  </thead>\n",
       "  <tbody>\n",
       "    <tr>\n",
       "      <th>89</th>\n",
       "      <td>Flood</td>\n",
       "      <td>1959-01-29</td>\n",
       "      <td>IN</td>\n",
       "      <td>Decatur County</td>\n",
       "      <td>1959</td>\n",
       "      <td>2.0</td>\n",
       "      <td>Winter</td>\n",
       "      <td>east north central midwest region</td>\n",
       "      <td>78619.0</td>\n",
       "      <td>0.961</td>\n",
       "    </tr>\n",
       "    <tr>\n",
       "      <th>181</th>\n",
       "      <td>Flood</td>\n",
       "      <td>1964-12-24</td>\n",
       "      <td>CA</td>\n",
       "      <td>San Diego County</td>\n",
       "      <td>1964</td>\n",
       "      <td>1.0</td>\n",
       "      <td>Winter</td>\n",
       "      <td>pacific west region</td>\n",
       "      <td>80780.0</td>\n",
       "      <td>13.677</td>\n",
       "    </tr>\n",
       "    <tr>\n",
       "      <th>182</th>\n",
       "      <td>Flood</td>\n",
       "      <td>1964-12-24</td>\n",
       "      <td>OR</td>\n",
       "      <td>Lane County</td>\n",
       "      <td>1964</td>\n",
       "      <td>1.0</td>\n",
       "      <td>Winter</td>\n",
       "      <td>pacific west region</td>\n",
       "      <td>80780.0</td>\n",
       "      <td>3.656</td>\n",
       "    </tr>\n",
       "    <tr>\n",
       "      <th>183</th>\n",
       "      <td>Flood</td>\n",
       "      <td>1964-12-29</td>\n",
       "      <td>WA</td>\n",
       "      <td>King County</td>\n",
       "      <td>1964</td>\n",
       "      <td>1.0</td>\n",
       "      <td>Winter</td>\n",
       "      <td>pacific west region</td>\n",
       "      <td>80780.0</td>\n",
       "      <td>1.133</td>\n",
       "    </tr>\n",
       "    <tr>\n",
       "      <th>185</th>\n",
       "      <td>Flood</td>\n",
       "      <td>1965-01-18</td>\n",
       "      <td>NV</td>\n",
       "      <td>Clark County</td>\n",
       "      <td>1965</td>\n",
       "      <td>2.0</td>\n",
       "      <td>Winter</td>\n",
       "      <td>mountain west region</td>\n",
       "      <td>80811.0</td>\n",
       "      <td>8.848</td>\n",
       "    </tr>\n",
       "  </tbody>\n",
       "</table>\n",
       "</div>"
      ],
      "text/plain": [
       "    Disaster Type Declaration Date state        countyname  Year  month  \\\n",
       "89          Flood       1959-01-29    IN    Decatur County  1959    2.0   \n",
       "181         Flood       1964-12-24    CA  San Diego County  1964    1.0   \n",
       "182         Flood       1964-12-24    OR       Lane County  1964    1.0   \n",
       "183         Flood       1964-12-29    WA       King County  1964    1.0   \n",
       "185         Flood       1965-01-18    NV      Clark County  1965    2.0   \n",
       "\n",
       "     season                             region  date_delta  AverageTemperature  \n",
       "89   Winter  east north central midwest region     78619.0               0.961  \n",
       "181  Winter                pacific west region     80780.0              13.677  \n",
       "182  Winter                pacific west region     80780.0               3.656  \n",
       "183  Winter                pacific west region     80780.0               1.133  \n",
       "185  Winter               mountain west region     80811.0               8.848  "
      ]
     },
     "execution_count": 48,
     "metadata": {},
     "output_type": "execute_result"
    }
   ],
   "source": [
    "joindf.head()"
   ]
  },
  {
   "cell_type": "code",
   "execution_count": 49,
   "metadata": {},
   "outputs": [
    {
     "data": {
      "text/plain": [
       "Text(0.5,1,'Average Yearly Temperature vs Disaster Count')"
      ]
     },
     "execution_count": 49,
     "metadata": {},
     "output_type": "execute_result"
    },
    {
     "data": {
      "image/png": "[encoded data removed]",
      "text/plain": [
       "<Figure size 432x288 with 1 Axes>"
      ]
     },
     "metadata": {},
     "output_type": "display_data"
    }
   ],
   "source": [
    "# average yearly temperature against disaster count \n",
    "joindf1 = joindf.groupby('Year').agg({'Disaster Type':'count',\n",
    "                                                      'AverageTemperature':'mean'})\n",
    "\n",
    "plt.scatter(joindf1['AverageTemperature'], joindf1['Disaster Type'])\n",
    "plt.xlabel('Average Yearly Temperature')\n",
    "plt.ylabel('Disaster Count')\n",
    "plt.title('Average Yearly Temperature vs Disaster Count')"
   ]
  },
  {
   "cell_type": "code",
   "execution_count": 50,
   "metadata": {},
   "outputs": [
    {
     "data": {
      "text/html": [
       "<div>\n",
       "<style scoped>\n",
       "    .dataframe tbody tr th:only-of-type {\n",
       "        vertical-align: middle;\n",
       "    }\n",
       "\n",
       "    .dataframe tbody tr th {\n",
       "        vertical-align: top;\n",
       "    }\n",
       "\n",
       "    .dataframe thead th {\n",
       "        text-align: right;\n",
       "    }\n",
       "</style>\n",
       "<table border=\"1\" class=\"dataframe\">\n",
       "  <thead>\n",
       "    <tr style=\"text-align: right;\">\n",
       "      <th></th>\n",
       "      <th>Disaster Type</th>\n",
       "      <th>AverageTemperature</th>\n",
       "    </tr>\n",
       "  </thead>\n",
       "  <tbody>\n",
       "    <tr>\n",
       "      <th>Disaster Type</th>\n",
       "      <td>1.000000</td>\n",
       "      <td>0.363697</td>\n",
       "    </tr>\n",
       "    <tr>\n",
       "      <th>AverageTemperature</th>\n",
       "      <td>0.363697</td>\n",
       "      <td>1.000000</td>\n",
       "    </tr>\n",
       "  </tbody>\n",
       "</table>\n",
       "</div>"
      ],
      "text/plain": [
       "                    Disaster Type  AverageTemperature\n",
       "Disaster Type            1.000000            0.363697\n",
       "AverageTemperature       0.363697            1.000000"
      ]
     },
     "execution_count": 50,
     "metadata": {},
     "output_type": "execute_result"
    }
   ],
   "source": [
    "joindf1.corr()"
   ]
  },
  {
   "cell_type": "code",
   "execution_count": 51,
   "metadata": {},
   "outputs": [
    {
     "name": "stdout",
     "output_type": "stream",
     "text": [
      "slope: 3.601825    intercept: -12.736243    r-squared: 0.132275    p-value: 0.008705\n"
     ]
    }
   ],
   "source": [
    "# linear regression \n",
    "x = joindf1[['AverageTemperature']].values\n",
    "y = joindf1[['Disaster Type']].values\n",
    "\n",
    "slope, intercept, r_value, p_value, std_err = stats.linregress(x[:,0], y[:,0])\n",
    "print(\"slope: %f    intercept: %f    r-squared: %f    p-value: %f\" % (slope, intercept, r_value**2, p_value))"
   ]
  },
  {
   "cell_type": "code",
   "execution_count": 52,
   "metadata": {},
   "outputs": [
    {
     "data": {
      "image/png": "[encoded data removed]",
      "text/plain": [
       "<Figure size 432x288 with 1 Axes>"
      ]
     },
     "metadata": {},
     "output_type": "display_data"
    }
   ],
   "source": [
    "plt.plot(x, y, 'o', label='original data')\n",
    "plt.plot(x, intercept + slope*x, 'r', label='fitted line')\n",
    "plt.legend()\n",
    "plt.xlabel('Average Yearly Temperature')\n",
    "plt.ylabel('Disaster Count')\n",
    "plt.title('Average Yearly Temperature vs Disaster Count')\n",
    "plt.show()"
   ]
  },
  {
   "cell_type": "markdown",
   "metadata": {},
   "source": [
    "The p-value is statistically significant because it is less than a p-value of 0.05, and thus the null hypothesis that the slope is zero is rejected. \n",
    " "
   ]
  },
  {
   "cell_type": "markdown",
   "metadata": {},
   "source": [
    "## Random Forest"
   ]
  },
  {
   "cell_type": "code",
   "execution_count": 120,
   "metadata": {},
   "outputs": [],
   "source": [
    "joindf['week'] = joindf['Declaration Date'].dt.week.astype('object')"
   ]
  },
  {
   "cell_type": "code",
   "execution_count": 121,
   "metadata": {},
   "outputs": [
    {
     "name": "stdout",
     "output_type": "stream",
     "text": [
      "<class 'pandas.core.frame.DataFrame'>\n",
      "Int64Index: 2199 entries, 89 to 3108\n",
      "Data columns (total 11 columns):\n",
      "Disaster Type         2199 non-null object\n",
      "Declaration Date      2199 non-null datetime64[ns]\n",
      "state                 2199 non-null object\n",
      "countyname            2199 non-null object\n",
      "Year                  2199 non-null int64\n",
      "month                 2199 non-null float64\n",
      "season                2199 non-null object\n",
      "region                2199 non-null object\n",
      "date_delta            2199 non-null float64\n",
      "AverageTemperature    2199 non-null float64\n",
      "week                  2199 non-null object\n",
      "dtypes: datetime64[ns](1), float64(3), int64(1), object(6)\n",
      "memory usage: 206.2+ KB\n"
     ]
    }
   ],
   "source": [
    "joindf.info()"
   ]
  },
  {
   "cell_type": "code",
   "execution_count": 122,
   "metadata": {},
   "outputs": [],
   "source": [
    "join_group = joindf.groupby(['Year','region','week']).agg({'Disaster Type':'count',\n",
    "                                       'AverageTemperature':'mean'}).reset_index()"
   ]
  },
  {
   "cell_type": "code",
   "execution_count": 124,
   "metadata": {},
   "outputs": [
    {
     "data": {
      "text/html": [
       "<div>\n",
       "<style scoped>\n",
       "    .dataframe tbody tr th:only-of-type {\n",
       "        vertical-align: middle;\n",
       "    }\n",
       "\n",
       "    .dataframe tbody tr th {\n",
       "        vertical-align: top;\n",
       "    }\n",
       "\n",
       "    .dataframe thead th {\n",
       "        text-align: right;\n",
       "    }\n",
       "</style>\n",
       "<table border=\"1\" class=\"dataframe\">\n",
       "  <thead>\n",
       "    <tr style=\"text-align: right;\">\n",
       "      <th></th>\n",
       "      <th>Year</th>\n",
       "      <th>region</th>\n",
       "      <th>week</th>\n",
       "      <th>Disaster Count</th>\n",
       "      <th>AverageTemperature</th>\n",
       "    </tr>\n",
       "  </thead>\n",
       "  <tbody>\n",
       "    <tr>\n",
       "      <th>0</th>\n",
       "      <td>1959</td>\n",
       "      <td>east north central midwest region</td>\n",
       "      <td>5</td>\n",
       "      <td>1</td>\n",
       "      <td>0.961000</td>\n",
       "    </tr>\n",
       "    <tr>\n",
       "      <th>1</th>\n",
       "      <td>1964</td>\n",
       "      <td>pacific west region</td>\n",
       "      <td>52</td>\n",
       "      <td>2</td>\n",
       "      <td>8.666500</td>\n",
       "    </tr>\n",
       "    <tr>\n",
       "      <th>2</th>\n",
       "      <td>1964</td>\n",
       "      <td>pacific west region</td>\n",
       "      <td>53</td>\n",
       "      <td>1</td>\n",
       "      <td>1.133000</td>\n",
       "    </tr>\n",
       "    <tr>\n",
       "      <th>3</th>\n",
       "      <td>1965</td>\n",
       "      <td>east north central midwest region</td>\n",
       "      <td>15</td>\n",
       "      <td>3</td>\n",
       "      <td>7.909667</td>\n",
       "    </tr>\n",
       "    <tr>\n",
       "      <th>4</th>\n",
       "      <td>1965</td>\n",
       "      <td>east north central midwest region</td>\n",
       "      <td>16</td>\n",
       "      <td>2</td>\n",
       "      <td>17.155500</td>\n",
       "    </tr>\n",
       "  </tbody>\n",
       "</table>\n",
       "</div>"
      ],
      "text/plain": [
       "   Year                             region week  Disaster Count  \\\n",
       "0  1959  east north central midwest region    5               1   \n",
       "1  1964                pacific west region   52               2   \n",
       "2  1964                pacific west region   53               1   \n",
       "3  1965  east north central midwest region   15               3   \n",
       "4  1965  east north central midwest region   16               2   \n",
       "\n",
       "   AverageTemperature  \n",
       "0            0.961000  \n",
       "1            8.666500  \n",
       "2            1.133000  \n",
       "3            7.909667  \n",
       "4           17.155500  "
      ]
     },
     "execution_count": 124,
     "metadata": {},
     "output_type": "execute_result"
    }
   ],
   "source": [
    "join_group['week'] = join_group['week'].astype('object')\n",
    "join_group.rename(columns={'Disaster Type': 'Disaster Count'}, inplace=True)\n",
    "join_group.head()"
   ]
  },
  {
   "cell_type": "code",
   "execution_count": 125,
   "metadata": {},
   "outputs": [
    {
     "data": {
      "text/html": [
       "<div>\n",
       "<style scoped>\n",
       "    .dataframe tbody tr th:only-of-type {\n",
       "        vertical-align: middle;\n",
       "    }\n",
       "\n",
       "    .dataframe tbody tr th {\n",
       "        vertical-align: top;\n",
       "    }\n",
       "\n",
       "    .dataframe thead th {\n",
       "        text-align: right;\n",
       "    }\n",
       "</style>\n",
       "<table border=\"1\" class=\"dataframe\">\n",
       "  <thead>\n",
       "    <tr style=\"text-align: right;\">\n",
       "      <th></th>\n",
       "      <th>Year</th>\n",
       "      <th>Disaster Count</th>\n",
       "      <th>AverageTemperature</th>\n",
       "      <th>region_east north central midwest region</th>\n",
       "      <th>region_east south central south region</th>\n",
       "      <th>region_midatlantic northeast region</th>\n",
       "      <th>region_mountain west region</th>\n",
       "      <th>region_new england northeast region</th>\n",
       "      <th>region_pacific west region</th>\n",
       "      <th>region_south atlantic south region</th>\n",
       "      <th>...</th>\n",
       "      <th>week_44</th>\n",
       "      <th>week_45</th>\n",
       "      <th>week_46</th>\n",
       "      <th>week_47</th>\n",
       "      <th>week_48</th>\n",
       "      <th>week_49</th>\n",
       "      <th>week_50</th>\n",
       "      <th>week_51</th>\n",
       "      <th>week_52</th>\n",
       "      <th>week_53</th>\n",
       "    </tr>\n",
       "  </thead>\n",
       "  <tbody>\n",
       "    <tr>\n",
       "      <th>0</th>\n",
       "      <td>1959</td>\n",
       "      <td>1</td>\n",
       "      <td>0.961000</td>\n",
       "      <td>1</td>\n",
       "      <td>0</td>\n",
       "      <td>0</td>\n",
       "      <td>0</td>\n",
       "      <td>0</td>\n",
       "      <td>0</td>\n",
       "      <td>0</td>\n",
       "      <td>...</td>\n",
       "      <td>0</td>\n",
       "      <td>0</td>\n",
       "      <td>0</td>\n",
       "      <td>0</td>\n",
       "      <td>0</td>\n",
       "      <td>0</td>\n",
       "      <td>0</td>\n",
       "      <td>0</td>\n",
       "      <td>0</td>\n",
       "      <td>0</td>\n",
       "    </tr>\n",
       "    <tr>\n",
       "      <th>1</th>\n",
       "      <td>1964</td>\n",
       "      <td>2</td>\n",
       "      <td>8.666500</td>\n",
       "      <td>0</td>\n",
       "      <td>0</td>\n",
       "      <td>0</td>\n",
       "      <td>0</td>\n",
       "      <td>0</td>\n",
       "      <td>1</td>\n",
       "      <td>0</td>\n",
       "      <td>...</td>\n",
       "      <td>0</td>\n",
       "      <td>0</td>\n",
       "      <td>0</td>\n",
       "      <td>0</td>\n",
       "      <td>0</td>\n",
       "      <td>0</td>\n",
       "      <td>0</td>\n",
       "      <td>0</td>\n",
       "      <td>1</td>\n",
       "      <td>0</td>\n",
       "    </tr>\n",
       "    <tr>\n",
       "      <th>2</th>\n",
       "      <td>1964</td>\n",
       "      <td>1</td>\n",
       "      <td>1.133000</td>\n",
       "      <td>0</td>\n",
       "      <td>0</td>\n",
       "      <td>0</td>\n",
       "      <td>0</td>\n",
       "      <td>0</td>\n",
       "      <td>1</td>\n",
       "      <td>0</td>\n",
       "      <td>...</td>\n",
       "      <td>0</td>\n",
       "      <td>0</td>\n",
       "      <td>0</td>\n",
       "      <td>0</td>\n",
       "      <td>0</td>\n",
       "      <td>0</td>\n",
       "      <td>0</td>\n",
       "      <td>0</td>\n",
       "      <td>0</td>\n",
       "      <td>1</td>\n",
       "    </tr>\n",
       "    <tr>\n",
       "      <th>3</th>\n",
       "      <td>1965</td>\n",
       "      <td>3</td>\n",
       "      <td>7.909667</td>\n",
       "      <td>1</td>\n",
       "      <td>0</td>\n",
       "      <td>0</td>\n",
       "      <td>0</td>\n",
       "      <td>0</td>\n",
       "      <td>0</td>\n",
       "      <td>0</td>\n",
       "      <td>...</td>\n",
       "      <td>0</td>\n",
       "      <td>0</td>\n",
       "      <td>0</td>\n",
       "      <td>0</td>\n",
       "      <td>0</td>\n",
       "      <td>0</td>\n",
       "      <td>0</td>\n",
       "      <td>0</td>\n",
       "      <td>0</td>\n",
       "      <td>0</td>\n",
       "    </tr>\n",
       "    <tr>\n",
       "      <th>4</th>\n",
       "      <td>1965</td>\n",
       "      <td>2</td>\n",
       "      <td>17.155500</td>\n",
       "      <td>1</td>\n",
       "      <td>0</td>\n",
       "      <td>0</td>\n",
       "      <td>0</td>\n",
       "      <td>0</td>\n",
       "      <td>0</td>\n",
       "      <td>0</td>\n",
       "      <td>...</td>\n",
       "      <td>0</td>\n",
       "      <td>0</td>\n",
       "      <td>0</td>\n",
       "      <td>0</td>\n",
       "      <td>0</td>\n",
       "      <td>0</td>\n",
       "      <td>0</td>\n",
       "      <td>0</td>\n",
       "      <td>0</td>\n",
       "      <td>0</td>\n",
       "    </tr>\n",
       "  </tbody>\n",
       "</table>\n",
       "<p>5 rows × 65 columns</p>\n",
       "</div>"
      ],
      "text/plain": [
       "   Year  Disaster Count  AverageTemperature  \\\n",
       "0  1959               1            0.961000   \n",
       "1  1964               2            8.666500   \n",
       "2  1964               1            1.133000   \n",
       "3  1965               3            7.909667   \n",
       "4  1965               2           17.155500   \n",
       "\n",
       "   region_east north central midwest region  \\\n",
       "0                                         1   \n",
       "1                                         0   \n",
       "2                                         0   \n",
       "3                                         1   \n",
       "4                                         1   \n",
       "\n",
       "   region_east south central south region  \\\n",
       "0                                       0   \n",
       "1                                       0   \n",
       "2                                       0   \n",
       "3                                       0   \n",
       "4                                       0   \n",
       "\n",
       "   region_midatlantic northeast region  region_mountain west region  \\\n",
       "0                                    0                            0   \n",
       "1                                    0                            0   \n",
       "2                                    0                            0   \n",
       "3                                    0                            0   \n",
       "4                                    0                            0   \n",
       "\n",
       "   region_new england northeast region  region_pacific west region  \\\n",
       "0                                    0                           0   \n",
       "1                                    0                           1   \n",
       "2                                    0                           1   \n",
       "3                                    0                           0   \n",
       "4                                    0                           0   \n",
       "\n",
       "   region_south atlantic south region   ...     week_44  week_45  week_46  \\\n",
       "0                                   0   ...           0        0        0   \n",
       "1                                   0   ...           0        0        0   \n",
       "2                                   0   ...           0        0        0   \n",
       "3                                   0   ...           0        0        0   \n",
       "4                                   0   ...           0        0        0   \n",
       "\n",
       "   week_47  week_48  week_49  week_50  week_51  week_52  week_53  \n",
       "0        0        0        0        0        0        0        0  \n",
       "1        0        0        0        0        0        1        0  \n",
       "2        0        0        0        0        0        0        1  \n",
       "3        0        0        0        0        0        0        0  \n",
       "4        0        0        0        0        0        0        0  \n",
       "\n",
       "[5 rows x 65 columns]"
      ]
     },
     "execution_count": 125,
     "metadata": {},
     "output_type": "execute_result"
    }
   ],
   "source": [
    "# one-hot encode\n",
    "join_group = pd.get_dummies(join_group)\n",
    "join_group.head()"
   ]
  },
  {
   "cell_type": "code",
   "execution_count": 126,
   "metadata": {},
   "outputs": [],
   "source": [
    "# select labels\n",
    "labels = np.array(join_group['Disaster Count'])\n",
    "join_group = join_group.drop('Disaster Count', axis=1)\n",
    "join_group_list = list(join_group.columns)\n",
    "join_group = np.array(join_group)"
   ]
  },
  {
   "cell_type": "code",
   "execution_count": 127,
   "metadata": {},
   "outputs": [
    {
     "name": "stdout",
     "output_type": "stream",
     "text": [
      "Training Features Shape: (1215, 64)\n",
      "Training Labels Shape: (1215,)\n",
      "Testing Features Shape: (522, 64)\n",
      "Testing Labels Shape: (522,)\n"
     ]
    }
   ],
   "source": [
    "train_features, test_features, train_labels, test_labels = train_test_split(join_group, labels, test_size = 0.3, random_state = 42)\n",
    "\n",
    "print('Training Features Shape:', train_features.shape)\n",
    "print('Training Labels Shape:', train_labels.shape)\n",
    "print('Testing Features Shape:', test_features.shape)\n",
    "print('Testing Labels Shape:', test_labels.shape)"
   ]
  },
  {
   "cell_type": "code",
   "execution_count": 128,
   "metadata": {},
   "outputs": [
    {
     "data": {
      "text/plain": [
       "RandomForestRegressor(bootstrap=True, criterion='mse', max_depth=None,\n",
       "           max_features='auto', max_leaf_nodes=None,\n",
       "           min_impurity_decrease=0.0, min_impurity_split=None,\n",
       "           min_samples_leaf=1, min_samples_split=2,\n",
       "           min_weight_fraction_leaf=0.0, n_estimators=100, n_jobs=1,\n",
       "           oob_score=False, random_state=42, verbose=0, warm_start=False)"
      ]
     },
     "execution_count": 128,
     "metadata": {},
     "output_type": "execute_result"
    }
   ],
   "source": [
    "rf1 = RandomForestRegressor(n_estimators = 100, random_state = 42)\n",
    "rf1.fit(train_features, train_labels)"
   ]
  },
  {
   "cell_type": "code",
   "execution_count": 129,
   "metadata": {},
   "outputs": [],
   "source": [
    "predictions = rf1.predict(test_features)"
   ]
  },
  {
   "cell_type": "code",
   "execution_count": 117,
   "metadata": {},
   "outputs": [
    {
     "data": {
      "text/plain": [
       "array([1.04, 1.48, 1.5 , 1.47, 1.01, 1.13, 1.11, 1.31, 1.06, 1.17, 1.09,\n",
       "       1.28, 1.74, 1.04, 1.05, 1.37, 1.1 , 1.28, 1.25, 1.2 , 1.01, 1.03,\n",
       "       1.09, 1.37, 1.11, 1.  , 1.43, 1.35, 1.21, 2.04, 1.04, 1.05, 1.03,\n",
       "       1.  , 1.09, 1.11, 2.84, 1.04, 1.06, 1.5 , 1.  , 3.28, 1.06, 1.12,\n",
       "       1.54, 1.09, 1.06, 1.08, 1.18, 1.23, 1.05, 1.02, 1.03, 1.55, 1.09,\n",
       "       1.03, 2.74, 1.3 , 1.08, 1.71, 1.38, 1.68, 1.36, 3.05, 1.13, 1.09,\n",
       "       1.02, 1.22, 1.56, 1.35, 1.46, 1.  , 1.02, 1.49, 1.05, 1.  , 1.18,\n",
       "       1.03, 1.31, 1.51, 1.72, 1.  , 1.05, 1.19, 1.65, 1.04, 1.  , 1.05,\n",
       "       1.01, 1.87, 1.  , 1.05, 1.23, 1.19, 1.18, 1.02, 1.11, 1.78, 1.12,\n",
       "       1.07, 1.18, 1.32, 1.01, 1.32, 1.42, 1.42, 1.06, 1.  , 1.  , 1.56,\n",
       "       1.04, 1.  , 1.4 , 1.42, 1.11, 1.44, 1.03, 1.16, 1.07, 1.04, 1.02,\n",
       "       1.32, 1.12, 1.05, 1.22, 1.  , 1.02, 1.02, 1.18, 1.36, 1.03, 1.  ,\n",
       "       1.02, 1.16, 1.02, 1.54, 1.69, 1.92, 1.15, 1.01, 2.81, 1.71, 1.3 ,\n",
       "       1.1 , 1.01, 1.01, 1.08, 2.4 , 1.14, 1.27, 1.06, 1.  , 1.04, 1.06,\n",
       "       1.06, 1.26, 1.01, 1.47, 2.85, 1.09, 1.41, 1.01, 1.17, 1.23, 1.01,\n",
       "       1.05, 1.24, 1.01, 1.04, 1.11, 1.41, 1.22, 1.02, 1.07, 1.  , 1.55,\n",
       "       1.43, 1.19, 1.59, 1.07, 1.48, 1.04, 1.95, 1.01, 1.03, 1.  , 1.01,\n",
       "       1.12, 1.  , 1.05, 1.18, 1.42, 1.41, 1.33, 1.23, 1.13, 1.09, 1.24,\n",
       "       1.03, 1.12, 1.94, 1.54, 1.63, 1.2 , 1.8 , 1.01, 1.07, 1.  , 1.05,\n",
       "       1.07, 1.  , 1.15, 1.03, 1.01, 1.03, 2.36, 1.01, 1.25, 1.44, 1.77,\n",
       "       1.24, 1.01, 1.32, 1.71, 1.01, 1.07, 1.36, 1.  , 1.14, 1.11, 1.13,\n",
       "       1.06, 1.15, 1.33, 1.47, 2.18, 1.01, 1.44, 1.08, 1.04, 1.02, 1.42,\n",
       "       1.75, 1.18, 1.17, 1.35, 1.09, 1.85, 1.  , 1.08, 1.64, 1.08, 1.  ,\n",
       "       1.53, 1.01, 1.01, 1.82, 1.02, 1.4 , 1.  , 1.6 , 1.43, 1.12, 1.06,\n",
       "       1.19, 1.03, 1.39, 1.49, 1.89, 1.  , 1.05, 1.04, 1.27, 1.21, 1.09,\n",
       "       1.14, 1.06, 1.04, 1.29, 1.41, 1.08, 1.  , 1.8 , 1.04, 1.03, 1.44,\n",
       "       1.46, 1.92, 1.68, 1.  , 1.34, 1.1 , 1.  , 1.11, 1.11, 1.19, 1.2 ,\n",
       "       1.23, 1.23, 1.19, 1.43, 1.93, 1.09, 1.45, 1.06, 1.04, 1.01, 1.  ,\n",
       "       1.7 , 1.  , 1.05, 1.11, 1.4 , 1.61, 1.02, 1.35, 1.01, 1.  , 1.93,\n",
       "       1.  , 1.09, 1.04, 1.37, 1.05, 1.02, 1.01, 1.27, 1.25, 1.  , 1.23,\n",
       "       1.01, 1.21, 1.32, 1.  , 2.66, 1.37, 1.  , 1.58, 1.21, 1.01, 1.07,\n",
       "       1.06, 1.  , 1.01, 1.34, 1.  , 1.  , 1.07, 1.23, 1.14, 1.45, 1.  ,\n",
       "       2.98, 1.  , 1.01, 1.11, 1.03, 1.01, 1.12, 1.48, 1.  , 1.08, 1.45,\n",
       "       1.07, 1.06, 1.05, 1.12, 1.55, 1.  , 1.12, 1.21, 1.  , 2.43, 1.04,\n",
       "       1.26, 1.03, 1.56, 1.32, 1.03, 1.45, 2.7 , 1.06, 1.17, 1.21, 1.51,\n",
       "       1.66, 1.09, 1.05, 1.28, 1.4 , 1.  , 1.  , 1.68, 2.08, 1.13, 1.09,\n",
       "       1.06, 1.18, 1.1 , 1.18, 1.71, 1.12, 1.12, 1.69, 1.17, 1.1 , 1.08,\n",
       "       1.07, 1.06, 1.02, 1.09, 1.06, 1.53, 1.41, 1.25, 1.33, 1.13, 1.11,\n",
       "       1.06, 1.05, 1.59, 1.01, 1.85, 1.02, 1.02, 1.01, 1.  , 1.01, 1.12,\n",
       "       1.27, 1.64, 1.05, 1.36, 1.19, 1.99, 1.07, 1.11, 1.03, 1.1 , 1.28,\n",
       "       1.03, 2.31, 1.07, 1.33, 1.07, 1.02, 1.07, 1.02, 1.61, 1.  , 1.09,\n",
       "       2.02, 1.02, 1.54, 1.04, 1.25, 1.  , 1.12, 1.03, 1.1 , 1.08, 1.22,\n",
       "       1.16, 1.02, 1.06, 1.1 , 1.59, 1.  , 1.13, 1.  , 1.12, 1.33, 1.1 ,\n",
       "       1.04, 1.12, 1.04, 1.01, 1.  , 1.01, 1.01, 1.27, 1.3 , 1.12, 1.19,\n",
       "       1.06, 1.23, 1.11, 1.25, 1.12, 1.05, 1.99, 1.55, 1.02, 1.02, 1.59,\n",
       "       1.2 , 1.31, 1.24, 1.46, 1.07, 3.3 , 1.03, 1.1 , 1.12, 1.08, 1.01,\n",
       "       1.22, 1.09, 1.01, 1.14, 1.15, 1.03, 1.03, 1.02, 1.31, 1.04, 1.82,\n",
       "       1.12, 1.14, 1.01, 1.  , 1.43])"
      ]
     },
     "execution_count": 117,
     "metadata": {},
     "output_type": "execute_result"
    }
   ],
   "source": [
    "predictions"
   ]
  },
  {
   "cell_type": "code",
   "execution_count": null,
   "metadata": {},
   "outputs": [],
   "source": []
  },
  {
   "cell_type": "code",
   "execution_count": null,
   "metadata": {},
   "outputs": [],
   "source": []
  },
  {
   "cell_type": "code",
   "execution_count": null,
   "metadata": {},
   "outputs": [],
   "source": []
  },
  {
   "cell_type": "markdown",
   "metadata": {},
   "source": [
    "Furthermore, I will look at the top five most occurring natural disasters and see if there is a strong enough correlation to potentially model on. I will go through the top five disasters (storms, floods, fires, hurricanes, and tornados) and their respective regions."
   ]
  },
  {
   "cell_type": "markdown",
   "metadata": {},
   "source": [
    "### Storms"
   ]
  },
  {
   "cell_type": "code",
   "execution_count": 53,
   "metadata": {
    "scrolled": true
   },
   "outputs": [
    {
     "data": {
      "text/plain": [
       "Text(0,0.5,'Disaster Count')"
      ]
     },
     "execution_count": 53,
     "metadata": {},
     "output_type": "execute_result"
    },
    {
     "data": {
      "image/png": "[encoded data removed]",
      "text/plain": [
       "<Figure size 432x288 with 1 Axes>"
      ]
     },
     "metadata": {},
     "output_type": "display_data"
    }
   ],
   "source": [
    "# storm count by year for all regions\n",
    "stormdf = joindf[(joindf['Disaster Type']=='Storm')]\n",
    "stormdf = stormdf.groupby('Year').agg({'Disaster Type':'count',\n",
    "                                              'AverageTemperature':'mean'})\n",
    "\n",
    "plt.scatter(stormdf['AverageTemperature'], stormdf['Disaster Type'])\n",
    "plt.xlabel('Average Yearly Temperature')\n",
    "plt.ylabel('Disaster Count')"
   ]
  },
  {
   "cell_type": "code",
   "execution_count": 54,
   "metadata": {},
   "outputs": [
    {
     "data": {
      "text/html": [
       "<div>\n",
       "<style scoped>\n",
       "    .dataframe tbody tr th:only-of-type {\n",
       "        vertical-align: middle;\n",
       "    }\n",
       "\n",
       "    .dataframe tbody tr th {\n",
       "        vertical-align: top;\n",
       "    }\n",
       "\n",
       "    .dataframe thead th {\n",
       "        text-align: right;\n",
       "    }\n",
       "</style>\n",
       "<table border=\"1\" class=\"dataframe\">\n",
       "  <thead>\n",
       "    <tr style=\"text-align: right;\">\n",
       "      <th></th>\n",
       "      <th>Disaster Type</th>\n",
       "      <th>AverageTemperature</th>\n",
       "    </tr>\n",
       "  </thead>\n",
       "  <tbody>\n",
       "    <tr>\n",
       "      <th>Disaster Type</th>\n",
       "      <td>1.00000</td>\n",
       "      <td>0.00977</td>\n",
       "    </tr>\n",
       "    <tr>\n",
       "      <th>AverageTemperature</th>\n",
       "      <td>0.00977</td>\n",
       "      <td>1.00000</td>\n",
       "    </tr>\n",
       "  </tbody>\n",
       "</table>\n",
       "</div>"
      ],
      "text/plain": [
       "                    Disaster Type  AverageTemperature\n",
       "Disaster Type             1.00000             0.00977\n",
       "AverageTemperature        0.00977             1.00000"
      ]
     },
     "execution_count": 54,
     "metadata": {},
     "output_type": "execute_result"
    }
   ],
   "source": [
    "stormdf.corr()"
   ]
  },
  {
   "cell_type": "code",
   "execution_count": 55,
   "metadata": {},
   "outputs": [
    {
     "name": "stdout",
     "output_type": "stream",
     "text": [
      "slope: 0.018704    intercept: 14.012312    r-squared: 0.000095    p-value: 0.950417\n"
     ]
    }
   ],
   "source": [
    "# linear regression \n",
    "x = stormdf[['AverageTemperature']].values\n",
    "y = stormdf[['Disaster Type']].values\n",
    "\n",
    "slope, intercept, r_value, p_value, std_err = stats.linregress(x[:,0], y[:,0])\n",
    "print(\"slope: %f    intercept: %f    r-squared: %f    p-value: %f\" % (slope, intercept, r_value**2, p_value))"
   ]
  },
  {
   "cell_type": "markdown",
   "metadata": {},
   "source": [
    "The p-value is large for average temperature vs disaster count by year, thus we cannot reject the null hypothesis. I will look at the top couple of regions containing the most number of storms to see if there is a stronger correlation."
   ]
  },
  {
   "cell_type": "code",
   "execution_count": 56,
   "metadata": {
    "scrolled": true
   },
   "outputs": [
    {
     "data": {
      "text/plain": [
       "east south central south region      116\n",
       "west north central midwest region    107\n",
       "east north central midwest region     98\n",
       "west south central south region       90\n",
       "south atlantic south region           68\n",
       "Name: region, dtype: int64"
      ]
     },
     "execution_count": 56,
     "metadata": {},
     "output_type": "execute_result"
    }
   ],
   "source": [
    "# regional count of storms over time\n",
    "joindf[joindf['Disaster Type']=='Storm']['region'].value_counts().head()"
   ]
  },
  {
   "cell_type": "code",
   "execution_count": 57,
   "metadata": {
    "scrolled": true
   },
   "outputs": [
    {
     "data": {
      "text/plain": [
       "Text(0,0.5,'Disaster Count')"
      ]
     },
     "execution_count": 57,
     "metadata": {},
     "output_type": "execute_result"
    },
    {
     "data": {
      "image/png": "[encoded data removed]",
      "text/plain": [
       "<Figure size 432x288 with 1 Axes>"
      ]
     },
     "metadata": {},
     "output_type": "display_data"
    }
   ],
   "source": [
    "# storm count by year for top 5 regions with the most storms\n",
    "stormdf = joindf[(joindf['Disaster Type']=='Storm')&\n",
    "                 (joindf['region'].str.contains('east south central south region'))|\n",
    "                 (joindf['region'].str.contains('west north central midwest region'))|\n",
    "                 (joindf['region'].str.contains('east north central midwest region'))|\n",
    "                 (joindf['region'].str.contains('west south central south region'))|\n",
    "                 (joindf['region'].str.contains('south atlantic south region'))]\n",
    "stormdf = stormdf.groupby('Year').agg({'Disaster Type':'count',\n",
    "                                              'AverageTemperature':'mean'})\n",
    "\n",
    "plt.scatter(stormdf['AverageTemperature'], stormdf['Disaster Type'])\n",
    "plt.xlabel('Average Yearly Temperature')\n",
    "plt.ylabel('Disaster Count')"
   ]
  },
  {
   "cell_type": "code",
   "execution_count": 58,
   "metadata": {
    "scrolled": false
   },
   "outputs": [
    {
     "data": {
      "text/html": [
       "<div>\n",
       "<style scoped>\n",
       "    .dataframe tbody tr th:only-of-type {\n",
       "        vertical-align: middle;\n",
       "    }\n",
       "\n",
       "    .dataframe tbody tr th {\n",
       "        vertical-align: top;\n",
       "    }\n",
       "\n",
       "    .dataframe thead th {\n",
       "        text-align: right;\n",
       "    }\n",
       "</style>\n",
       "<table border=\"1\" class=\"dataframe\">\n",
       "  <thead>\n",
       "    <tr style=\"text-align: right;\">\n",
       "      <th></th>\n",
       "      <th>Disaster Type</th>\n",
       "      <th>AverageTemperature</th>\n",
       "    </tr>\n",
       "  </thead>\n",
       "  <tbody>\n",
       "    <tr>\n",
       "      <th>Disaster Type</th>\n",
       "      <td>1.000000</td>\n",
       "      <td>0.171993</td>\n",
       "    </tr>\n",
       "    <tr>\n",
       "      <th>AverageTemperature</th>\n",
       "      <td>0.171993</td>\n",
       "      <td>1.000000</td>\n",
       "    </tr>\n",
       "  </tbody>\n",
       "</table>\n",
       "</div>"
      ],
      "text/plain": [
       "                    Disaster Type  AverageTemperature\n",
       "Disaster Type            1.000000            0.171993\n",
       "AverageTemperature       0.171993            1.000000"
      ]
     },
     "execution_count": 58,
     "metadata": {},
     "output_type": "execute_result"
    }
   ],
   "source": [
    "stormdf.corr()"
   ]
  },
  {
   "cell_type": "code",
   "execution_count": 59,
   "metadata": {},
   "outputs": [
    {
     "name": "stdout",
     "output_type": "stream",
     "text": [
      "slope: 1.045391    intercept: 7.828184    r-squared: 0.029582    p-value: 0.232345\n"
     ]
    }
   ],
   "source": [
    "# linear regression \n",
    "x = stormdf[['AverageTemperature']].values\n",
    "y = stormdf[['Disaster Type']].values\n",
    "\n",
    "slope, intercept, r_value, p_value, std_err = stats.linregress(x[:,0], y[:,0])\n",
    "print(\"slope: %f    intercept: %f    r-squared: %f    p-value: %f\" % (slope, intercept, r_value**2, p_value))"
   ]
  },
  {
   "cell_type": "markdown",
   "metadata": {},
   "source": [
    "The correlation and p-value are better when selecting the regions having the most number of storms, however, the p-value is still too large to reject the null hypothesis. Therefore, for the storm data, there is not a strong enough trend to perform a model on."
   ]
  },
  {
   "cell_type": "markdown",
   "metadata": {},
   "source": [
    "### Floods"
   ]
  },
  {
   "cell_type": "code",
   "execution_count": 60,
   "metadata": {
    "scrolled": true
   },
   "outputs": [
    {
     "data": {
      "text/plain": [
       "Text(0,0.5,'Disaster Count')"
      ]
     },
     "execution_count": 60,
     "metadata": {},
     "output_type": "execute_result"
    },
    {
     "data": {
      "image/png": "[encoded data removed]",
      "text/plain": [
       "<Figure size 432x288 with 1 Axes>"
      ]
     },
     "metadata": {},
     "output_type": "display_data"
    }
   ],
   "source": [
    "# flood count by year for all regions\n",
    "flooddf = joindf[(joindf['Disaster Type']=='Flood')]\n",
    "flooddf = flooddf.groupby('Year').agg({'Disaster Type':'count',\n",
    "                                              'AverageTemperature':'mean'})\n",
    "\n",
    "plt.scatter(flooddf['AverageTemperature'], flooddf['Disaster Type'])\n",
    "plt.xlabel('Average Yearly Temperature')\n",
    "plt.ylabel('Disaster Count')"
   ]
  },
  {
   "cell_type": "code",
   "execution_count": 61,
   "metadata": {},
   "outputs": [
    {
     "data": {
      "text/html": [
       "<div>\n",
       "<style scoped>\n",
       "    .dataframe tbody tr th:only-of-type {\n",
       "        vertical-align: middle;\n",
       "    }\n",
       "\n",
       "    .dataframe tbody tr th {\n",
       "        vertical-align: top;\n",
       "    }\n",
       "\n",
       "    .dataframe thead th {\n",
       "        text-align: right;\n",
       "    }\n",
       "</style>\n",
       "<table border=\"1\" class=\"dataframe\">\n",
       "  <thead>\n",
       "    <tr style=\"text-align: right;\">\n",
       "      <th></th>\n",
       "      <th>Disaster Type</th>\n",
       "      <th>AverageTemperature</th>\n",
       "    </tr>\n",
       "  </thead>\n",
       "  <tbody>\n",
       "    <tr>\n",
       "      <th>Disaster Type</th>\n",
       "      <td>1.000000</td>\n",
       "      <td>0.065265</td>\n",
       "    </tr>\n",
       "    <tr>\n",
       "      <th>AverageTemperature</th>\n",
       "      <td>0.065265</td>\n",
       "      <td>1.000000</td>\n",
       "    </tr>\n",
       "  </tbody>\n",
       "</table>\n",
       "</div>"
      ],
      "text/plain": [
       "                    Disaster Type  AverageTemperature\n",
       "Disaster Type            1.000000            0.065265\n",
       "AverageTemperature       0.065265            1.000000"
      ]
     },
     "execution_count": 61,
     "metadata": {},
     "output_type": "execute_result"
    }
   ],
   "source": [
    "flooddf.corr()"
   ]
  },
  {
   "cell_type": "code",
   "execution_count": 62,
   "metadata": {},
   "outputs": [
    {
     "name": "stdout",
     "output_type": "stream",
     "text": [
      "slope: 0.108592    intercept: 7.614993    r-squared: 0.004260    p-value: 0.655932\n"
     ]
    }
   ],
   "source": [
    "# linear regression \n",
    "x = flooddf[['AverageTemperature']].values\n",
    "y = flooddf[['Disaster Type']].values\n",
    "\n",
    "slope, intercept, r_value, p_value, std_err = stats.linregress(x[:,0], y[:,0])\n",
    "print(\"slope: %f    intercept: %f    r-squared: %f    p-value: %f\" % (slope, intercept, r_value**2, p_value))"
   ]
  },
  {
   "cell_type": "code",
   "execution_count": 63,
   "metadata": {
    "scrolled": true
   },
   "outputs": [
    {
     "data": {
      "text/plain": [
       "west south central south region      80\n",
       "pacific west region                  73\n",
       "west north central midwest region    67\n",
       "east north central midwest region    59\n",
       "mountain west region                 50\n",
       "Name: region, dtype: int64"
      ]
     },
     "execution_count": 63,
     "metadata": {},
     "output_type": "execute_result"
    }
   ],
   "source": [
    "# regional count of floods over time\n",
    "joindf[joindf['Disaster Type']=='Flood']['region'].value_counts().head()"
   ]
  },
  {
   "cell_type": "code",
   "execution_count": 64,
   "metadata": {
    "scrolled": true
   },
   "outputs": [
    {
     "data": {
      "text/plain": [
       "Text(0,0.5,'Disaster Count')"
      ]
     },
     "execution_count": 64,
     "metadata": {},
     "output_type": "execute_result"
    },
    {
     "data": {
      "image/png": "[encoded data removed]",
      "text/plain": [
       "<Figure size 432x288 with 1 Axes>"
      ]
     },
     "metadata": {},
     "output_type": "display_data"
    }
   ],
   "source": [
    "# flood count by year for top 5 regions with the most storms\n",
    "flooddf = joindf[(joindf['Disaster Type']=='Storm')&\n",
    "                 (joindf['region'].str.contains('west south central south region'))|\n",
    "                 (joindf['region'].str.contains('pacific west region'))|\n",
    "                 (joindf['region'].str.contains('west north central midwest region'))|\n",
    "                 (joindf['region'].str.contains('east north central midwest region'))|\n",
    "                 (joindf['region'].str.contains('mountain west region'))]\n",
    "flooddf = flooddf.groupby('Year').agg({'Disaster Type':'count',\n",
    "                                              'AverageTemperature':'mean'})\n",
    "\n",
    "plt.scatter(flooddf['AverageTemperature'], flooddf['Disaster Type'])\n",
    "plt.xlabel('Average Yearly Temperature')\n",
    "plt.ylabel('Disaster Count')"
   ]
  },
  {
   "cell_type": "code",
   "execution_count": 65,
   "metadata": {
    "scrolled": false
   },
   "outputs": [
    {
     "data": {
      "text/html": [
       "<div>\n",
       "<style scoped>\n",
       "    .dataframe tbody tr th:only-of-type {\n",
       "        vertical-align: middle;\n",
       "    }\n",
       "\n",
       "    .dataframe tbody tr th {\n",
       "        vertical-align: top;\n",
       "    }\n",
       "\n",
       "    .dataframe thead th {\n",
       "        text-align: right;\n",
       "    }\n",
       "</style>\n",
       "<table border=\"1\" class=\"dataframe\">\n",
       "  <thead>\n",
       "    <tr style=\"text-align: right;\">\n",
       "      <th></th>\n",
       "      <th>Disaster Type</th>\n",
       "      <th>AverageTemperature</th>\n",
       "    </tr>\n",
       "  </thead>\n",
       "  <tbody>\n",
       "    <tr>\n",
       "      <th>Disaster Type</th>\n",
       "      <td>1.000000</td>\n",
       "      <td>0.283134</td>\n",
       "    </tr>\n",
       "    <tr>\n",
       "      <th>AverageTemperature</th>\n",
       "      <td>0.283134</td>\n",
       "      <td>1.000000</td>\n",
       "    </tr>\n",
       "  </tbody>\n",
       "</table>\n",
       "</div>"
      ],
      "text/plain": [
       "                    Disaster Type  AverageTemperature\n",
       "Disaster Type            1.000000            0.283134\n",
       "AverageTemperature       0.283134            1.000000"
      ]
     },
     "execution_count": 65,
     "metadata": {},
     "output_type": "execute_result"
    }
   ],
   "source": [
    "flooddf.corr()"
   ]
  },
  {
   "cell_type": "code",
   "execution_count": 66,
   "metadata": {},
   "outputs": [
    {
     "name": "stdout",
     "output_type": "stream",
     "text": [
      "slope: 1.273303    intercept: 3.559667    r-squared: 0.080165    p-value: 0.044088\n"
     ]
    }
   ],
   "source": [
    "# linear regression \n",
    "x = flooddf[['AverageTemperature']].values\n",
    "y = flooddf[['Disaster Type']].values\n",
    "\n",
    "slope, intercept, r_value, p_value, std_err = stats.linregress(x[:,0], y[:,0])\n",
    "print(\"slope: %f    intercept: %f    r-squared: %f    p-value: %f\" % (slope, intercept, r_value**2, p_value))"
   ]
  },
  {
   "cell_type": "markdown",
   "metadata": {},
   "source": [
    "I performed the same analysis, and when specifying the top regions of flooding, the p-value dropped to less than 0.05, which means that the null hypothesis can be rejected. Thus, a model can be used on the flood data."
   ]
  },
  {
   "cell_type": "markdown",
   "metadata": {},
   "source": [
    "### Fires"
   ]
  },
  {
   "cell_type": "code",
   "execution_count": 67,
   "metadata": {
    "scrolled": true
   },
   "outputs": [
    {
     "data": {
      "text/plain": [
       "Text(0,0.5,'Disaster Count')"
      ]
     },
     "execution_count": 67,
     "metadata": {},
     "output_type": "execute_result"
    },
    {
     "data": {
      "image/png": "[encoded data removed]",
      "text/plain": [
       "<Figure size 432x288 with 1 Axes>"
      ]
     },
     "metadata": {},
     "output_type": "display_data"
    }
   ],
   "source": [
    "# fire count by year for all regions\n",
    "firedf = joindf[(joindf['Disaster Type']=='Fire')]\n",
    "firedf = firedf.groupby('Year').agg({'Disaster Type':'count',\n",
    "                                              'AverageTemperature':'mean'})\n",
    "\n",
    "plt.scatter(firedf['AverageTemperature'], firedf['Disaster Type'])\n",
    "plt.xlabel('Average Yearly Temperature')\n",
    "plt.ylabel('Disaster Count')"
   ]
  },
  {
   "cell_type": "code",
   "execution_count": 68,
   "metadata": {},
   "outputs": [
    {
     "data": {
      "text/html": [
       "<div>\n",
       "<style scoped>\n",
       "    .dataframe tbody tr th:only-of-type {\n",
       "        vertical-align: middle;\n",
       "    }\n",
       "\n",
       "    .dataframe tbody tr th {\n",
       "        vertical-align: top;\n",
       "    }\n",
       "\n",
       "    .dataframe thead th {\n",
       "        text-align: right;\n",
       "    }\n",
       "</style>\n",
       "<table border=\"1\" class=\"dataframe\">\n",
       "  <thead>\n",
       "    <tr style=\"text-align: right;\">\n",
       "      <th></th>\n",
       "      <th>Disaster Type</th>\n",
       "      <th>AverageTemperature</th>\n",
       "    </tr>\n",
       "  </thead>\n",
       "  <tbody>\n",
       "    <tr>\n",
       "      <th>Disaster Type</th>\n",
       "      <td>1.000000</td>\n",
       "      <td>0.443328</td>\n",
       "    </tr>\n",
       "    <tr>\n",
       "      <th>AverageTemperature</th>\n",
       "      <td>0.443328</td>\n",
       "      <td>1.000000</td>\n",
       "    </tr>\n",
       "  </tbody>\n",
       "</table>\n",
       "</div>"
      ],
      "text/plain": [
       "                    Disaster Type  AverageTemperature\n",
       "Disaster Type            1.000000            0.443328\n",
       "AverageTemperature       0.443328            1.000000"
      ]
     },
     "execution_count": 68,
     "metadata": {},
     "output_type": "execute_result"
    }
   ],
   "source": [
    "firedf.corr()"
   ]
  },
  {
   "cell_type": "code",
   "execution_count": 69,
   "metadata": {},
   "outputs": [
    {
     "name": "stdout",
     "output_type": "stream",
     "text": [
      "slope: 1.190244    intercept: 0.138441    r-squared: 0.196540    p-value: 0.012493\n"
     ]
    }
   ],
   "source": [
    "# linear regression \n",
    "x = firedf[['AverageTemperature']].values\n",
    "y = firedf[['Disaster Type']].values\n",
    "\n",
    "slope, intercept, r_value, p_value, std_err = stats.linregress(x[:,0], y[:,0])\n",
    "print(\"slope: %f    intercept: %f    r-squared: %f    p-value: %f\" % (slope, intercept, r_value**2, p_value))"
   ]
  },
  {
   "cell_type": "code",
   "execution_count": 70,
   "metadata": {
    "scrolled": true
   },
   "outputs": [
    {
     "data": {
      "text/plain": [
       "pacific west region                174\n",
       "mountain west region               170\n",
       "west south central south region    151\n",
       "south atlantic south region         57\n",
       "east south central south region     12\n",
       "Name: region, dtype: int64"
      ]
     },
     "execution_count": 70,
     "metadata": {},
     "output_type": "execute_result"
    }
   ],
   "source": [
    "# regional count of fire over time\n",
    "joindf[joindf['Disaster Type']=='Fire']['region'].value_counts().head()"
   ]
  },
  {
   "cell_type": "code",
   "execution_count": 71,
   "metadata": {
    "scrolled": true
   },
   "outputs": [
    {
     "data": {
      "text/plain": [
       "Text(0,0.5,'Disaster Count')"
      ]
     },
     "execution_count": 71,
     "metadata": {},
     "output_type": "execute_result"
    },
    {
     "data": {
      "image/png": "[encoded data removed]",
      "text/plain": [
       "<Figure size 432x288 with 1 Axes>"
      ]
     },
     "metadata": {},
     "output_type": "display_data"
    }
   ],
   "source": [
    "# fire count by year for top 5 regions with the most storms\n",
    "firedf = joindf[(joindf['Disaster Type']=='Fire')&\n",
    "                 (joindf['region'].str.contains('pacific west region'))|\n",
    "                 (joindf['region'].str.contains('mountain west region'))|\n",
    "                 (joindf['region'].str.contains('west south central south region'))|\n",
    "                 (joindf['region'].str.contains('south atlantic south region'))|\n",
    "                 (joindf['region'].str.contains('east south central south region'))]\n",
    "firedf = firedf.groupby('Year').agg({'Disaster Type':'count',\n",
    "                                              'AverageTemperature':'mean'})\n",
    "\n",
    "plt.scatter(firedf['AverageTemperature'], firedf['Disaster Type'])\n",
    "plt.xlabel('Average Yearly Temperature')\n",
    "plt.ylabel('Disaster Count')"
   ]
  },
  {
   "cell_type": "code",
   "execution_count": 72,
   "metadata": {
    "scrolled": false
   },
   "outputs": [
    {
     "data": {
      "text/html": [
       "<div>\n",
       "<style scoped>\n",
       "    .dataframe tbody tr th:only-of-type {\n",
       "        vertical-align: middle;\n",
       "    }\n",
       "\n",
       "    .dataframe tbody tr th {\n",
       "        vertical-align: top;\n",
       "    }\n",
       "\n",
       "    .dataframe thead th {\n",
       "        text-align: right;\n",
       "    }\n",
       "</style>\n",
       "<table border=\"1\" class=\"dataframe\">\n",
       "  <thead>\n",
       "    <tr style=\"text-align: right;\">\n",
       "      <th></th>\n",
       "      <th>Disaster Type</th>\n",
       "      <th>AverageTemperature</th>\n",
       "    </tr>\n",
       "  </thead>\n",
       "  <tbody>\n",
       "    <tr>\n",
       "      <th>Disaster Type</th>\n",
       "      <td>1.000000</td>\n",
       "      <td>0.315015</td>\n",
       "    </tr>\n",
       "    <tr>\n",
       "      <th>AverageTemperature</th>\n",
       "      <td>0.315015</td>\n",
       "      <td>1.000000</td>\n",
       "    </tr>\n",
       "  </tbody>\n",
       "</table>\n",
       "</div>"
      ],
      "text/plain": [
       "                    Disaster Type  AverageTemperature\n",
       "Disaster Type            1.000000            0.315015\n",
       "AverageTemperature       0.315015            1.000000"
      ]
     },
     "execution_count": 72,
     "metadata": {},
     "output_type": "execute_result"
    }
   ],
   "source": [
    "firedf.corr()"
   ]
  },
  {
   "cell_type": "code",
   "execution_count": 73,
   "metadata": {},
   "outputs": [
    {
     "name": "stdout",
     "output_type": "stream",
     "text": [
      "slope: 3.188525    intercept: -28.708773    r-squared: 0.099234    p-value: 0.027479\n"
     ]
    }
   ],
   "source": [
    "# linear regression \n",
    "x = firedf[['AverageTemperature']].values\n",
    "y = firedf[['Disaster Type']].values\n",
    "\n",
    "slope, intercept, r_value, p_value, std_err = stats.linregress(x[:,0], y[:,0])\n",
    "print(\"slope: %f    intercept: %f    r-squared: %f    p-value: %f\" % (slope, intercept, r_value**2, p_value))"
   ]
  },
  {
   "cell_type": "markdown",
   "metadata": {},
   "source": [
    "The fire data shows significant p-values using all regions and when selecting the top few regions. In addition to the flood data, the fire data can be used for future modeling."
   ]
  },
  {
   "cell_type": "markdown",
   "metadata": {},
   "source": [
    "### Hurricanes"
   ]
  },
  {
   "cell_type": "code",
   "execution_count": 74,
   "metadata": {},
   "outputs": [
    {
     "data": {
      "text/plain": [
       "Text(0,0.5,'Disaster Count')"
      ]
     },
     "execution_count": 74,
     "metadata": {},
     "output_type": "execute_result"
    },
    {
     "data": {
      "image/png": "[encoded data removed]",
      "text/plain": [
       "<Figure size 432x288 with 1 Axes>"
      ]
     },
     "metadata": {},
     "output_type": "display_data"
    }
   ],
   "source": [
    "# hurricane count by year for all regions\n",
    "hurricanedf = joindf[(joindf['Disaster Type']=='Hurricane')]\n",
    "hurricanedf = hurricanedf.groupby('Year').agg({'Disaster Type':'count',\n",
    "                                               'AverageTemperature':'mean'})\n",
    "\n",
    "plt.scatter(hurricanedf['AverageTemperature'], hurricanedf['Disaster Type'])\n",
    "plt.xlabel('Average Yearly Temperature')\n",
    "plt.ylabel('Disaster Count')"
   ]
  },
  {
   "cell_type": "code",
   "execution_count": 75,
   "metadata": {},
   "outputs": [
    {
     "data": {
      "text/html": [
       "<div>\n",
       "<style scoped>\n",
       "    .dataframe tbody tr th:only-of-type {\n",
       "        vertical-align: middle;\n",
       "    }\n",
       "\n",
       "    .dataframe tbody tr th {\n",
       "        vertical-align: top;\n",
       "    }\n",
       "\n",
       "    .dataframe thead th {\n",
       "        text-align: right;\n",
       "    }\n",
       "</style>\n",
       "<table border=\"1\" class=\"dataframe\">\n",
       "  <thead>\n",
       "    <tr style=\"text-align: right;\">\n",
       "      <th></th>\n",
       "      <th>Disaster Type</th>\n",
       "      <th>AverageTemperature</th>\n",
       "    </tr>\n",
       "  </thead>\n",
       "  <tbody>\n",
       "    <tr>\n",
       "      <th>Disaster Type</th>\n",
       "      <td>1.000000</td>\n",
       "      <td>0.043427</td>\n",
       "    </tr>\n",
       "    <tr>\n",
       "      <th>AverageTemperature</th>\n",
       "      <td>0.043427</td>\n",
       "      <td>1.000000</td>\n",
       "    </tr>\n",
       "  </tbody>\n",
       "</table>\n",
       "</div>"
      ],
      "text/plain": [
       "                    Disaster Type  AverageTemperature\n",
       "Disaster Type            1.000000            0.043427\n",
       "AverageTemperature       0.043427            1.000000"
      ]
     },
     "execution_count": 75,
     "metadata": {},
     "output_type": "execute_result"
    }
   ],
   "source": [
    "hurricanedf.corr()"
   ]
  },
  {
   "cell_type": "code",
   "execution_count": 76,
   "metadata": {},
   "outputs": [
    {
     "name": "stdout",
     "output_type": "stream",
     "text": [
      "slope: 0.064047    intercept: 4.487914    r-squared: 0.001886    p-value: 0.810359\n"
     ]
    }
   ],
   "source": [
    "# linear regression \n",
    "x = hurricanedf[['AverageTemperature']].values\n",
    "y = hurricanedf[['Disaster Type']].values\n",
    "\n",
    "slope, intercept, r_value, p_value, std_err = stats.linregress(x[:,0], y[:,0])\n",
    "print(\"slope: %f    intercept: %f    r-squared: %f    p-value: %f\" % (slope, intercept, r_value**2, p_value))"
   ]
  },
  {
   "cell_type": "code",
   "execution_count": 77,
   "metadata": {
    "scrolled": true
   },
   "outputs": [
    {
     "data": {
      "text/plain": [
       "south atlantic south region        78\n",
       "west south central south region    40\n",
       "east south central south region    33\n",
       "midatlantic northeast region       18\n",
       "new england northeast region        8\n",
       "Name: region, dtype: int64"
      ]
     },
     "execution_count": 77,
     "metadata": {},
     "output_type": "execute_result"
    }
   ],
   "source": [
    "# regional count of hurricanes over time\n",
    "joindf[joindf['Disaster Type']=='Hurricane']['region'].value_counts().head()"
   ]
  },
  {
   "cell_type": "code",
   "execution_count": 78,
   "metadata": {
    "scrolled": true
   },
   "outputs": [
    {
     "data": {
      "text/plain": [
       "Text(0,0.5,'Disaster Count')"
      ]
     },
     "execution_count": 78,
     "metadata": {},
     "output_type": "execute_result"
    },
    {
     "data": {
      "image/png": "[encoded data removed]",
      "text/plain": [
       "<Figure size 432x288 with 1 Axes>"
      ]
     },
     "metadata": {},
     "output_type": "display_data"
    }
   ],
   "source": [
    "# hurricane count by year for top 3 regions with the most storms\n",
    "hurricanedf = joindf[(joindf['Disaster Type']=='Hurricane')&\n",
    "                 (joindf['region'].str.contains('south atlantic south region'))|\n",
    "                 (joindf['region'].str.contains('west south central south region'))|\n",
    "                 (joindf['region'].str.contains('east south central south region'))]\n",
    "hurricanedf = hurricanedf.groupby('Year').agg({'Disaster Type':'count',\n",
    "                                              'AverageTemperature':'mean'})\n",
    "\n",
    "plt.scatter(hurricanedf['AverageTemperature'], hurricanedf['Disaster Type'])\n",
    "plt.xlabel('Average Yearly Temperature')\n",
    "plt.ylabel('Disaster Count')"
   ]
  },
  {
   "cell_type": "code",
   "execution_count": 79,
   "metadata": {
    "scrolled": false
   },
   "outputs": [
    {
     "data": {
      "text/html": [
       "<div>\n",
       "<style scoped>\n",
       "    .dataframe tbody tr th:only-of-type {\n",
       "        vertical-align: middle;\n",
       "    }\n",
       "\n",
       "    .dataframe tbody tr th {\n",
       "        vertical-align: top;\n",
       "    }\n",
       "\n",
       "    .dataframe thead th {\n",
       "        text-align: right;\n",
       "    }\n",
       "</style>\n",
       "<table border=\"1\" class=\"dataframe\">\n",
       "  <thead>\n",
       "    <tr style=\"text-align: right;\">\n",
       "      <th></th>\n",
       "      <th>Disaster Type</th>\n",
       "      <th>AverageTemperature</th>\n",
       "    </tr>\n",
       "  </thead>\n",
       "  <tbody>\n",
       "    <tr>\n",
       "      <th>Disaster Type</th>\n",
       "      <td>1.000000</td>\n",
       "      <td>0.148129</td>\n",
       "    </tr>\n",
       "    <tr>\n",
       "      <th>AverageTemperature</th>\n",
       "      <td>0.148129</td>\n",
       "      <td>1.000000</td>\n",
       "    </tr>\n",
       "  </tbody>\n",
       "</table>\n",
       "</div>"
      ],
      "text/plain": [
       "                    Disaster Type  AverageTemperature\n",
       "Disaster Type            1.000000            0.148129\n",
       "AverageTemperature       0.148129            1.000000"
      ]
     },
     "execution_count": 79,
     "metadata": {},
     "output_type": "execute_result"
    }
   ],
   "source": [
    "hurricanedf.corr()"
   ]
  },
  {
   "cell_type": "code",
   "execution_count": 80,
   "metadata": {},
   "outputs": [
    {
     "name": "stdout",
     "output_type": "stream",
     "text": [
      "slope: 0.756013    intercept: 1.380308    r-squared: 0.021942    p-value: 0.309749\n"
     ]
    }
   ],
   "source": [
    "# linear regression \n",
    "x = hurricanedf[['AverageTemperature']].values\n",
    "y = hurricanedf[['Disaster Type']].values\n",
    "\n",
    "slope, intercept, r_value, p_value, std_err = stats.linregress(x[:,0], y[:,0])\n",
    "print(\"slope: %f    intercept: %f    r-squared: %f    p-value: %f\" % (slope, intercept, r_value**2, p_value))"
   ]
  },
  {
   "cell_type": "markdown",
   "metadata": {},
   "source": [
    "Hurricane data, similar to storm data, did not appear to have a strong correlation enough to have a low p-value. Thus, the null hypothesis cannot be rejected. "
   ]
  },
  {
   "cell_type": "markdown",
   "metadata": {},
   "source": [
    "### Tornados "
   ]
  },
  {
   "cell_type": "code",
   "execution_count": 81,
   "metadata": {},
   "outputs": [
    {
     "data": {
      "text/plain": [
       "Text(0,0.5,'Disaster Count')"
      ]
     },
     "execution_count": 81,
     "metadata": {},
     "output_type": "execute_result"
    },
    {
     "data": {
      "image/png": "[encoded data removed]",
      "text/plain": [
       "<Figure size 432x288 with 1 Axes>"
      ]
     },
     "metadata": {},
     "output_type": "display_data"
    }
   ],
   "source": [
    "# tornado count by year for all regions\n",
    "tornadodf = joindf[(joindf['Disaster Type']=='Tornado')]\n",
    "tornadodf = tornadodf.groupby('Year').agg({'Disaster Type':'count',\n",
    "                                               'AverageTemperature':'mean'})\n",
    "\n",
    "plt.scatter(tornadodf['AverageTemperature'], tornadodf['Disaster Type'])\n",
    "plt.xlabel('Average Yearly Temperature')\n",
    "plt.ylabel('Disaster Count')"
   ]
  },
  {
   "cell_type": "code",
   "execution_count": 82,
   "metadata": {
    "scrolled": true
   },
   "outputs": [
    {
     "data": {
      "text/html": [
       "<div>\n",
       "<style scoped>\n",
       "    .dataframe tbody tr th:only-of-type {\n",
       "        vertical-align: middle;\n",
       "    }\n",
       "\n",
       "    .dataframe tbody tr th {\n",
       "        vertical-align: top;\n",
       "    }\n",
       "\n",
       "    .dataframe thead th {\n",
       "        text-align: right;\n",
       "    }\n",
       "</style>\n",
       "<table border=\"1\" class=\"dataframe\">\n",
       "  <thead>\n",
       "    <tr style=\"text-align: right;\">\n",
       "      <th></th>\n",
       "      <th>Disaster Type</th>\n",
       "      <th>AverageTemperature</th>\n",
       "    </tr>\n",
       "  </thead>\n",
       "  <tbody>\n",
       "    <tr>\n",
       "      <th>Disaster Type</th>\n",
       "      <td>1.000000</td>\n",
       "      <td>-0.329665</td>\n",
       "    </tr>\n",
       "    <tr>\n",
       "      <th>AverageTemperature</th>\n",
       "      <td>-0.329665</td>\n",
       "      <td>1.000000</td>\n",
       "    </tr>\n",
       "  </tbody>\n",
       "</table>\n",
       "</div>"
      ],
      "text/plain": [
       "                    Disaster Type  AverageTemperature\n",
       "Disaster Type            1.000000           -0.329665\n",
       "AverageTemperature      -0.329665            1.000000"
      ]
     },
     "execution_count": 82,
     "metadata": {},
     "output_type": "execute_result"
    }
   ],
   "source": [
    "tornadodf.corr()"
   ]
  },
  {
   "cell_type": "code",
   "execution_count": 83,
   "metadata": {},
   "outputs": [
    {
     "name": "stdout",
     "output_type": "stream",
     "text": [
      "slope: -0.178398    intercept: 6.550155    r-squared: 0.108679    p-value: 0.040417\n"
     ]
    }
   ],
   "source": [
    "# linear regression \n",
    "x = tornadodf[['AverageTemperature']].values\n",
    "y = tornadodf[['Disaster Type']].values\n",
    "\n",
    "slope, intercept, r_value, p_value, std_err = stats.linregress(x[:,0], y[:,0])\n",
    "print(\"slope: %f    intercept: %f    r-squared: %f    p-value: %f\" % (slope, intercept, r_value**2, p_value))"
   ]
  },
  {
   "cell_type": "code",
   "execution_count": 84,
   "metadata": {},
   "outputs": [
    {
     "data": {
      "text/plain": [
       "west south central south region      39\n",
       "east north central midwest region    28\n",
       "east south central south region      24\n",
       "south atlantic south region          17\n",
       "west north central midwest region    16\n",
       "Name: region, dtype: int64"
      ]
     },
     "execution_count": 84,
     "metadata": {},
     "output_type": "execute_result"
    }
   ],
   "source": [
    "# regional count of tornados over time\n",
    "joindf[joindf['Disaster Type']=='Tornado']['region'].value_counts().head()"
   ]
  },
  {
   "cell_type": "code",
   "execution_count": 85,
   "metadata": {},
   "outputs": [
    {
     "data": {
      "text/plain": [
       "Text(0,0.5,'Disaster Count')"
      ]
     },
     "execution_count": 85,
     "metadata": {},
     "output_type": "execute_result"
    },
    {
     "data": {
      "image/png": "[encoded data removed]",
      "text/plain": [
       "<Figure size 432x288 with 1 Axes>"
      ]
     },
     "metadata": {},
     "output_type": "display_data"
    }
   ],
   "source": [
    "# tornado count by year for top 3 regions with the most storms\n",
    "tornadodf = joindf[(joindf['Disaster Type']=='Tornado')&\n",
    "                 (joindf['region'].str.contains('west south central south region'))|\n",
    "                 (joindf['region'].str.contains('east north central midwest region'))|\n",
    "                 (joindf['region'].str.contains('east south central south region'))|\n",
    "                 (joindf['region'].str.contains('south atlantic south region'))]\n",
    "tornadodf = tornadodf.groupby('Year').agg({'Disaster Type':'count',\n",
    "                                              'AverageTemperature':'mean'})\n",
    "\n",
    "plt.scatter(tornadodf['AverageTemperature'], tornadodf['Disaster Type'])\n",
    "plt.xlabel('Average Yearly Temperature')\n",
    "plt.ylabel('Disaster Count')"
   ]
  },
  {
   "cell_type": "code",
   "execution_count": 86,
   "metadata": {},
   "outputs": [
    {
     "data": {
      "text/html": [
       "<div>\n",
       "<style scoped>\n",
       "    .dataframe tbody tr th:only-of-type {\n",
       "        vertical-align: middle;\n",
       "    }\n",
       "\n",
       "    .dataframe tbody tr th {\n",
       "        vertical-align: top;\n",
       "    }\n",
       "\n",
       "    .dataframe thead th {\n",
       "        text-align: right;\n",
       "    }\n",
       "</style>\n",
       "<table border=\"1\" class=\"dataframe\">\n",
       "  <thead>\n",
       "    <tr style=\"text-align: right;\">\n",
       "      <th></th>\n",
       "      <th>Disaster Type</th>\n",
       "      <th>AverageTemperature</th>\n",
       "    </tr>\n",
       "  </thead>\n",
       "  <tbody>\n",
       "    <tr>\n",
       "      <th>Disaster Type</th>\n",
       "      <td>1.00000</td>\n",
       "      <td>0.32204</td>\n",
       "    </tr>\n",
       "    <tr>\n",
       "      <th>AverageTemperature</th>\n",
       "      <td>0.32204</td>\n",
       "      <td>1.00000</td>\n",
       "    </tr>\n",
       "  </tbody>\n",
       "</table>\n",
       "</div>"
      ],
      "text/plain": [
       "                    Disaster Type  AverageTemperature\n",
       "Disaster Type             1.00000             0.32204\n",
       "AverageTemperature        0.32204             1.00000"
      ]
     },
     "execution_count": 86,
     "metadata": {},
     "output_type": "execute_result"
    }
   ],
   "source": [
    "tornadodf.corr()"
   ]
  },
  {
   "cell_type": "code",
   "execution_count": 87,
   "metadata": {},
   "outputs": [
    {
     "name": "stdout",
     "output_type": "stream",
     "text": [
      "slope: 0.915712    intercept: 1.421531    r-squared: 0.103710    p-value: 0.022566\n"
     ]
    }
   ],
   "source": [
    "# linear regression \n",
    "x = tornadodf[['AverageTemperature']].values\n",
    "y = tornadodf[['Disaster Type']].values\n",
    "\n",
    "slope, intercept, r_value, p_value, std_err = stats.linregress(x[:,0], y[:,0])\n",
    "print(\"slope: %f    intercept: %f    r-squared: %f    p-value: %f\" % (slope, intercept, r_value**2, p_value))"
   ]
  },
  {
   "cell_type": "code",
   "execution_count": null,
   "metadata": {},
   "outputs": [],
   "source": []
  },
  {
   "cell_type": "markdown",
   "metadata": {},
   "source": [
    "# TEST CODE RANDOM FOREST"
   ]
  },
  {
   "cell_type": "code",
   "execution_count": null,
   "metadata": {},
   "outputs": [],
   "source": []
  },
  {
   "cell_type": "code",
   "execution_count": null,
   "metadata": {},
   "outputs": [],
   "source": []
  },
  {
   "cell_type": "markdown",
   "metadata": {},
   "source": [
    "# Temp data"
   ]
  },
  {
   "cell_type": "code",
   "execution_count": 88,
   "metadata": {},
   "outputs": [
    {
     "data": {
      "text/html": [
       "<div>\n",
       "<style scoped>\n",
       "    .dataframe tbody tr th:only-of-type {\n",
       "        vertical-align: middle;\n",
       "    }\n",
       "\n",
       "    .dataframe tbody tr th {\n",
       "        vertical-align: top;\n",
       "    }\n",
       "\n",
       "    .dataframe thead th {\n",
       "        text-align: right;\n",
       "    }\n",
       "</style>\n",
       "<table border=\"1\" class=\"dataframe\">\n",
       "  <thead>\n",
       "    <tr style=\"text-align: right;\">\n",
       "      <th></th>\n",
       "      <th>dt</th>\n",
       "      <th>AverageTemperature</th>\n",
       "      <th>AverageTemperatureUncertainty</th>\n",
       "      <th>City</th>\n",
       "      <th>Country</th>\n",
       "      <th>Latitude</th>\n",
       "      <th>Longitude</th>\n",
       "      <th>lat_n</th>\n",
       "      <th>lon_n</th>\n",
       "      <th>state</th>\n",
       "      <th>county</th>\n",
       "      <th>countyname</th>\n",
       "      <th>year</th>\n",
       "      <th>month</th>\n",
       "      <th>season</th>\n",
       "      <th>region</th>\n",
       "      <th>date_delta</th>\n",
       "    </tr>\n",
       "  </thead>\n",
       "  <tbody>\n",
       "    <tr>\n",
       "      <th>0</th>\n",
       "      <td>1820-01-01</td>\n",
       "      <td>2.101</td>\n",
       "      <td>3.217</td>\n",
       "      <td>Abilene</td>\n",
       "      <td>United States</td>\n",
       "      <td>32.95N</td>\n",
       "      <td>100.53W</td>\n",
       "      <td>32.95</td>\n",
       "      <td>-100.53</td>\n",
       "      <td>TX</td>\n",
       "      <td>Fisher</td>\n",
       "      <td>Fisher County</td>\n",
       "      <td>1820</td>\n",
       "      <td>1</td>\n",
       "      <td>Winter</td>\n",
       "      <td>west south central south region</td>\n",
       "      <td>27819.0</td>\n",
       "    </tr>\n",
       "    <tr>\n",
       "      <th>1</th>\n",
       "      <td>1820-02-01</td>\n",
       "      <td>6.926</td>\n",
       "      <td>2.853</td>\n",
       "      <td>Abilene</td>\n",
       "      <td>United States</td>\n",
       "      <td>32.95N</td>\n",
       "      <td>100.53W</td>\n",
       "      <td>32.95</td>\n",
       "      <td>-100.53</td>\n",
       "      <td>TX</td>\n",
       "      <td>Fisher</td>\n",
       "      <td>Fisher County</td>\n",
       "      <td>1820</td>\n",
       "      <td>2</td>\n",
       "      <td>Winter</td>\n",
       "      <td>west south central south region</td>\n",
       "      <td>27850.0</td>\n",
       "    </tr>\n",
       "    <tr>\n",
       "      <th>2</th>\n",
       "      <td>1820-03-01</td>\n",
       "      <td>10.767</td>\n",
       "      <td>2.395</td>\n",
       "      <td>Abilene</td>\n",
       "      <td>United States</td>\n",
       "      <td>32.95N</td>\n",
       "      <td>100.53W</td>\n",
       "      <td>32.95</td>\n",
       "      <td>-100.53</td>\n",
       "      <td>TX</td>\n",
       "      <td>Fisher</td>\n",
       "      <td>Fisher County</td>\n",
       "      <td>1820</td>\n",
       "      <td>3</td>\n",
       "      <td>Spring</td>\n",
       "      <td>west south central south region</td>\n",
       "      <td>27879.0</td>\n",
       "    </tr>\n",
       "    <tr>\n",
       "      <th>3</th>\n",
       "      <td>1820-04-01</td>\n",
       "      <td>17.989</td>\n",
       "      <td>2.202</td>\n",
       "      <td>Abilene</td>\n",
       "      <td>United States</td>\n",
       "      <td>32.95N</td>\n",
       "      <td>100.53W</td>\n",
       "      <td>32.95</td>\n",
       "      <td>-100.53</td>\n",
       "      <td>TX</td>\n",
       "      <td>Fisher</td>\n",
       "      <td>Fisher County</td>\n",
       "      <td>1820</td>\n",
       "      <td>4</td>\n",
       "      <td>Spring</td>\n",
       "      <td>west south central south region</td>\n",
       "      <td>27910.0</td>\n",
       "    </tr>\n",
       "    <tr>\n",
       "      <th>4</th>\n",
       "      <td>1820-05-01</td>\n",
       "      <td>21.809</td>\n",
       "      <td>2.036</td>\n",
       "      <td>Abilene</td>\n",
       "      <td>United States</td>\n",
       "      <td>32.95N</td>\n",
       "      <td>100.53W</td>\n",
       "      <td>32.95</td>\n",
       "      <td>-100.53</td>\n",
       "      <td>TX</td>\n",
       "      <td>Fisher</td>\n",
       "      <td>Fisher County</td>\n",
       "      <td>1820</td>\n",
       "      <td>5</td>\n",
       "      <td>Spring</td>\n",
       "      <td>west south central south region</td>\n",
       "      <td>27940.0</td>\n",
       "    </tr>\n",
       "  </tbody>\n",
       "</table>\n",
       "</div>"
      ],
      "text/plain": [
       "          dt  AverageTemperature  AverageTemperatureUncertainty     City  \\\n",
       "0 1820-01-01               2.101                          3.217  Abilene   \n",
       "1 1820-02-01               6.926                          2.853  Abilene   \n",
       "2 1820-03-01              10.767                          2.395  Abilene   \n",
       "3 1820-04-01              17.989                          2.202  Abilene   \n",
       "4 1820-05-01              21.809                          2.036  Abilene   \n",
       "\n",
       "         Country Latitude Longitude  lat_n   lon_n state  county  \\\n",
       "0  United States   32.95N   100.53W  32.95 -100.53    TX  Fisher   \n",
       "1  United States   32.95N   100.53W  32.95 -100.53    TX  Fisher   \n",
       "2  United States   32.95N   100.53W  32.95 -100.53    TX  Fisher   \n",
       "3  United States   32.95N   100.53W  32.95 -100.53    TX  Fisher   \n",
       "4  United States   32.95N   100.53W  32.95 -100.53    TX  Fisher   \n",
       "\n",
       "      countyname  year  month  season                           region  \\\n",
       "0  Fisher County  1820      1  Winter  west south central south region   \n",
       "1  Fisher County  1820      2  Winter  west south central south region   \n",
       "2  Fisher County  1820      3  Spring  west south central south region   \n",
       "3  Fisher County  1820      4  Spring  west south central south region   \n",
       "4  Fisher County  1820      5  Spring  west south central south region   \n",
       "\n",
       "   date_delta  \n",
       "0     27819.0  \n",
       "1     27850.0  \n",
       "2     27879.0  \n",
       "3     27910.0  \n",
       "4     27940.0  "
      ]
     },
     "execution_count": 88,
     "metadata": {},
     "output_type": "execute_result"
    }
   ],
   "source": [
    "bindf = temp_county_region.copy()\n",
    "bindf.head()"
   ]
  },
  {
   "cell_type": "code",
   "execution_count": null,
   "metadata": {},
   "outputs": [],
   "source": []
  },
  {
   "cell_type": "code",
   "execution_count": 89,
   "metadata": {},
   "outputs": [],
   "source": [
    "bindf = bindf[['date_delta','AverageTemperature','season','region']]"
   ]
  },
  {
   "cell_type": "code",
   "execution_count": 90,
   "metadata": {},
   "outputs": [
    {
     "data": {
      "text/html": [
       "<div>\n",
       "<style scoped>\n",
       "    .dataframe tbody tr th:only-of-type {\n",
       "        vertical-align: middle;\n",
       "    }\n",
       "\n",
       "    .dataframe tbody tr th {\n",
       "        vertical-align: top;\n",
       "    }\n",
       "\n",
       "    .dataframe thead th {\n",
       "        text-align: right;\n",
       "    }\n",
       "</style>\n",
       "<table border=\"1\" class=\"dataframe\">\n",
       "  <thead>\n",
       "    <tr style=\"text-align: right;\">\n",
       "      <th></th>\n",
       "      <th>date_delta</th>\n",
       "      <th>AverageTemperature</th>\n",
       "      <th>season_Fall</th>\n",
       "      <th>season_Spring</th>\n",
       "      <th>season_Summer</th>\n",
       "      <th>season_Winter</th>\n",
       "      <th>region_east north central midwest region</th>\n",
       "      <th>region_east south central south region</th>\n",
       "      <th>region_midatlantic northeast region</th>\n",
       "      <th>region_mountain west region</th>\n",
       "      <th>region_new england northeast region</th>\n",
       "      <th>region_pacific west region</th>\n",
       "      <th>region_south atlantic south region</th>\n",
       "      <th>region_west north central midwest region</th>\n",
       "      <th>region_west south central south region</th>\n",
       "    </tr>\n",
       "  </thead>\n",
       "  <tbody>\n",
       "    <tr>\n",
       "      <th>0</th>\n",
       "      <td>27819.0</td>\n",
       "      <td>2.101</td>\n",
       "      <td>0</td>\n",
       "      <td>0</td>\n",
       "      <td>0</td>\n",
       "      <td>1</td>\n",
       "      <td>0</td>\n",
       "      <td>0</td>\n",
       "      <td>0</td>\n",
       "      <td>0</td>\n",
       "      <td>0</td>\n",
       "      <td>0</td>\n",
       "      <td>0</td>\n",
       "      <td>0</td>\n",
       "      <td>1</td>\n",
       "    </tr>\n",
       "    <tr>\n",
       "      <th>1</th>\n",
       "      <td>27850.0</td>\n",
       "      <td>6.926</td>\n",
       "      <td>0</td>\n",
       "      <td>0</td>\n",
       "      <td>0</td>\n",
       "      <td>1</td>\n",
       "      <td>0</td>\n",
       "      <td>0</td>\n",
       "      <td>0</td>\n",
       "      <td>0</td>\n",
       "      <td>0</td>\n",
       "      <td>0</td>\n",
       "      <td>0</td>\n",
       "      <td>0</td>\n",
       "      <td>1</td>\n",
       "    </tr>\n",
       "    <tr>\n",
       "      <th>2</th>\n",
       "      <td>27879.0</td>\n",
       "      <td>10.767</td>\n",
       "      <td>0</td>\n",
       "      <td>1</td>\n",
       "      <td>0</td>\n",
       "      <td>0</td>\n",
       "      <td>0</td>\n",
       "      <td>0</td>\n",
       "      <td>0</td>\n",
       "      <td>0</td>\n",
       "      <td>0</td>\n",
       "      <td>0</td>\n",
       "      <td>0</td>\n",
       "      <td>0</td>\n",
       "      <td>1</td>\n",
       "    </tr>\n",
       "    <tr>\n",
       "      <th>3</th>\n",
       "      <td>27910.0</td>\n",
       "      <td>17.989</td>\n",
       "      <td>0</td>\n",
       "      <td>1</td>\n",
       "      <td>0</td>\n",
       "      <td>0</td>\n",
       "      <td>0</td>\n",
       "      <td>0</td>\n",
       "      <td>0</td>\n",
       "      <td>0</td>\n",
       "      <td>0</td>\n",
       "      <td>0</td>\n",
       "      <td>0</td>\n",
       "      <td>0</td>\n",
       "      <td>1</td>\n",
       "    </tr>\n",
       "    <tr>\n",
       "      <th>4</th>\n",
       "      <td>27940.0</td>\n",
       "      <td>21.809</td>\n",
       "      <td>0</td>\n",
       "      <td>1</td>\n",
       "      <td>0</td>\n",
       "      <td>0</td>\n",
       "      <td>0</td>\n",
       "      <td>0</td>\n",
       "      <td>0</td>\n",
       "      <td>0</td>\n",
       "      <td>0</td>\n",
       "      <td>0</td>\n",
       "      <td>0</td>\n",
       "      <td>0</td>\n",
       "      <td>1</td>\n",
       "    </tr>\n",
       "  </tbody>\n",
       "</table>\n",
       "</div>"
      ],
      "text/plain": [
       "   date_delta  AverageTemperature  season_Fall  season_Spring  season_Summer  \\\n",
       "0     27819.0               2.101            0              0              0   \n",
       "1     27850.0               6.926            0              0              0   \n",
       "2     27879.0              10.767            0              1              0   \n",
       "3     27910.0              17.989            0              1              0   \n",
       "4     27940.0              21.809            0              1              0   \n",
       "\n",
       "   season_Winter  region_east north central midwest region  \\\n",
       "0              1                                         0   \n",
       "1              1                                         0   \n",
       "2              0                                         0   \n",
       "3              0                                         0   \n",
       "4              0                                         0   \n",
       "\n",
       "   region_east south central south region  \\\n",
       "0                                       0   \n",
       "1                                       0   \n",
       "2                                       0   \n",
       "3                                       0   \n",
       "4                                       0   \n",
       "\n",
       "   region_midatlantic northeast region  region_mountain west region  \\\n",
       "0                                    0                            0   \n",
       "1                                    0                            0   \n",
       "2                                    0                            0   \n",
       "3                                    0                            0   \n",
       "4                                    0                            0   \n",
       "\n",
       "   region_new england northeast region  region_pacific west region  \\\n",
       "0                                    0                           0   \n",
       "1                                    0                           0   \n",
       "2                                    0                           0   \n",
       "3                                    0                           0   \n",
       "4                                    0                           0   \n",
       "\n",
       "   region_south atlantic south region  \\\n",
       "0                                   0   \n",
       "1                                   0   \n",
       "2                                   0   \n",
       "3                                   0   \n",
       "4                                   0   \n",
       "\n",
       "   region_west north central midwest region  \\\n",
       "0                                         0   \n",
       "1                                         0   \n",
       "2                                         0   \n",
       "3                                         0   \n",
       "4                                         0   \n",
       "\n",
       "   region_west south central south region  \n",
       "0                                       1  \n",
       "1                                       1  \n",
       "2                                       1  \n",
       "3                                       1  \n",
       "4                                       1  "
      ]
     },
     "execution_count": 90,
     "metadata": {},
     "output_type": "execute_result"
    }
   ],
   "source": [
    "# one-hot encode\n",
    "bindf = pd.get_dummies(bindf)\n",
    "bindf.head()"
   ]
  },
  {
   "cell_type": "code",
   "execution_count": 91,
   "metadata": {},
   "outputs": [],
   "source": [
    "labels = np.array(bindf['AverageTemperature'])\n",
    "bindf = bindf.drop('AverageTemperature', axis=1)\n",
    "bindf_list = list(bindf.columns)\n",
    "bindf = np.array(bindf)"
   ]
  },
  {
   "cell_type": "code",
   "execution_count": 92,
   "metadata": {},
   "outputs": [
    {
     "name": "stdout",
     "output_type": "stream",
     "text": [
      "Training Features Shape: (463066, 14)\n",
      "Training Labels Shape: (463066,)\n",
      "Testing Features Shape: (198458, 14)\n",
      "Testing Labels Shape: (198458,)\n"
     ]
    }
   ],
   "source": [
    "train_features, test_features, train_labels, test_labels = train_test_split(bindf, labels, test_size = 0.3, random_state = 42)\n",
    "\n",
    "print('Training Features Shape:', train_features.shape)\n",
    "print('Training Labels Shape:', train_labels.shape)\n",
    "print('Testing Features Shape:', test_features.shape)\n",
    "print('Testing Labels Shape:', test_labels.shape)"
   ]
  },
  {
   "cell_type": "code",
   "execution_count": 93,
   "metadata": {},
   "outputs": [
    {
     "data": {
      "text/plain": [
       "RandomForestRegressor(bootstrap=True, criterion='mse', max_depth=None,\n",
       "           max_features='auto', max_leaf_nodes=None,\n",
       "           min_impurity_decrease=0.0, min_impurity_split=None,\n",
       "           min_samples_leaf=1, min_samples_split=2,\n",
       "           min_weight_fraction_leaf=0.0, n_estimators=100, n_jobs=1,\n",
       "           oob_score=False, random_state=42, verbose=0, warm_start=False)"
      ]
     },
     "execution_count": 93,
     "metadata": {},
     "output_type": "execute_result"
    }
   ],
   "source": [
    "rf = RandomForestRegressor(n_estimators = 100, random_state = 42)\n",
    "rf.fit(train_features, train_labels)"
   ]
  },
  {
   "cell_type": "code",
   "execution_count": 94,
   "metadata": {},
   "outputs": [],
   "source": [
    "predictions = rf.predict(test_features)"
   ]
  },
  {
   "cell_type": "code",
   "execution_count": 95,
   "metadata": {},
   "outputs": [
    {
     "name": "stdout",
     "output_type": "stream",
     "text": [
      "[20.94512113  6.79671551 17.56887172 ... 23.34699144 19.17696785\n",
      " 15.82970565] [17.996  9.045 15.821 ... 23.15  19.254  8.453]\n"
     ]
    }
   ],
   "source": [
    "print(predictions, test_labels)"
   ]
  },
  {
   "cell_type": "code",
   "execution_count": 96,
   "metadata": {},
   "outputs": [
    {
     "name": "stdout",
     "output_type": "stream",
     "text": [
      "[[5.0373e+04 1.0000e+00 0.0000e+00 ... 1.0000e+00 0.0000e+00 0.0000e+00]\n",
      " [3.6220e+04 0.0000e+00 0.0000e+00 ... 0.0000e+00 0.0000e+00 0.0000e+00]\n",
      " [5.0708e+04 1.0000e+00 0.0000e+00 ... 0.0000e+00 0.0000e+00 0.0000e+00]\n",
      " ...\n",
      " [9.4141e+04 0.0000e+00 0.0000e+00 ... 0.0000e+00 0.0000e+00 0.0000e+00]\n",
      " [3.3449e+04 0.0000e+00 0.0000e+00 ... 0.0000e+00 0.0000e+00 0.0000e+00]\n",
      " [7.4509e+04 1.0000e+00 0.0000e+00 ... 1.0000e+00 0.0000e+00 0.0000e+00]]\n"
     ]
    }
   ],
   "source": [
    "print(test_features)"
   ]
  },
  {
   "cell_type": "code",
   "execution_count": null,
   "metadata": {},
   "outputs": [],
   "source": []
  },
  {
   "cell_type": "code",
   "execution_count": null,
   "metadata": {},
   "outputs": [],
   "source": []
  },
  {
   "cell_type": "code",
   "execution_count": null,
   "metadata": {},
   "outputs": [],
   "source": []
  },
  {
   "cell_type": "code",
   "execution_count": null,
   "metadata": {},
   "outputs": [],
   "source": []
  },
  {
   "cell_type": "code",
   "execution_count": null,
   "metadata": {},
   "outputs": [],
   "source": []
  },
  {
   "cell_type": "code",
   "execution_count": null,
   "metadata": {},
   "outputs": [],
   "source": []
  },
  {
   "cell_type": "code",
   "execution_count": null,
   "metadata": {},
   "outputs": [],
   "source": []
  },
  {
   "cell_type": "code",
   "execution_count": null,
   "metadata": {},
   "outputs": [],
   "source": []
  },
  {
   "cell_type": "code",
   "execution_count": null,
   "metadata": {},
   "outputs": [],
   "source": []
  },
  {
   "cell_type": "code",
   "execution_count": null,
   "metadata": {},
   "outputs": [],
   "source": []
  },
  {
   "cell_type": "code",
   "execution_count": null,
   "metadata": {},
   "outputs": [],
   "source": []
  },
  {
   "cell_type": "code",
   "execution_count": null,
   "metadata": {},
   "outputs": [],
   "source": []
  },
  {
   "cell_type": "code",
   "execution_count": null,
   "metadata": {},
   "outputs": [],
   "source": []
  },
  {
   "cell_type": "code",
   "execution_count": null,
   "metadata": {},
   "outputs": [],
   "source": []
  },
  {
   "cell_type": "code",
   "execution_count": null,
   "metadata": {},
   "outputs": [],
   "source": []
  }
 ],
 "metadata": {
  "kernelspec": {
   "display_name": "Python 3",
   "language": "python",
   "name": "python3"
  },
  "language_info": {
   "codemirror_mode": {
    "name": "ipython",
    "version": 3
   },
   "file_extension": ".py",
   "mimetype": "text/x-python",
   "name": "python",
   "nbconvert_exporter": "python",
   "pygments_lexer": "ipython3",
   "version": "3.6.5"
  }
 },
 "nbformat": 4,
 "nbformat_minor": 2
}
